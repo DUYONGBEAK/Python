{
 "cells": [
  {
   "cell_type": "markdown",
   "metadata": {},
   "source": [
    "# NumPy 한번에 제대로 배우기"
   ]
  },
  {
   "cell_type": "markdown",
   "metadata": {},
   "source": [
    "### NumPy 특징\n",
    "##### ● Numerical Python의 약자\n",
    "##### ● 고성능 과학 계산용 패키지로 강력한 N차원 배열 객체\n",
    "##### ● 범용적 데이터 처리에 사용 가능한 다차원 컨테이너\n",
    "##### ● 정교한 브로드캐스팅(broadcasting) 기능\n",
    "##### ● 파이썬의 자료형 list와 비슷하지만, 더 빠르고 메모리를 효율적으로 관리\n",
    "##### ● 반복문 없이 데이터 배열에 대한 처리를 지원하여 빠르고 편리\n",
    "##### ● 데이터 과학 도구에 대한 생태계의 핵심을 이루고 있음"
   ]
  },
  {
   "cell_type": "code",
   "execution_count": 2,
   "metadata": {},
   "outputs": [
    {
     "data": {
      "text/plain": [
       "'1.19.2'"
      ]
     },
     "execution_count": 2,
     "metadata": {},
     "output_type": "execute_result"
    }
   ],
   "source": [
    "import numpy as np\n",
    "np.__version__"
   ]
  },
  {
   "cell_type": "markdown",
   "metadata": {},
   "source": [
    "## 배열생성"
   ]
  },
  {
   "cell_type": "markdown",
   "metadata": {},
   "source": [
    "#### 리스트로 배열 만들기"
   ]
  },
  {
   "cell_type": "code",
   "execution_count": 4,
   "metadata": {},
   "outputs": [
    {
     "name": "stdout",
     "output_type": "stream",
     "text": [
      "[1 2 3 4 5]\n",
      "<class 'numpy.ndarray'>\n",
      "(5,)\n",
      "1 2 3 4 5\n",
      "[4 5 6 4 5]\n"
     ]
    }
   ],
   "source": [
    "#1차원\n",
    "a1 = np.array([1,2,3,4,5])\n",
    "print(a1)\n",
    "print(type(a1))\n",
    "print(a1.shape)\n",
    "print(a1[0],a1[1],a1[2],a1[3],a1[4])\n",
    "a1[0] = 4\n",
    "a1[1] = 5\n",
    "a1[2] = 6\n",
    "print(a1)"
   ]
  },
  {
   "cell_type": "code",
   "execution_count": 5,
   "metadata": {},
   "outputs": [
    {
     "name": "stdout",
     "output_type": "stream",
     "text": [
      "[[1 2 3]\n",
      " [4 5 6]\n",
      " [7 8 9]]\n",
      "<class 'numpy.ndarray'>\n",
      "(3, 3)\n",
      "1 5 9\n"
     ]
    }
   ],
   "source": [
    "#2차원\n",
    "a2 = np.array([[1,2,3],[4,5,6],[7,8,9]])\n",
    "print(a2)\n",
    "print(type(a2))\n",
    "print(a2.shape)\n",
    "print(a2[0,0],a2[1,1],a2[2,2])"
   ]
  },
  {
   "cell_type": "code",
   "execution_count": 6,
   "metadata": {},
   "outputs": [
    {
     "name": "stdout",
     "output_type": "stream",
     "text": [
      "[[[1 2 3]\n",
      "  [4 5 6]\n",
      "  [7 8 9]]\n",
      "\n",
      " [[1 2 3]\n",
      "  [4 5 6]\n",
      "  [7 8 9]]\n",
      "\n",
      " [[1 2 3]\n",
      "  [4 5 6]\n",
      "  [7 8 9]]]\n",
      "<class 'numpy.ndarray'>\n",
      "(3, 3, 3)\n"
     ]
    }
   ],
   "source": [
    "#3차원\n",
    "a3 = np.array([ [ [1,2,3],[4,5,6],[7,8,9] ],\n",
    "               [ [1,2,3],[4,5,6],[7,8,9] ],\n",
    "               [ [1,2,3],[4,5,6],[7,8,9] ] ])\n",
    "print(a3)\n",
    "print(type(a3))\n",
    "print(a3.shape)"
   ]
  },
  {
   "cell_type": "markdown",
   "metadata": {},
   "source": [
    "#### 배열 생성 및 초기화"
   ]
  },
  {
   "cell_type": "code",
   "execution_count": 7,
   "metadata": {},
   "outputs": [
    {
     "data": {
      "text/plain": [
       "array([0., 0., 0., 0., 0., 0., 0., 0., 0., 0.])"
      ]
     },
     "execution_count": 7,
     "metadata": {},
     "output_type": "execute_result"
    }
   ],
   "source": [
    "np.zeros(10)"
   ]
  },
  {
   "cell_type": "code",
   "execution_count": 8,
   "metadata": {},
   "outputs": [
    {
     "data": {
      "text/plain": [
       "array([[1., 1., 1.],\n",
       "       [1., 1., 1.],\n",
       "       [1., 1., 1.]])"
      ]
     },
     "execution_count": 8,
     "metadata": {},
     "output_type": "execute_result"
    }
   ],
   "source": [
    "np.ones((3,3))"
   ]
  },
  {
   "cell_type": "code",
   "execution_count": 9,
   "metadata": {},
   "outputs": [
    {
     "data": {
      "text/plain": [
       "array([[1.23, 1.23, 1.23],\n",
       "       [1.23, 1.23, 1.23],\n",
       "       [1.23, 1.23, 1.23]])"
      ]
     },
     "execution_count": 9,
     "metadata": {},
     "output_type": "execute_result"
    }
   ],
   "source": [
    "#full은 어떤 값으로 채워야 하는지를 입력해야 한다.\n",
    "np.full((3,3),1.23)"
   ]
  },
  {
   "cell_type": "code",
   "execution_count": 10,
   "metadata": {},
   "outputs": [
    {
     "data": {
      "text/plain": [
       "array([[1., 0., 0.],\n",
       "       [0., 1., 0.],\n",
       "       [0., 0., 1.]])"
      ]
     },
     "execution_count": 10,
     "metadata": {},
     "output_type": "execute_result"
    }
   ],
   "source": [
    "#단위행렬\n",
    "np.eye(3)"
   ]
  },
  {
   "cell_type": "code",
   "execution_count": 11,
   "metadata": {},
   "outputs": [
    {
     "data": {
      "text/plain": [
       "array([[1., 0., 0.],\n",
       "       [1., 1., 0.],\n",
       "       [1., 1., 1.]])"
      ]
     },
     "execution_count": 11,
     "metadata": {},
     "output_type": "execute_result"
    }
   ],
   "source": [
    "#삼각행렬\n",
    "np.tri(3)"
   ]
  },
  {
   "cell_type": "code",
   "execution_count": 12,
   "metadata": {},
   "outputs": [
    {
     "data": {
      "text/plain": [
       "array([0., 0., 0., 0., 0., 0., 0., 0., 0., 0.])"
      ]
     },
     "execution_count": 12,
     "metadata": {},
     "output_type": "execute_result"
    }
   ],
   "source": [
    "#empty는 초기화를 하지 않아서 빠르다. \n",
    "#만약 값이 들어있다면 무작위로 어딘가 배열의 주소를 참조하여 값을 보여준다.\n",
    "np.empty(10)"
   ]
  },
  {
   "cell_type": "code",
   "execution_count": 13,
   "metadata": {},
   "outputs": [
    {
     "name": "stdout",
     "output_type": "stream",
     "text": [
      "[4 5 6 4 5]\n"
     ]
    },
    {
     "data": {
      "text/plain": [
       "array([0, 0, 0, 0, 0])"
      ]
     },
     "execution_count": 13,
     "metadata": {},
     "output_type": "execute_result"
    }
   ],
   "source": [
    "print(a1)\n",
    "np.zeros_like(a1)"
   ]
  },
  {
   "cell_type": "code",
   "execution_count": 14,
   "metadata": {},
   "outputs": [
    {
     "name": "stdout",
     "output_type": "stream",
     "text": [
      "[[1 2 3]\n",
      " [4 5 6]\n",
      " [7 8 9]]\n"
     ]
    },
    {
     "data": {
      "text/plain": [
       "array([[1, 1, 1],\n",
       "       [1, 1, 1],\n",
       "       [1, 1, 1]])"
      ]
     },
     "execution_count": 14,
     "metadata": {},
     "output_type": "execute_result"
    }
   ],
   "source": [
    "print(a2)\n",
    "np.ones_like(a2)"
   ]
  },
  {
   "cell_type": "code",
   "execution_count": 15,
   "metadata": {},
   "outputs": [
    {
     "name": "stdout",
     "output_type": "stream",
     "text": [
      "[[[1 2 3]\n",
      "  [4 5 6]\n",
      "  [7 8 9]]\n",
      "\n",
      " [[1 2 3]\n",
      "  [4 5 6]\n",
      "  [7 8 9]]\n",
      "\n",
      " [[1 2 3]\n",
      "  [4 5 6]\n",
      "  [7 8 9]]]\n"
     ]
    },
    {
     "data": {
      "text/plain": [
       "array([[[10, 10, 10],\n",
       "        [10, 10, 10],\n",
       "        [10, 10, 10]],\n",
       "\n",
       "       [[10, 10, 10],\n",
       "        [10, 10, 10],\n",
       "        [10, 10, 10]],\n",
       "\n",
       "       [[10, 10, 10],\n",
       "        [10, 10, 10],\n",
       "        [10, 10, 10]]])"
      ]
     },
     "execution_count": 15,
     "metadata": {},
     "output_type": "execute_result"
    }
   ],
   "source": [
    "print(a3)\n",
    "np.full_like(a3,10)"
   ]
  },
  {
   "cell_type": "markdown",
   "metadata": {},
   "source": [
    "#### 생성한 값으로 배열 생성"
   ]
  },
  {
   "cell_type": "code",
   "execution_count": 16,
   "metadata": {},
   "outputs": [
    {
     "data": {
      "text/plain": [
       "array([ 0,  2,  4,  6,  8, 10, 12, 14, 16, 18, 20, 22, 24, 26, 28])"
      ]
     },
     "execution_count": 16,
     "metadata": {},
     "output_type": "execute_result"
    }
   ],
   "source": [
    "#정수 범위로 배열 생성\n",
    "np.arange(0,30,2)"
   ]
  },
  {
   "cell_type": "code",
   "execution_count": 17,
   "metadata": {},
   "outputs": [
    {
     "data": {
      "text/plain": [
       "array([0.  , 0.25, 0.5 , 0.75, 1.  ])"
      ]
     },
     "execution_count": 17,
     "metadata": {},
     "output_type": "execute_result"
    }
   ],
   "source": [
    "# 범위 내에서 균등 간격의 배열 생성\n",
    "np.linspace(0,1,5)"
   ]
  },
  {
   "cell_type": "code",
   "execution_count": 18,
   "metadata": {},
   "outputs": [
    {
     "data": {
      "text/plain": [
       "array([ 1.25892541,  1.40400425,  1.565802  ,  1.74624535,  1.94748304,\n",
       "        2.1719114 ,  2.42220294,  2.70133812,  3.0126409 ,  3.35981829,\n",
       "        3.74700446,  4.17881006,  4.66037703,  5.19743987,  5.79639395,\n",
       "        6.46437163,  7.2093272 ,  8.04013161,  8.9666781 , 10.        ])"
      ]
     },
     "execution_count": 18,
     "metadata": {},
     "output_type": "execute_result"
    }
   ],
   "source": [
    "# 범위 내에서 균등 간격으로 로그 스케일로 배열 생성\n",
    "np.logspace(0.1,1,20)"
   ]
  },
  {
   "cell_type": "markdown",
   "metadata": {},
   "source": [
    "#### 랜덤값으로 배열 생성"
   ]
  },
  {
   "cell_type": "code",
   "execution_count": 19,
   "metadata": {},
   "outputs": [
    {
     "data": {
      "text/plain": [
       "array([[0.2628001 , 0.73214242, 0.74108789],\n",
       "       [0.82429343, 0.1070705 , 0.09393312],\n",
       "       [0.20918565, 0.76451217, 0.48224977]])"
      ]
     },
     "execution_count": 19,
     "metadata": {},
     "output_type": "execute_result"
    }
   ],
   "source": [
    "np.random.random((3,3))"
   ]
  },
  {
   "cell_type": "code",
   "execution_count": 20,
   "metadata": {},
   "outputs": [
    {
     "data": {
      "text/plain": [
       "array([[2, 4, 3],\n",
       "       [2, 8, 6],\n",
       "       [1, 4, 5]])"
      ]
     },
     "execution_count": 20,
     "metadata": {},
     "output_type": "execute_result"
    }
   ],
   "source": [
    "np.random.randint(0,10,(3,3))"
   ]
  },
  {
   "cell_type": "code",
   "execution_count": 21,
   "metadata": {},
   "outputs": [
    {
     "data": {
      "text/plain": [
       "array([[-0.42283172,  0.99120522, -1.09288941],\n",
       "       [ 0.63491081, -0.45341372, -0.7921761 ],\n",
       "       [ 2.5781144 , -1.36980308, -0.94165445]])"
      ]
     },
     "execution_count": 21,
     "metadata": {},
     "output_type": "execute_result"
    }
   ],
   "source": [
    "# 정규분포를 고려한 랜덤한 수의 배열 생성\n",
    "np.random.normal(0,1,(3,3))"
   ]
  },
  {
   "cell_type": "code",
   "execution_count": 22,
   "metadata": {},
   "outputs": [
    {
     "data": {
      "text/plain": [
       "array([[0.08332079, 0.24436056, 0.48918138],\n",
       "       [0.03568785, 0.23653661, 0.36430927],\n",
       "       [0.6516042 , 0.31395272, 0.85098982]])"
      ]
     },
     "execution_count": 22,
     "metadata": {},
     "output_type": "execute_result"
    }
   ],
   "source": [
    "# 균등분포를 고려한 랜덤한 수의 배열 생성\n",
    "np.random.rand(3,3)"
   ]
  },
  {
   "cell_type": "code",
   "execution_count": 23,
   "metadata": {},
   "outputs": [
    {
     "data": {
      "text/plain": [
       "array([[-2.01823536, -1.12480828, -0.81704587],\n",
       "       [-0.15639242, -0.57064055, -0.31256047],\n",
       "       [ 0.5605349 , -0.32445691,  1.25872714]])"
      ]
     },
     "execution_count": 23,
     "metadata": {},
     "output_type": "execute_result"
    }
   ],
   "source": [
    "# 표준 정규분포를 고려한 랜덤한 수의 배열 생성\n",
    "np.random.randn(3,3)"
   ]
  },
  {
   "cell_type": "markdown",
   "metadata": {},
   "source": [
    "#### 표준 데이터 타입"
   ]
  },
  {
   "cell_type": "code",
   "execution_count": 24,
   "metadata": {},
   "outputs": [
    {
     "data": {
      "text/plain": [
       "array([0, 0, 0, 0, 0, 0, 0, 0, 0, 0, 0, 0, 0, 0, 0, 0, 0, 0, 0, 0])"
      ]
     },
     "execution_count": 24,
     "metadata": {},
     "output_type": "execute_result"
    }
   ],
   "source": [
    "np.zeros(20,dtype=int)"
   ]
  },
  {
   "cell_type": "code",
   "execution_count": 25,
   "metadata": {},
   "outputs": [
    {
     "data": {
      "text/plain": [
       "array([[ True,  True,  True],\n",
       "       [ True,  True,  True],\n",
       "       [ True,  True,  True]])"
      ]
     },
     "execution_count": 25,
     "metadata": {},
     "output_type": "execute_result"
    }
   ],
   "source": [
    "np.ones((3,3),dtype=bool)"
   ]
  },
  {
   "cell_type": "code",
   "execution_count": 26,
   "metadata": {},
   "outputs": [
    {
     "data": {
      "text/plain": [
       "array([[1., 1., 1.],\n",
       "       [1., 1., 1.],\n",
       "       [1., 1., 1.]])"
      ]
     },
     "execution_count": 26,
     "metadata": {},
     "output_type": "execute_result"
    }
   ],
   "source": [
    "np.full((3,3),1.0,dtype=float)"
   ]
  },
  {
   "cell_type": "markdown",
   "metadata": {},
   "source": [
    "#### 날짜/시간 배열 생성"
   ]
  },
  {
   "cell_type": "code",
   "execution_count": 27,
   "metadata": {},
   "outputs": [
    {
     "data": {
      "text/plain": [
       "array('2020-01-01', dtype='datetime64[D]')"
      ]
     },
     "execution_count": 27,
     "metadata": {},
     "output_type": "execute_result"
    }
   ],
   "source": [
    "date = np.array('2020-01-01',dtype=np.datetime64)\n",
    "date"
   ]
  },
  {
   "cell_type": "code",
   "execution_count": 28,
   "metadata": {},
   "outputs": [
    {
     "data": {
      "text/plain": [
       "array(['2020-01-01', '2020-01-02', '2020-01-03', '2020-01-04',\n",
       "       '2020-01-05', '2020-01-06', '2020-01-07', '2020-01-08',\n",
       "       '2020-01-09', '2020-01-10', '2020-01-11', '2020-01-12'],\n",
       "      dtype='datetime64[D]')"
      ]
     },
     "execution_count": 28,
     "metadata": {},
     "output_type": "execute_result"
    }
   ],
   "source": [
    "date + np.arange(12)"
   ]
  },
  {
   "cell_type": "code",
   "execution_count": 29,
   "metadata": {},
   "outputs": [
    {
     "data": {
      "text/plain": [
       "numpy.datetime64('2020-06-01T12:00')"
      ]
     },
     "execution_count": 29,
     "metadata": {},
     "output_type": "execute_result"
    }
   ],
   "source": [
    "datetime = np.datetime64('2020-06-01 12:00')\n",
    "datetime"
   ]
  },
  {
   "cell_type": "code",
   "execution_count": 30,
   "metadata": {},
   "outputs": [
    {
     "data": {
      "text/plain": [
       "numpy.datetime64('2020-06-01T12:00:12.340000000')"
      ]
     },
     "execution_count": 30,
     "metadata": {},
     "output_type": "execute_result"
    }
   ],
   "source": [
    "datetime = np.datetime64('2020-06-01 12:00:12.34','ns')\n",
    "datetime"
   ]
  },
  {
   "cell_type": "markdown",
   "metadata": {},
   "source": [
    "## 배열 조회"
   ]
  },
  {
   "cell_type": "markdown",
   "metadata": {},
   "source": [
    "#### 배열 속성 정보"
   ]
  },
  {
   "cell_type": "code",
   "execution_count": 31,
   "metadata": {},
   "outputs": [],
   "source": [
    "def array_info(array):\n",
    "    print(array)\n",
    "    print(\"ndim:\",array.ndim) #차원\n",
    "    print(\"shape:\",array.shape)\n",
    "    print(\"dtype:\",array.dtype)\n",
    "    print(\"size:\",array.size)\n",
    "    print(\"itemsize:\",array.itemsize) #한개당 크기를 의미(byte)\n",
    "    print(\"nbytes:\",array.nbytes) #전체크기(byte)\n",
    "    print(\"strides:\",array.strides) #다음차원으로 넘어가기 위한 크기"
   ]
  },
  {
   "cell_type": "code",
   "execution_count": 32,
   "metadata": {},
   "outputs": [
    {
     "name": "stdout",
     "output_type": "stream",
     "text": [
      "[4 5 6 4 5]\n",
      "ndim: 1\n",
      "shape: (5,)\n",
      "dtype: int32\n",
      "size: 5\n",
      "itemsize: 4\n",
      "nbytes: 20\n",
      "strides: (4,)\n"
     ]
    }
   ],
   "source": [
    "array_info(a1)"
   ]
  },
  {
   "cell_type": "code",
   "execution_count": 33,
   "metadata": {},
   "outputs": [
    {
     "name": "stdout",
     "output_type": "stream",
     "text": [
      "[[1 2 3]\n",
      " [4 5 6]\n",
      " [7 8 9]]\n",
      "ndim: 2\n",
      "shape: (3, 3)\n",
      "dtype: int32\n",
      "size: 9\n",
      "itemsize: 4\n",
      "nbytes: 36\n",
      "strides: (12, 4)\n"
     ]
    }
   ],
   "source": [
    "array_info(a2)"
   ]
  },
  {
   "cell_type": "code",
   "execution_count": 34,
   "metadata": {},
   "outputs": [
    {
     "name": "stdout",
     "output_type": "stream",
     "text": [
      "[[[1 2 3]\n",
      "  [4 5 6]\n",
      "  [7 8 9]]\n",
      "\n",
      " [[1 2 3]\n",
      "  [4 5 6]\n",
      "  [7 8 9]]\n",
      "\n",
      " [[1 2 3]\n",
      "  [4 5 6]\n",
      "  [7 8 9]]]\n",
      "ndim: 3\n",
      "shape: (3, 3, 3)\n",
      "dtype: int32\n",
      "size: 27\n",
      "itemsize: 4\n",
      "nbytes: 108\n",
      "strides: (36, 12, 4)\n"
     ]
    }
   ],
   "source": [
    "array_info(a3)"
   ]
  },
  {
   "cell_type": "markdown",
   "metadata": {},
   "source": [
    "#### 인덱싱(Indexing)"
   ]
  },
  {
   "cell_type": "code",
   "execution_count": 35,
   "metadata": {},
   "outputs": [
    {
     "name": "stdout",
     "output_type": "stream",
     "text": [
      "[4 5 6 4 5]\n",
      "4\n",
      "6\n",
      "5\n",
      "4\n"
     ]
    }
   ],
   "source": [
    "print(a1)\n",
    "print(a1[0])\n",
    "print(a1[2])\n",
    "print(a1[-1])\n",
    "print(a1[-2])"
   ]
  },
  {
   "cell_type": "code",
   "execution_count": 36,
   "metadata": {},
   "outputs": [
    {
     "name": "stdout",
     "output_type": "stream",
     "text": [
      "[[1 2 3]\n",
      " [4 5 6]\n",
      " [7 8 9]]\n",
      "1\n",
      "3\n",
      "8\n",
      "9\n"
     ]
    }
   ],
   "source": [
    "print(a2)\n",
    "print(a2[0,0])\n",
    "print(a2[0,2])\n",
    "print(a2[-1,1])\n",
    "print(a2[2,-1])"
   ]
  },
  {
   "cell_type": "code",
   "execution_count": 37,
   "metadata": {},
   "outputs": [
    {
     "name": "stdout",
     "output_type": "stream",
     "text": [
      "[[[1 2 3]\n",
      "  [4 5 6]\n",
      "  [7 8 9]]\n",
      "\n",
      " [[1 2 3]\n",
      "  [4 5 6]\n",
      "  [7 8 9]]\n",
      "\n",
      " [[1 2 3]\n",
      "  [4 5 6]\n",
      "  [7 8 9]]]\n",
      "1\n",
      "5\n",
      "9\n",
      "9\n"
     ]
    }
   ],
   "source": [
    "print(a3)\n",
    "print(a3[0,0,0])\n",
    "print(a3[1,1,1])\n",
    "print(a3[2,2,2])\n",
    "print(a3[2,-1,-1])"
   ]
  },
  {
   "cell_type": "markdown",
   "metadata": {},
   "source": [
    "#### 슬라이싱(Slicing)\n",
    "##### 슬라이싱 구문: a[start:stop:step]\n",
    "##### 기본값: start=0, stop=ndim, step=1"
   ]
  },
  {
   "cell_type": "code",
   "execution_count": 41,
   "metadata": {},
   "outputs": [
    {
     "name": "stdout",
     "output_type": "stream",
     "text": [
      "[4 5 6 4 5]\n",
      "[4 5]\n",
      "[4 5 6 4 5]\n",
      "[4]\n",
      "[4 6 5]\n",
      "[5 4 6 5 4]\n"
     ]
    }
   ],
   "source": [
    "print(a1)\n",
    "print(a1[0:2])\n",
    "print(a1[0:])\n",
    "print(a1[:1])\n",
    "print(a1[::2])\n",
    "print(a1[::-1])"
   ]
  },
  {
   "cell_type": "code",
   "execution_count": 42,
   "metadata": {},
   "outputs": [
    {
     "name": "stdout",
     "output_type": "stream",
     "text": [
      "[[1 2 3]\n",
      " [4 5 6]\n",
      " [7 8 9]]\n",
      "[4 5 6]\n",
      "[4 5 6]\n",
      "[[1 2]\n",
      " [4 5]]\n",
      "[[6 5 4]\n",
      " [9 8 7]]\n",
      "[[9 8 7]\n",
      " [6 5 4]\n",
      " [3 2 1]]\n"
     ]
    }
   ],
   "source": [
    "print(a2)\n",
    "print(a2[1])\n",
    "print(a2[1,:])\n",
    "print(a2[:2,:2])\n",
    "print(a2[1:,::-1])\n",
    "print(a2[::-1,::-1])"
   ]
  },
  {
   "cell_type": "markdown",
   "metadata": {},
   "source": [
    "#### 불리언 인덱싱(Boolean Indexing)\n",
    "##### 배열 각 요소의 선택 여부를 불리언(True or False)로 지정\n",
    "##### True 값인 인덱스의 값만 조회"
   ]
  },
  {
   "cell_type": "code",
   "execution_count": 43,
   "metadata": {},
   "outputs": [
    {
     "name": "stdout",
     "output_type": "stream",
     "text": [
      "[4 5 6 4 5]\n",
      "[5 6 5]\n",
      "[4 6 4 5]\n"
     ]
    }
   ],
   "source": [
    "print(a1)\n",
    "bi = [False,True,True,False,True]\n",
    "print(a1[bi])\n",
    "bi = [True,False,True,True,True]\n",
    "print(a1[bi])"
   ]
  },
  {
   "cell_type": "code",
   "execution_count": 44,
   "metadata": {},
   "outputs": [
    {
     "name": "stdout",
     "output_type": "stream",
     "text": [
      "[[1 2 3]\n",
      " [4 5 6]\n",
      " [7 8 9]]\n",
      "[[False  True False]\n",
      " [False False False]\n",
      " [False  True  True]]\n",
      "[2 8 9]\n"
     ]
    }
   ],
   "source": [
    "print(a2)\n",
    "bi = np.random.randint(0,2,(3,3),dtype=bool)\n",
    "print(bi)\n",
    "print(a2[bi])"
   ]
  },
  {
   "cell_type": "markdown",
   "metadata": {},
   "source": [
    "#### 팬시 인덱싱(Fancy Indedxing)"
   ]
  },
  {
   "cell_type": "code",
   "execution_count": 45,
   "metadata": {},
   "outputs": [
    {
     "name": "stdout",
     "output_type": "stream",
     "text": [
      "[4 5 6 4 5]\n",
      "4 6\n",
      "[4 6]\n",
      "[[4 5]\n",
      " [6 4]]\n"
     ]
    }
   ],
   "source": [
    "print(a1)\n",
    "print(a1[0],a1[2])\n",
    "ind = [0,2]\n",
    "print(a1[ind])\n",
    "ind = np.array([ [0,1],\n",
    "                 [2,0] ])\n",
    "print(a1[ind])"
   ]
  },
  {
   "cell_type": "code",
   "execution_count": 46,
   "metadata": {},
   "outputs": [
    {
     "name": "stdout",
     "output_type": "stream",
     "text": [
      "[[1 2 3]\n",
      " [4 5 6]\n",
      " [7 8 9]]\n",
      "[2 9]\n",
      "[[1 2 3]\n",
      " [7 8 9]]\n",
      "[[2 3]\n",
      " [5 6]\n",
      " [8 9]]\n",
      "[2 8]\n",
      "[8 9]\n",
      "[[2 3]\n",
      " [8 9]]\n",
      "[[5 6]\n",
      " [8 9]]\n"
     ]
    }
   ],
   "source": [
    "print(a2)\n",
    "row = np.array([0,2])\n",
    "col = np.array([1,2])\n",
    "print(a2[row,col])\n",
    "print(a2[row,:])\n",
    "print(a2[:,col])\n",
    "print(a2[row,1])\n",
    "print(a2[2,col])\n",
    "print(a2[row,1:])\n",
    "print(a2[1:,col])"
   ]
  },
  {
   "cell_type": "markdown",
   "metadata": {},
   "source": [
    "## 배열 값 삽입/수정/삭제/복사"
   ]
  },
  {
   "cell_type": "markdown",
   "metadata": {},
   "source": [
    "#### 배열 값 삽입\n",
    "##### insert(): 배열의 특정 위치에 값 삽입\n",
    "##### axis를 지정하지 않으면 1차원 배열로 변환\n",
    "##### 추가할 방향을 axis로 지정\n",
    "##### 원본 배열 변경없이 새로운 배열 반환"
   ]
  },
  {
   "cell_type": "code",
   "execution_count": 47,
   "metadata": {},
   "outputs": [
    {
     "name": "stdout",
     "output_type": "stream",
     "text": [
      "[4 5 6 4 5]\n",
      "[10  4  5  6  4  5]\n",
      "[ 4  5 10  6  4  5]\n"
     ]
    }
   ],
   "source": [
    "print(a1)\n",
    "b1 = np.insert(a1,0,10)\n",
    "print(b1)\n",
    "c1 = np.insert(a1,2,10)\n",
    "print(c1)"
   ]
  },
  {
   "cell_type": "code",
   "execution_count": 48,
   "metadata": {},
   "outputs": [
    {
     "name": "stdout",
     "output_type": "stream",
     "text": [
      "[[1 2 3]\n",
      " [4 5 6]\n",
      " [7 8 9]]\n",
      "[[ 1  2  3]\n",
      " [10 10 10]\n",
      " [ 4  5  6]\n",
      " [ 7  8  9]]\n",
      "[[ 1 10  2  3]\n",
      " [ 4 10  5  6]\n",
      " [ 7 10  8  9]]\n"
     ]
    }
   ],
   "source": [
    "print(a2)\n",
    "b2 = np.insert(a2,1,10,axis=0)\n",
    "print(b2)\n",
    "c2 = np.insert(a2,1,10,axis=1)\n",
    "print(c2)"
   ]
  },
  {
   "cell_type": "markdown",
   "metadata": {},
   "source": [
    "#### 배열 값 수정\n",
    "##### 배열의 인덱싱으로 접근하여 값 수정"
   ]
  },
  {
   "cell_type": "code",
   "execution_count": 49,
   "metadata": {},
   "outputs": [
    {
     "name": "stdout",
     "output_type": "stream",
     "text": [
      "[4 5 6 4 5]\n",
      "[1 2 3 4 5]\n",
      "[9 2 3 4 5]\n",
      "[9 0 3 0 0]\n",
      "[9 4 3 4 4]\n"
     ]
    }
   ],
   "source": [
    "print(a1)\n",
    "a1[0] = 1\n",
    "a1[1] = 2\n",
    "a1[2] = 3\n",
    "print(a1)\n",
    "a1[:1] = 9\n",
    "print(a1)\n",
    "i = np.array([1,3,4])\n",
    "a1[i] = 0\n",
    "print(a1)\n",
    "a1[i] += 4\n",
    "print(a1)"
   ]
  },
  {
   "cell_type": "code",
   "execution_count": 50,
   "metadata": {},
   "outputs": [
    {
     "name": "stdout",
     "output_type": "stream",
     "text": [
      "[[1 2 3]\n",
      " [4 5 6]\n",
      " [7 8 9]]\n",
      "[[1 1 1]\n",
      " [4 2 6]\n",
      " [7 8 3]]\n",
      "[[1 1 1]\n",
      " [4 2 9]\n",
      " [7 8 9]]\n",
      "[[1 0 1]\n",
      " [4 2 0]\n",
      " [7 8 9]]\n"
     ]
    }
   ],
   "source": [
    "print(a2)\n",
    "a2[0] = 1\n",
    "a2[1,1] = 2\n",
    "a2[2,2] = 3\n",
    "print(a2)\n",
    "a2[1:,2] = 9\n",
    "print(a2)\n",
    "row = np.array([0,1])\n",
    "col = np.array([1,2])\n",
    "a2[row,col] = 0\n",
    "print(a2)"
   ]
  },
  {
   "cell_type": "markdown",
   "metadata": {},
   "source": [
    "#### 배열 값 삭제\n",
    "##### delete(): 배열의 특정 위치에 값 삭제\n",
    "##### axis를 지정하지 않으면 1차원 배열로 변환\n",
    "##### 삭제할 방향을 axis로 지정\n",
    "##### 원본 배열 변경없이 새로운 배열 반환"
   ]
  },
  {
   "cell_type": "code",
   "execution_count": 51,
   "metadata": {},
   "outputs": [
    {
     "name": "stdout",
     "output_type": "stream",
     "text": [
      "[9 4 3 4 4]\n",
      "[9 3 4 4]\n"
     ]
    }
   ],
   "source": [
    "print(a1)\n",
    "b1 = np.delete(a1,1)\n",
    "print(b1)"
   ]
  },
  {
   "cell_type": "code",
   "execution_count": 52,
   "metadata": {},
   "outputs": [
    {
     "name": "stdout",
     "output_type": "stream",
     "text": [
      "[[1 0 1]\n",
      " [4 2 0]\n",
      " [7 8 9]]\n",
      "[[1 0 1]\n",
      " [7 8 9]]\n",
      "[[1 1]\n",
      " [4 0]\n",
      " [7 9]]\n"
     ]
    }
   ],
   "source": [
    "print(a2)\n",
    "b2 = np.delete(a2,1,axis=0)\n",
    "print(b2)\n",
    "c2 = np.delete(a2,1,axis=1)\n",
    "print(c2)"
   ]
  },
  {
   "cell_type": "markdown",
   "metadata": {},
   "source": [
    "#### 배열 복사\n",
    "##### 리스트 자료형과 달리 배열의 슬라이스는 복사본이 아님\n",
    "##### copy(): 배열이나 하위 배열 내의 값을 명시적으로 복사"
   ]
  },
  {
   "cell_type": "code",
   "execution_count": 53,
   "metadata": {},
   "outputs": [
    {
     "name": "stdout",
     "output_type": "stream",
     "text": [
      "[[1 0 1]\n",
      " [4 2 0]\n",
      " [7 8 9]]\n",
      "[[1 0]\n",
      " [4 2]]\n",
      "[[1 0]\n",
      " [4 2]]\n",
      "[[1 0]\n",
      " [4 0]]\n",
      "[[1 0 1]\n",
      " [4 0 0]\n",
      " [7 8 9]]\n"
     ]
    }
   ],
   "source": [
    "print(a2)\n",
    "print(a2[:2,:2])\n",
    "a2_sub = a2[:2,:2]\n",
    "print(a2_sub)\n",
    "a2_sub[:,1] = 0\n",
    "print(a2_sub)\n",
    "print(a2)"
   ]
  },
  {
   "cell_type": "code",
   "execution_count": 54,
   "metadata": {},
   "outputs": [
    {
     "name": "stdout",
     "output_type": "stream",
     "text": [
      "[[1 0 1]\n",
      " [4 0 0]\n",
      " [7 8 9]]\n",
      "[[1 0]\n",
      " [4 0]]\n",
      "[[1 1]\n",
      " [4 1]]\n",
      "[[1 0 1]\n",
      " [4 0 0]\n",
      " [7 8 9]]\n"
     ]
    }
   ],
   "source": [
    "print(a2)\n",
    "a2_sub_copy = a2[:2,:2].copy()\n",
    "print(a2_sub_copy)\n",
    "a2_sub_copy[:,1] = 1\n",
    "print(a2_sub_copy)\n",
    "print(a2)"
   ]
  },
  {
   "cell_type": "markdown",
   "metadata": {},
   "source": [
    "## 배열 변환"
   ]
  },
  {
   "cell_type": "markdown",
   "metadata": {},
   "source": [
    "#### 배열 전치 및 축 변경"
   ]
  },
  {
   "cell_type": "code",
   "execution_count": 55,
   "metadata": {},
   "outputs": [
    {
     "name": "stdout",
     "output_type": "stream",
     "text": [
      "[[1 0 1]\n",
      " [4 0 0]\n",
      " [7 8 9]]\n",
      "[[1 4 7]\n",
      " [0 0 8]\n",
      " [1 0 9]]\n"
     ]
    }
   ],
   "source": [
    "print(a2)\n",
    "print(a2.T)"
   ]
  },
  {
   "cell_type": "code",
   "execution_count": 56,
   "metadata": {},
   "outputs": [
    {
     "name": "stdout",
     "output_type": "stream",
     "text": [
      "[[[1 2 3]\n",
      "  [4 5 6]\n",
      "  [7 8 9]]\n",
      "\n",
      " [[1 2 3]\n",
      "  [4 5 6]\n",
      "  [7 8 9]]\n",
      "\n",
      " [[1 2 3]\n",
      "  [4 5 6]\n",
      "  [7 8 9]]]\n",
      "[[[1 1 1]\n",
      "  [4 4 4]\n",
      "  [7 7 7]]\n",
      "\n",
      " [[2 2 2]\n",
      "  [5 5 5]\n",
      "  [8 8 8]]\n",
      "\n",
      " [[3 3 3]\n",
      "  [6 6 6]\n",
      "  [9 9 9]]]\n"
     ]
    }
   ],
   "source": [
    "print(a3)\n",
    "print(a3.T)"
   ]
  },
  {
   "cell_type": "code",
   "execution_count": 57,
   "metadata": {},
   "outputs": [
    {
     "name": "stdout",
     "output_type": "stream",
     "text": [
      "[[1 0 1]\n",
      " [4 0 0]\n",
      " [7 8 9]]\n",
      "[[1 4 7]\n",
      " [0 0 8]\n",
      " [1 0 9]]\n"
     ]
    }
   ],
   "source": [
    "print(a2)\n",
    "print(a2.swapaxes(1,0))"
   ]
  },
  {
   "cell_type": "code",
   "execution_count": 58,
   "metadata": {},
   "outputs": [
    {
     "name": "stdout",
     "output_type": "stream",
     "text": [
      "[[[1 2 3]\n",
      "  [4 5 6]\n",
      "  [7 8 9]]\n",
      "\n",
      " [[1 2 3]\n",
      "  [4 5 6]\n",
      "  [7 8 9]]\n",
      "\n",
      " [[1 2 3]\n",
      "  [4 5 6]\n",
      "  [7 8 9]]]\n",
      "[[[1 2 3]\n",
      "  [1 2 3]\n",
      "  [1 2 3]]\n",
      "\n",
      " [[4 5 6]\n",
      "  [4 5 6]\n",
      "  [4 5 6]]\n",
      "\n",
      " [[7 8 9]\n",
      "  [7 8 9]\n",
      "  [7 8 9]]]\n",
      "[[[1 4 7]\n",
      "  [2 5 8]\n",
      "  [3 6 9]]\n",
      "\n",
      " [[1 4 7]\n",
      "  [2 5 8]\n",
      "  [3 6 9]]\n",
      "\n",
      " [[1 4 7]\n",
      "  [2 5 8]\n",
      "  [3 6 9]]]\n"
     ]
    }
   ],
   "source": [
    "print(a3)\n",
    "print(a3.swapaxes(0,1))\n",
    "print(a3.swapaxes(1,2))"
   ]
  },
  {
   "cell_type": "markdown",
   "metadata": {},
   "source": [
    "#### 배열 재구조화\n",
    "##### reshape(): 배열의 형상을 변경\n",
    "##### newaxis(): 새로운 축 추가"
   ]
  },
  {
   "cell_type": "code",
   "execution_count": 59,
   "metadata": {},
   "outputs": [
    {
     "name": "stdout",
     "output_type": "stream",
     "text": [
      "[1 2 3 4 5 6 7 8 9]\n",
      "[[1 2 3]\n",
      " [4 5 6]\n",
      " [7 8 9]]\n"
     ]
    }
   ],
   "source": [
    "n1 = np.arange(1,10)\n",
    "print(n1)\n",
    "print(n1.reshape(3,3))"
   ]
  },
  {
   "cell_type": "code",
   "execution_count": 60,
   "metadata": {},
   "outputs": [
    {
     "name": "stdout",
     "output_type": "stream",
     "text": [
      "[1 2 3 4 5 6 7 8 9]\n",
      "[[1 2 3 4 5]]\n",
      "[[1]\n",
      " [2]\n",
      " [3]\n",
      " [4]\n",
      " [5]]\n"
     ]
    }
   ],
   "source": [
    "print(n1)\n",
    "print(n1[np.newaxis,:5])\n",
    "print(n1[:5,np.newaxis])"
   ]
  },
  {
   "cell_type": "markdown",
   "metadata": {},
   "source": [
    "#### 배열 크기 변경"
   ]
  },
  {
   "cell_type": "code",
   "execution_count": 61,
   "metadata": {},
   "outputs": [
    {
     "name": "stdout",
     "output_type": "stream",
     "text": [
      "[[0 1 2 4 8]\n",
      " [6 9 9 6 9]]\n",
      "[[0 1]\n",
      " [2 4]\n",
      " [8 6]\n",
      " [9 9]\n",
      " [6 9]]\n"
     ]
    }
   ],
   "source": [
    "n2 = np.random.randint(0,10,(2,5))\n",
    "print(n2)\n",
    "n2.resize((5,2))\n",
    "print(n2)"
   ]
  },
  {
   "cell_type": "code",
   "execution_count": 62,
   "metadata": {},
   "outputs": [
    {
     "name": "stdout",
     "output_type": "stream",
     "text": [
      "[[0 1 2 4 8]\n",
      " [6 9 9 6 9]\n",
      " [0 0 0 0 0]\n",
      " [0 0 0 0 0]\n",
      " [0 0 0 0 0]]\n"
     ]
    }
   ],
   "source": [
    "n2.resize((5,5))\n",
    "print(n2)"
   ]
  },
  {
   "cell_type": "code",
   "execution_count": 63,
   "metadata": {},
   "outputs": [
    {
     "name": "stdout",
     "output_type": "stream",
     "text": [
      "[[0 1 2]\n",
      " [4 8 6]\n",
      " [9 9 6]]\n"
     ]
    }
   ],
   "source": [
    "n2.resize((3,3))\n",
    "print(n2)"
   ]
  },
  {
   "cell_type": "markdown",
   "metadata": {},
   "source": [
    "#### 배열 추가\n",
    "##### append(): 배열의 끝에 값 추가\n",
    "##### axis 지정이 없으면 1차원 배열 형태로 변형되어 결합"
   ]
  },
  {
   "cell_type": "code",
   "execution_count": 64,
   "metadata": {},
   "outputs": [
    {
     "name": "stdout",
     "output_type": "stream",
     "text": [
      "[[1 2 3]\n",
      " [4 5 6]\n",
      " [7 8 9]]\n",
      "[[10 11 12]\n",
      " [13 14 15]\n",
      " [16 17 18]]\n"
     ]
    }
   ],
   "source": [
    "a2 = np.arange(1,10).reshape(3,3)\n",
    "print(a2)\n",
    "b2 = np.arange(10,19).reshape(3,3)\n",
    "print(b2)"
   ]
  },
  {
   "cell_type": "code",
   "execution_count": 65,
   "metadata": {},
   "outputs": [
    {
     "name": "stdout",
     "output_type": "stream",
     "text": [
      "[ 1  2  3  4  5  6  7  8  9 10 11 12 13 14 15 16 17 18]\n"
     ]
    }
   ],
   "source": [
    "c2 = np.append(a2,b2)\n",
    "print(c2)"
   ]
  },
  {
   "cell_type": "code",
   "execution_count": 66,
   "metadata": {},
   "outputs": [
    {
     "name": "stdout",
     "output_type": "stream",
     "text": [
      "[[ 1  2  3]\n",
      " [ 4  5  6]\n",
      " [ 7  8  9]\n",
      " [10 11 12]\n",
      " [13 14 15]\n",
      " [16 17 18]]\n"
     ]
    }
   ],
   "source": [
    "# axis를 0으로 지정\n",
    "# shape[0]을 제외한 나머지 shape은 같아야 함\n",
    "c2 = np.append(a2,b2,axis=0)\n",
    "print(c2)"
   ]
  },
  {
   "cell_type": "code",
   "execution_count": 67,
   "metadata": {},
   "outputs": [
    {
     "name": "stdout",
     "output_type": "stream",
     "text": [
      "[[ 1  2  3 10 11 12]\n",
      " [ 4  5  6 13 14 15]\n",
      " [ 7  8  9 16 17 18]]\n"
     ]
    }
   ],
   "source": [
    "# axis를 1로 지정\n",
    "# shape[1]을 제외한 나머지 shape은 같아야 함\n",
    "c2 = np.append(a2,b2,axis=1)\n",
    "print(c2)"
   ]
  },
  {
   "cell_type": "markdown",
   "metadata": {},
   "source": [
    "#### 배열 연결\n",
    "##### concatenate(): 튜플이나 배열의 리스트를 인수로 사용해 배열 연결\n",
    "##### vstack(): 수직 스택(vertical stack), 1차원으로 연결\n",
    "##### hstack(): 수평 스택(horizontal stack), 2차원으로 연결\n",
    "##### dstack(): 깊이 스택(depth stack), 3차원으로 연결\n",
    "##### stack(): 새로운 차원으로 연결"
   ]
  },
  {
   "cell_type": "code",
   "execution_count": 74,
   "metadata": {},
   "outputs": [
    {
     "data": {
      "text/plain": [
       "array([1, 3, 5, 2, 4, 6])"
      ]
     },
     "execution_count": 74,
     "metadata": {},
     "output_type": "execute_result"
    }
   ],
   "source": [
    "a1 = np.array([1,3,5])\n",
    "b1 = np.array([2,4,6])\n",
    "np.concatenate([a1,b1])"
   ]
  },
  {
   "cell_type": "code",
   "execution_count": 75,
   "metadata": {},
   "outputs": [
    {
     "data": {
      "text/plain": [
       "array([1, 3, 5, 2, 4, 6, 7, 8, 9])"
      ]
     },
     "execution_count": 75,
     "metadata": {},
     "output_type": "execute_result"
    }
   ],
   "source": [
    "c1 = np.array([7,8,9])\n",
    "np.concatenate([a1,b1,c1])"
   ]
  },
  {
   "cell_type": "code",
   "execution_count": 76,
   "metadata": {},
   "outputs": [
    {
     "data": {
      "text/plain": [
       "array([[1, 2, 3],\n",
       "       [4, 5, 6],\n",
       "       [1, 2, 3],\n",
       "       [4, 5, 6]])"
      ]
     },
     "execution_count": 76,
     "metadata": {},
     "output_type": "execute_result"
    }
   ],
   "source": [
    "a2 = np.array([[1,2,3],[4,5,6]])\n",
    "np.concatenate([a2,a2])"
   ]
  },
  {
   "cell_type": "code",
   "execution_count": 77,
   "metadata": {},
   "outputs": [
    {
     "data": {
      "text/plain": [
       "array([[1, 2, 3, 1, 2, 3],\n",
       "       [4, 5, 6, 4, 5, 6]])"
      ]
     },
     "execution_count": 77,
     "metadata": {},
     "output_type": "execute_result"
    }
   ],
   "source": [
    "a2 = np.array([[1,2,3],[4,5,6]])\n",
    "np.concatenate([a2,a2],axis=1)"
   ]
  },
  {
   "cell_type": "code",
   "execution_count": 78,
   "metadata": {},
   "outputs": [
    {
     "data": {
      "text/plain": [
       "array([[1, 2, 3],\n",
       "       [4, 5, 6],\n",
       "       [1, 2, 3],\n",
       "       [4, 5, 6]])"
      ]
     },
     "execution_count": 78,
     "metadata": {},
     "output_type": "execute_result"
    }
   ],
   "source": [
    "np.vstack([a2,a2])"
   ]
  },
  {
   "cell_type": "code",
   "execution_count": 79,
   "metadata": {},
   "outputs": [
    {
     "data": {
      "text/plain": [
       "array([[1, 2, 3, 1, 2, 3],\n",
       "       [4, 5, 6, 4, 5, 6]])"
      ]
     },
     "execution_count": 79,
     "metadata": {},
     "output_type": "execute_result"
    }
   ],
   "source": [
    "np.hstack([a2,a2])"
   ]
  },
  {
   "cell_type": "code",
   "execution_count": 80,
   "metadata": {},
   "outputs": [
    {
     "data": {
      "text/plain": [
       "array([[[1, 1],\n",
       "        [2, 2],\n",
       "        [3, 3]],\n",
       "\n",
       "       [[4, 4],\n",
       "        [5, 5],\n",
       "        [6, 6]]])"
      ]
     },
     "execution_count": 80,
     "metadata": {},
     "output_type": "execute_result"
    }
   ],
   "source": [
    "np.dstack([a2,a2])"
   ]
  },
  {
   "cell_type": "code",
   "execution_count": 81,
   "metadata": {},
   "outputs": [
    {
     "data": {
      "text/plain": [
       "array([[[1, 2, 3],\n",
       "        [4, 5, 6]],\n",
       "\n",
       "       [[1, 2, 3],\n",
       "        [4, 5, 6]]])"
      ]
     },
     "execution_count": 81,
     "metadata": {},
     "output_type": "execute_result"
    }
   ],
   "source": [
    "np.stack([a2,a2])"
   ]
  },
  {
   "cell_type": "markdown",
   "metadata": {},
   "source": [
    "#### 배열 분할\n",
    "##### split(): 배열 분할\n",
    "##### vsplit(): 수직 분할, 1차원으로 분할\n",
    "##### hsplit(): 수평 분할, 2차원으로 분할\n",
    "##### hsplit(): 수평 분할, 2차원으로 분할"
   ]
  },
  {
   "cell_type": "code",
   "execution_count": 82,
   "metadata": {},
   "outputs": [
    {
     "name": "stdout",
     "output_type": "stream",
     "text": [
      "[0 1 2 3 4 5 6 7 8 9]\n",
      "[0 1 2 3 4] [5 6 7 8 9]\n",
      "[0 1] [2 3] [4 5] [6 7] [8 9]\n"
     ]
    }
   ],
   "source": [
    "a1 = np.arange(0,10)\n",
    "print(a1)\n",
    "b1,c1 = np.split(a1,[5])\n",
    "print(b1,c1)\n",
    "b1,c1,d1,e1,f1 = np.split(a1,[2,4,6,8])\n",
    "print(b1,c1,d1,e1,f1)"
   ]
  },
  {
   "cell_type": "code",
   "execution_count": 83,
   "metadata": {},
   "outputs": [
    {
     "name": "stdout",
     "output_type": "stream",
     "text": [
      "[[1 2 3]\n",
      " [4 5 6]\n",
      " [7 8 9]]\n",
      "[[1 2 3]\n",
      " [4 5 6]]\n",
      "[[7 8 9]]\n"
     ]
    }
   ],
   "source": [
    "a2 = np.arange(1,10).reshape(3,3)\n",
    "print(a2)\n",
    "b2,c2 = np.vsplit(a2,[2])\n",
    "print(b2)\n",
    "print(c2)"
   ]
  },
  {
   "cell_type": "code",
   "execution_count": 84,
   "metadata": {},
   "outputs": [
    {
     "name": "stdout",
     "output_type": "stream",
     "text": [
      "[[1 2 3]\n",
      " [4 5 6]\n",
      " [7 8 9]]\n",
      "[[1 2]\n",
      " [4 5]\n",
      " [7 8]]\n",
      "[[3]\n",
      " [6]\n",
      " [9]]\n"
     ]
    }
   ],
   "source": [
    "a2 = np.arange(1,10).reshape(3,3)\n",
    "print(a2)\n",
    "b2,c2 = np.hsplit(a2,[2])\n",
    "print(b2)\n",
    "print(c2)"
   ]
  },
  {
   "cell_type": "code",
   "execution_count": 85,
   "metadata": {},
   "outputs": [
    {
     "name": "stdout",
     "output_type": "stream",
     "text": [
      "[[[ 1  2  3]\n",
      "  [ 4  5  6]\n",
      "  [ 7  8  9]]\n",
      "\n",
      " [[10 11 12]\n",
      "  [13 14 15]\n",
      "  [16 17 18]]\n",
      "\n",
      " [[19 20 21]\n",
      "  [22 23 24]\n",
      "  [25 26 27]]]\n",
      "[[[ 1  2  3]\n",
      "  [ 4  5  6]]\n",
      "\n",
      " [[10 11 12]\n",
      "  [13 14 15]]\n",
      "\n",
      " [[19 20 21]\n",
      "  [22 23 24]]]\n",
      "[[[ 7  8  9]]\n",
      "\n",
      " [[16 17 18]]\n",
      "\n",
      " [[25 26 27]]]\n"
     ]
    }
   ],
   "source": [
    "a3 = np.arange(1,28).reshape(3,3,3)\n",
    "print(a3)\n",
    "b3,c3 = np.hsplit(a3,[2])\n",
    "print(b3)\n",
    "print(c3)"
   ]
  },
  {
   "cell_type": "markdown",
   "metadata": {},
   "source": [
    "## 배열 연산\n",
    "##### NumPy의 배열 연산은 벡터화(vectorized) 연산을 사용\n",
    "##### 일반적으로 NumPy의 범용 함수(universal functions)를 통해 구현\n",
    "##### 배열 요소에 대한 반복적인 계산을 효율적으로 수행"
   ]
  },
  {
   "cell_type": "markdown",
   "metadata": {},
   "source": [
    "#### 브로드캐스팅(Broadcasting)"
   ]
  },
  {
   "cell_type": "code",
   "execution_count": 86,
   "metadata": {},
   "outputs": [
    {
     "name": "stdout",
     "output_type": "stream",
     "text": [
      "[6 7 8]\n",
      "[[ 2  4  6]\n",
      " [ 5  7  9]\n",
      " [ 8 10 12]]\n",
      "[[2 3 4]\n",
      " [3 4 5]\n",
      " [4 5 6]]\n"
     ]
    }
   ],
   "source": [
    "a1 = np.array([1,2,3])\n",
    "print(a1 + 5)\n",
    "\n",
    "a2 = np.arange(1,10).reshape(3,3)\n",
    "print(a1 + a2)\n",
    "\n",
    "b2 = np.array([1,2,3]).reshape(3,1)\n",
    "print(a1 + b2)"
   ]
  },
  {
   "cell_type": "markdown",
   "metadata": {},
   "source": [
    "#### 산술 연산(Arithmetic Operators)"
   ]
  },
  {
   "cell_type": "code",
   "execution_count": 87,
   "metadata": {},
   "outputs": [
    {
     "name": "stdout",
     "output_type": "stream",
     "text": [
      "[1 2 3 4 5 6 7 8 9]\n",
      "[11 12 13 14 15 16 17 18 19]\n",
      "[-9 -8 -7 -6 -5 -4 -3 -2 -1]\n",
      "[-1 -2 -3 -4 -5 -6 -7 -8 -9]\n",
      "[ 2  4  6  8 10 12 14 16 18]\n",
      "[0.5 1.  1.5 2.  2.5 3.  3.5 4.  4.5]\n",
      "[0 1 1 2 2 3 3 4 4]\n",
      "[ 1  4  9 16 25 36 49 64 81]\n",
      "[1 0 1 0 1 0 1 0 1]\n"
     ]
    }
   ],
   "source": [
    "a1 = np.arange(1,10)\n",
    "print(a1)\n",
    "print(np.add(a1,10)) # +\n",
    "print(np.subtract(a1,10)) # -\n",
    "print(np.negative(a1)) # 음수\n",
    "print(np.multiply(a1, 2)) # x\n",
    "print(np.divide(a1,2)) # 나누기\n",
    "print(np.floor_divide(a1,2)) # 나누고 내림연산\n",
    "print(np.power(a1,2)) # 지수연산\n",
    "print(np.mod(a1,2)) # 나머지연산"
   ]
  },
  {
   "cell_type": "code",
   "execution_count": 88,
   "metadata": {},
   "outputs": [
    {
     "name": "stdout",
     "output_type": "stream",
     "text": [
      "[1 2 3 4 5 6 7 8 9]\n",
      "[8 1 4 7 3 6 1 3 3]\n",
      "[ 9  3  7 11  8 12  8 11 12]\n",
      "[-7  1 -1 -3  2  0  6  5  6]\n",
      "[ 8  2 12 28 15 36  7 24 27]\n",
      "[0.125      2.         0.75       0.57142857 1.66666667 1.\n",
      " 7.         2.66666667 3.        ]\n",
      "[0 2 0 0 1 1 7 2 3]\n",
      "[    1     2    81 16384   125 46656     7   512   729]\n",
      "[1 0 3 4 2 0 0 2 0]\n"
     ]
    }
   ],
   "source": [
    "a1 = np.arange(1,10)\n",
    "print(a1)\n",
    "b1 = np.random.randint(1,10,size=9)\n",
    "print(b1)\n",
    "print(a1 + b1)\n",
    "print(a1 - b1)\n",
    "print(a1 * b1)\n",
    "print(a1 / b1)\n",
    "print(a1 // b1) # 나누고 내림연산\n",
    "print(a1 ** b1)\n",
    "print(a1 % b1)"
   ]
  },
  {
   "cell_type": "code",
   "execution_count": 89,
   "metadata": {},
   "outputs": [
    {
     "name": "stdout",
     "output_type": "stream",
     "text": [
      "[[1 2 3]\n",
      " [4 5 6]\n",
      " [7 8 9]]\n",
      "[[4 3 1]\n",
      " [3 6 1]\n",
      " [6 3 6]]\n",
      "[[ 5  5  4]\n",
      " [ 7 11  7]\n",
      " [13 11 15]]\n",
      "[[-3 -1  2]\n",
      " [ 1 -1  5]\n",
      " [ 1  5  3]]\n",
      "[[ 4  6  3]\n",
      " [12 30  6]\n",
      " [42 24 54]]\n",
      "[[0.25       0.66666667 3.        ]\n",
      " [1.33333333 0.83333333 6.        ]\n",
      " [1.16666667 2.66666667 1.5       ]]\n",
      "[[0 0 3]\n",
      " [1 0 6]\n",
      " [1 2 1]]\n",
      "[[     1      8      3]\n",
      " [    64  15625      6]\n",
      " [117649    512 531441]]\n",
      "[[1 2 0]\n",
      " [1 5 0]\n",
      " [1 2 3]]\n"
     ]
    }
   ],
   "source": [
    "a2 = np.arange(1,10).reshape(3,3)\n",
    "print(a2)\n",
    "b2 = np.random.randint(1,10,size=(3,3))\n",
    "print(b2)\n",
    "print(a2 + b2)\n",
    "print(a2 - b2)\n",
    "print(a2 * b2)\n",
    "print(a2 / b2)\n",
    "print(a2 // b2) # 나누고 내림연산\n",
    "print(a2 ** b2)\n",
    "print(a2 % b2)"
   ]
  },
  {
   "cell_type": "markdown",
   "metadata": {},
   "source": [
    "#### 절대값 함수(Absolute Function)\n",
    "##### absolute(), abs(): 내장된 절대값 함수"
   ]
  },
  {
   "cell_type": "code",
   "execution_count": 90,
   "metadata": {},
   "outputs": [
    {
     "name": "stdout",
     "output_type": "stream",
     "text": [
      "[  7 -10   2   4   6]\n",
      "[ 7 10  2  4  6]\n",
      "[ 7 10  2  4  6]\n"
     ]
    }
   ],
   "source": [
    "a1 = np.random.randint(-10,10,size=5)\n",
    "print(a1)\n",
    "print(np.absolute(a1)) # 절대값\n",
    "print(np.abs(a1)) # 절대값"
   ]
  },
  {
   "cell_type": "markdown",
   "metadata": {},
   "source": [
    "#### 제곱/제곱근 함수\n",
    "##### square, sqrt: 제곱, 제곱근 함수"
   ]
  },
  {
   "cell_type": "code",
   "execution_count": 91,
   "metadata": {},
   "outputs": [
    {
     "name": "stdout",
     "output_type": "stream",
     "text": [
      "[  7 -10   2   4   6]\n",
      "[ 49 100   4  16  36]\n",
      "[2.64575131        nan 1.41421356 2.         2.44948974]\n"
     ]
    },
    {
     "name": "stderr",
     "output_type": "stream",
     "text": [
      "<ipython-input-91-c0a258d73dc8>:3: RuntimeWarning: invalid value encountered in sqrt\n",
      "  print(np.sqrt(a1)) # 루트\n"
     ]
    }
   ],
   "source": [
    "print(a1)\n",
    "print(np.square(a1)) # 제곱\n",
    "print(np.sqrt(a1)) # 루트"
   ]
  },
  {
   "cell_type": "markdown",
   "metadata": {},
   "source": [
    "#### 지수와 로그 함수 (Exponential and Log Function)"
   ]
  },
  {
   "cell_type": "code",
   "execution_count": 92,
   "metadata": {},
   "outputs": [
    {
     "name": "stdout",
     "output_type": "stream",
     "text": [
      "[5 8 5 7 7]\n",
      "[ 148.4131591  2980.95798704  148.4131591  1096.63315843 1096.63315843]\n",
      "[ 32. 256.  32. 128. 128.]\n",
      "[25 64 25 49 49]\n"
     ]
    }
   ],
   "source": [
    "a1 = np.random.randint(1,10,size=5)\n",
    "print(a1)\n",
    "print(np.exp(a1)) # 지수\n",
    "print(np.exp2(a1))\n",
    "print(np.power(a1,2)) # 지수"
   ]
  },
  {
   "cell_type": "code",
   "execution_count": 93,
   "metadata": {},
   "outputs": [
    {
     "name": "stdout",
     "output_type": "stream",
     "text": [
      "[5 8 5 7 7]\n",
      "[1.60943791 2.07944154 1.60943791 1.94591015 1.94591015]\n",
      "[2.32192809 3.         2.32192809 2.80735492 2.80735492]\n",
      "[0.69897    0.90308999 0.69897    0.84509804 0.84509804]\n"
     ]
    }
   ],
   "source": [
    "print(a1)\n",
    "print(np.log(a1)) # 로그\n",
    "print(np.log2(a1))\n",
    "print(np.log10(a1))"
   ]
  },
  {
   "cell_type": "markdown",
   "metadata": {},
   "source": [
    "#### 삼각 함수(Trigonometrical Function)"
   ]
  },
  {
   "cell_type": "code",
   "execution_count": 94,
   "metadata": {},
   "outputs": [
    {
     "name": "stdout",
     "output_type": "stream",
     "text": [
      "[0.         1.57079633 3.14159265]\n",
      "[0.0000000e+00 1.0000000e+00 1.2246468e-16]\n",
      "[ 1.000000e+00  6.123234e-17 -1.000000e+00]\n",
      "[ 0.00000000e+00  1.63312394e+16 -1.22464680e-16]\n"
     ]
    }
   ],
   "source": [
    "t = np.linspace(0,np.pi,3)\n",
    "print(t)\n",
    "print(np.sin(t)) # 삼각함수\n",
    "print(np.cos(t))\n",
    "print(np.tan(t))"
   ]
  },
  {
   "cell_type": "code",
   "execution_count": 95,
   "metadata": {},
   "outputs": [
    {
     "name": "stdout",
     "output_type": "stream",
     "text": [
      "[-1, 0, 1]\n",
      "[-1.57079633  0.          1.57079633]\n",
      "[3.14159265 1.57079633 0.        ]\n",
      "[-0.78539816  0.          0.78539816]\n"
     ]
    }
   ],
   "source": [
    "x = [-1, 0, 1]\n",
    "print(x)\n",
    "print(np.arcsin(x))\n",
    "print(np.arccos(x))\n",
    "print(np.arctan(x))"
   ]
  },
  {
   "cell_type": "markdown",
   "metadata": {},
   "source": [
    "#### 집계 함수(Aggregate Functions)"
   ]
  },
  {
   "cell_type": "code",
   "execution_count": 96,
   "metadata": {},
   "outputs": [
    {
     "name": "stdout",
     "output_type": "stream",
     "text": [
      "[[4 6 7]\n",
      " [9 9 6]\n",
      " [5 7 9]]\n",
      "62 62\n",
      "[18 22 22] [18 22 22]\n",
      "[17 24 21] [17 24 21]\n"
     ]
    }
   ],
   "source": [
    "a2 = np.random.randint(1,10,size=(3,3))\n",
    "print(a2)\n",
    "print(a2.sum(), np.sum(a2)) # 합\n",
    "print(a2.sum(axis=0), np.sum(a2, axis=0))\n",
    "print(a2.sum(axis=1), np.sum(a2, axis=1))"
   ]
  },
  {
   "cell_type": "code",
   "execution_count": 97,
   "metadata": {},
   "outputs": [
    {
     "name": "stdout",
     "output_type": "stream",
     "text": [
      "[[4 6 7]\n",
      " [9 9 6]\n",
      " [5 7 9]]\n",
      "[ 4 10 17 26 35 41 46 53 62]\n",
      "[[ 4  6  7]\n",
      " [13 15 13]\n",
      " [18 22 22]]\n",
      "[[ 4 10 17]\n",
      " [ 9 18 24]\n",
      " [ 5 12 21]]\n"
     ]
    }
   ],
   "source": [
    "print(a2)\n",
    "print(np.cumsum(a2)) # 누적합\n",
    "print(np.cumsum(a2, axis=0))\n",
    "print(np.cumsum(a2, axis=1))"
   ]
  },
  {
   "cell_type": "code",
   "execution_count": 98,
   "metadata": {},
   "outputs": [
    {
     "name": "stdout",
     "output_type": "stream",
     "text": [
      "[[4 6 7]\n",
      " [9 9 6]\n",
      " [5 7 9]]\n",
      "[[ 2  1]\n",
      " [ 0 -3]\n",
      " [ 2  2]]\n",
      "[[ 5  3 -1]\n",
      " [-4 -2  3]]\n",
      "[[ 2  1]\n",
      " [ 0 -3]\n",
      " [ 2  2]]\n"
     ]
    }
   ],
   "source": [
    "print(a2)\n",
    "print(np.diff(a2)) # 차분\n",
    "print(np.diff(a2, axis=0))\n",
    "print(np.diff(a2, axis=1))"
   ]
  },
  {
   "cell_type": "code",
   "execution_count": 99,
   "metadata": {},
   "outputs": [
    {
     "name": "stdout",
     "output_type": "stream",
     "text": [
      "[[4 6 7]\n",
      " [9 9 6]\n",
      " [5 7 9]]\n",
      "25719120\n",
      "[180 378 378]\n",
      "[168 486 315]\n"
     ]
    }
   ],
   "source": [
    "print(a2)\n",
    "print(np.prod(a2)) # 곱\n",
    "print(np.prod(a2, axis=0))\n",
    "print(np.prod(a2, axis=1))"
   ]
  },
  {
   "cell_type": "code",
   "execution_count": 100,
   "metadata": {},
   "outputs": [
    {
     "name": "stdout",
     "output_type": "stream",
     "text": [
      "[[4 6 7]\n",
      " [9 9 6]\n",
      " [5 7 9]]\n",
      "[       4       24      168     1512    13608    81648   408240  2857680\n",
      " 25719120]\n",
      "[[  4   6   7]\n",
      " [ 36  54  42]\n",
      " [180 378 378]]\n",
      "[[  4  24 168]\n",
      " [  9  81 486]\n",
      " [  5  35 315]]\n"
     ]
    }
   ],
   "source": [
    "print(a2)\n",
    "print(np.cumprod(a2)) # 누적곱\n",
    "print(np.cumprod(a2, axis=0))\n",
    "print(np.cumprod(a2, axis=1))"
   ]
  },
  {
   "cell_type": "code",
   "execution_count": 101,
   "metadata": {},
   "outputs": [
    {
     "name": "stdout",
     "output_type": "stream",
     "text": [
      "[[4 6 7]\n",
      " [9 9 6]\n",
      " [5 7 9]]\n",
      "[[1 1 1]\n",
      " [1 1 1]\n",
      " [1 1 1]]\n",
      "[[17 17 17]\n",
      " [24 24 24]\n",
      " [21 21 21]]\n",
      "[[17 17 17]\n",
      " [24 24 24]\n",
      " [21 21 21]]\n"
     ]
    }
   ],
   "source": [
    "print(a2)\n",
    "b2 = np.ones_like(a2)\n",
    "print(b2)\n",
    "print(np.dot(a2,b2)) # 점곱\n",
    "print(np.matmul(a2,b2)) # 행렬곱"
   ]
  },
  {
   "cell_type": "code",
   "execution_count": 102,
   "metadata": {},
   "outputs": [
    {
     "name": "stdout",
     "output_type": "stream",
     "text": [
      "[[4 6 7]\n",
      " [9 9 6]\n",
      " [5 7 9]]\n",
      "[[1 1 1]\n",
      " [1 1 1]\n",
      " [1 1 1]]\n",
      "62\n",
      "[[[[4 4 4]\n",
      "   [4 4 4]\n",
      "   [4 4 4]]\n",
      "\n",
      "  [[6 6 6]\n",
      "   [6 6 6]\n",
      "   [6 6 6]]\n",
      "\n",
      "  [[7 7 7]\n",
      "   [7 7 7]\n",
      "   [7 7 7]]]\n",
      "\n",
      "\n",
      " [[[9 9 9]\n",
      "   [9 9 9]\n",
      "   [9 9 9]]\n",
      "\n",
      "  [[9 9 9]\n",
      "   [9 9 9]\n",
      "   [9 9 9]]\n",
      "\n",
      "  [[6 6 6]\n",
      "   [6 6 6]\n",
      "   [6 6 6]]]\n",
      "\n",
      "\n",
      " [[[5 5 5]\n",
      "   [5 5 5]\n",
      "   [5 5 5]]\n",
      "\n",
      "  [[7 7 7]\n",
      "   [7 7 7]\n",
      "   [7 7 7]]\n",
      "\n",
      "  [[9 9 9]\n",
      "   [9 9 9]\n",
      "   [9 9 9]]]]\n",
      "[[17 17 17]\n",
      " [24 24 24]\n",
      " [21 21 21]]\n"
     ]
    }
   ],
   "source": [
    "print(a2)\n",
    "print(b2)\n",
    "print(np.tensordot(a2,b2)) # 텐서곱\n",
    "print(np.tensordot(a2,b2,axes=0)) \n",
    "print(np.tensordot(a2,b2,axes=1)) #axes가 1이면 점곱과 같으"
   ]
  },
  {
   "cell_type": "code",
   "execution_count": 103,
   "metadata": {},
   "outputs": [
    {
     "name": "stdout",
     "output_type": "stream",
     "text": [
      "[-3  6 -3]\n"
     ]
    }
   ],
   "source": [
    "x = [1,2,3]\n",
    "y = [4,5,6]\n",
    "print(np.cross(x,y)) # 백터곱"
   ]
  },
  {
   "cell_type": "code",
   "execution_count": 104,
   "metadata": {},
   "outputs": [
    {
     "name": "stdout",
     "output_type": "stream",
     "text": [
      "[[4 6 7]\n",
      " [9 9 6]\n",
      " [5 7 9]]\n",
      "[[1 1 1]\n",
      " [1 1 1]\n",
      " [1 1 1]]\n",
      "[[17 17 17]\n",
      " [24 24 24]\n",
      " [21 21 21]]\n",
      "[[4 4 4 4 4 4 4 4 4]\n",
      " [6 6 6 6 6 6 6 6 6]\n",
      " [7 7 7 7 7 7 7 7 7]\n",
      " [9 9 9 9 9 9 9 9 9]\n",
      " [9 9 9 9 9 9 9 9 9]\n",
      " [6 6 6 6 6 6 6 6 6]\n",
      " [5 5 5 5 5 5 5 5 5]\n",
      " [7 7 7 7 7 7 7 7 7]\n",
      " [9 9 9 9 9 9 9 9 9]]\n"
     ]
    }
   ],
   "source": [
    "print(a2)\n",
    "print(b2)\n",
    "print(np.inner(a2,b2))\n",
    "print(np.outer(a2,b2))"
   ]
  },
  {
   "cell_type": "code",
   "execution_count": 105,
   "metadata": {},
   "outputs": [
    {
     "name": "stdout",
     "output_type": "stream",
     "text": [
      "[[4 6 7]\n",
      " [9 9 6]\n",
      " [5 7 9]]\n",
      "6.888888888888889\n",
      "[6.         7.33333333 7.33333333]\n",
      "[5.66666667 8.         7.        ]\n"
     ]
    }
   ],
   "source": [
    "print(a2)\n",
    "print(np.mean(a2))\n",
    "print(np.mean(a2, axis=0))\n",
    "print(np.mean(a2, axis=1))"
   ]
  },
  {
   "cell_type": "code",
   "execution_count": 106,
   "metadata": {},
   "outputs": [
    {
     "name": "stdout",
     "output_type": "stream",
     "text": [
      "[[4 6 7]\n",
      " [9 9 6]\n",
      " [5 7 9]]\n",
      "1.7284832429004495\n",
      "[2.1602469  1.24721913 1.24721913]\n",
      "[1.24721913 1.41421356 1.63299316]\n"
     ]
    }
   ],
   "source": [
    "print(a2)\n",
    "print(np.std(a2))\n",
    "print(np.std(a2, axis=0))\n",
    "print(np.std(a2, axis=1))"
   ]
  },
  {
   "cell_type": "code",
   "execution_count": 107,
   "metadata": {},
   "outputs": [
    {
     "name": "stdout",
     "output_type": "stream",
     "text": [
      "[[4 6 7]\n",
      " [9 9 6]\n",
      " [5 7 9]]\n",
      "2.9876543209876543\n",
      "[4.66666667 1.55555556 1.55555556]\n",
      "[1.55555556 2.         2.66666667]\n"
     ]
    }
   ],
   "source": [
    "print(a2)\n",
    "print(np.var(a2))\n",
    "print(np.var(a2, axis=0))\n",
    "print(np.var(a2, axis=1))"
   ]
  },
  {
   "cell_type": "code",
   "execution_count": 108,
   "metadata": {},
   "outputs": [
    {
     "name": "stdout",
     "output_type": "stream",
     "text": [
      "[[4 6 7]\n",
      " [9 9 6]\n",
      " [5 7 9]]\n",
      "4\n",
      "[4 6 6]\n",
      "[4 6 5]\n"
     ]
    }
   ],
   "source": [
    "print(a2)\n",
    "print(np.min(a2))\n",
    "print(np.min(a2, axis=0))\n",
    "print(np.min(a2, axis=1))"
   ]
  },
  {
   "cell_type": "code",
   "execution_count": 109,
   "metadata": {},
   "outputs": [
    {
     "name": "stdout",
     "output_type": "stream",
     "text": [
      "[[4 6 7]\n",
      " [9 9 6]\n",
      " [5 7 9]]\n",
      "9\n",
      "[9 9 9]\n",
      "[7 9 9]\n"
     ]
    }
   ],
   "source": [
    "print(a2)\n",
    "print(np.max(a2))\n",
    "print(np.max(a2, axis=0))\n",
    "print(np.max(a2, axis=1))"
   ]
  },
  {
   "cell_type": "code",
   "execution_count": 110,
   "metadata": {},
   "outputs": [
    {
     "name": "stdout",
     "output_type": "stream",
     "text": [
      "[[4 6 7]\n",
      " [9 9 6]\n",
      " [5 7 9]]\n",
      "0\n",
      "[0 0 1]\n",
      "[0 2 0]\n"
     ]
    }
   ],
   "source": [
    "print(a2)\n",
    "print(np.argmin(a2)) # 위치값이 출력\n",
    "print(np.argmin(a2, axis=0))\n",
    "print(np.argmin(a2, axis=1))"
   ]
  },
  {
   "cell_type": "code",
   "execution_count": 111,
   "metadata": {},
   "outputs": [
    {
     "name": "stdout",
     "output_type": "stream",
     "text": [
      "[[4 6 7]\n",
      " [9 9 6]\n",
      " [5 7 9]]\n",
      "3\n",
      "[1 1 2]\n",
      "[2 0 2]\n"
     ]
    }
   ],
   "source": [
    "print(a2)\n",
    "print(np.argmax(a2)) # 위치값이 출력\n",
    "print(np.argmax(a2, axis=0))\n",
    "print(np.argmax(a2, axis=1))"
   ]
  },
  {
   "cell_type": "code",
   "execution_count": 112,
   "metadata": {},
   "outputs": [
    {
     "name": "stdout",
     "output_type": "stream",
     "text": [
      "[[4 6 7]\n",
      " [9 9 6]\n",
      " [5 7 9]]\n",
      "7.0\n",
      "[5. 7. 7.]\n",
      "[6. 9. 7.]\n"
     ]
    }
   ],
   "source": [
    "print(a2)\n",
    "print(np.median(a2))\n",
    "print(np.median(a2, axis=0))\n",
    "print(np.median(a2, axis=1))"
   ]
  },
  {
   "cell_type": "code",
   "execution_count": 114,
   "metadata": {},
   "outputs": [
    {
     "name": "stdout",
     "output_type": "stream",
     "text": [
      "[0 1 2 3]\n",
      "[0.  0.6 1.2 1.8 2.4 3. ]\n",
      "[0 1 2 2 3 3]\n",
      "[0 0 1 1 2 3]\n",
      "[0 1 1 2 2 3]\n",
      "[0.  0.5 1.5 1.5 2.5 3. ]\n"
     ]
    }
   ],
   "source": [
    "# percentile(): 백분위 수\n",
    "a1 = np.array([0,1,2,3])\n",
    "print(a1)\n",
    "print(np.percentile(a1,[0,20,40,60,80,100],interpolation='linear'))\n",
    "print(np.percentile(a1,[0,20,40,60,80,100],interpolation='higher'))\n",
    "print(np.percentile(a1,[0,20,40,60,80,100],interpolation='lower'))\n",
    "print(np.percentile(a1,[0,20,40,60,80,100],interpolation='nearest'))\n",
    "print(np.percentile(a1,[0,20,40,60,80,100],interpolation='midpoint'))"
   ]
  },
  {
   "cell_type": "code",
   "execution_count": 115,
   "metadata": {},
   "outputs": [
    {
     "name": "stdout",
     "output_type": "stream",
     "text": [
      "[[False False False]\n",
      " [ True  True  True]\n",
      " [False  True  True]]\n",
      "True\n",
      "[ True  True  True]\n",
      "[False  True  True]\n"
     ]
    }
   ],
   "source": [
    "a2 = np.array([ [False,False,False],\n",
    "              [True,True,True],\n",
    "              [False,True,True] ])\n",
    "print(a2)\n",
    "print(np.any(a2)) # 하나라도 True면 True가 나옴\n",
    "print(np.any(a2,axis=0))\n",
    "print(np.any(a2,axis=1))"
   ]
  },
  {
   "cell_type": "code",
   "execution_count": 116,
   "metadata": {},
   "outputs": [
    {
     "name": "stdout",
     "output_type": "stream",
     "text": [
      "[[False False False]\n",
      " [ True  True  True]\n",
      " [False  True  True]]\n",
      "False\n",
      "[False False False]\n",
      "[False  True False]\n"
     ]
    }
   ],
   "source": [
    "print(a2)\n",
    "print(np.all(a2)) # 하나라도 False면 False가 나옴\n",
    "print(np.all(a2,axis=0))\n",
    "print(np.all(a2,axis=1))"
   ]
  },
  {
   "cell_type": "markdown",
   "metadata": {},
   "source": [
    "#### 비교 연산(Comparison Operators)"
   ]
  },
  {
   "cell_type": "code",
   "execution_count": 117,
   "metadata": {},
   "outputs": [
    {
     "name": "stdout",
     "output_type": "stream",
     "text": [
      "[1 2 3 4 5 6 7 8 9]\n",
      "[False False False False  True False False False False]\n",
      "[ True  True  True  True False  True  True  True  True]\n",
      "[ True  True  True  True False False False False False]\n",
      "[False False False False  True  True  True  True  True]\n"
     ]
    }
   ],
   "source": [
    "a1 = np.arange(1,10)\n",
    "print(a1)\n",
    "print(a1 == 5)\n",
    "print(a1 != 5)\n",
    "print(a1 < 5)\n",
    "print(a1 >= 5)"
   ]
  },
  {
   "cell_type": "code",
   "execution_count": 118,
   "metadata": {},
   "outputs": [
    {
     "name": "stdout",
     "output_type": "stream",
     "text": [
      "[[1 2 3]\n",
      " [4 5 6]\n",
      " [7 8 9]]\n",
      "45\n",
      "4\n",
      "4\n",
      "[1 1 2]\n",
      "[0 1 3]\n",
      "True\n",
      "[ True  True  True]\n",
      "[False  True  True]\n",
      "False\n",
      "[False False False]\n",
      "[False False  True]\n"
     ]
    }
   ],
   "source": [
    "a2 = np.arange(1,10).reshape(3,3)\n",
    "print(a2)\n",
    "print(np.sum(a2))\n",
    "print(np.count_nonzero(a2 > 5))\n",
    "print(np.sum(a2 > 5))\n",
    "print(np.sum(a2 > 5, axis=0))\n",
    "print(np.sum(a2 > 5, axis=1))\n",
    "print(np.any(a2 > 5))\n",
    "print(np.any(a2 > 5, axis=0))\n",
    "print(np.any(a2 > 5, axis=1))\n",
    "print(np.all(a2 > 5))\n",
    "print(np.all(a2 > 5, axis=0))\n",
    "print(np.all(a2 > 5, axis=1))"
   ]
  },
  {
   "cell_type": "markdown",
   "metadata": {},
   "source": [
    "#### 불리언 연산자(Boolean Operators)"
   ]
  },
  {
   "cell_type": "code",
   "execution_count": 119,
   "metadata": {},
   "outputs": [
    {
     "name": "stdout",
     "output_type": "stream",
     "text": [
      "[1 2 3 4 5]\n",
      "[1 2 3 3 4]\n",
      "[ True  True  True False False]\n"
     ]
    }
   ],
   "source": [
    "a1 = np.array([1,2,3,4,5])\n",
    "b1 = np.array([1,2,3,3,4])\n",
    "print(a1)\n",
    "print(b1)\n",
    "print(np.isclose(a1,b1))"
   ]
  },
  {
   "cell_type": "code",
   "execution_count": 120,
   "metadata": {},
   "outputs": [
    {
     "name": "stdout",
     "output_type": "stream",
     "text": [
      "[ nan   2.  inf   4. -inf]\n",
      "[ True False False False False]\n",
      "[False False  True False  True]\n",
      "[False  True False  True False]\n"
     ]
    }
   ],
   "source": [
    "a1 = np.array([np.nan,2,np.inf,4,np.NINF])\n",
    "print(a1)\n",
    "print(np.isnan(a1))\n",
    "print(np.isinf(a1))\n",
    "print(np.isfinite(a1)) # 무한대가 아닌것"
   ]
  },
  {
   "cell_type": "code",
   "execution_count": 121,
   "metadata": {},
   "outputs": [
    {
     "name": "stdout",
     "output_type": "stream",
     "text": [
      "[[1 2 3]\n",
      " [4 5 6]\n",
      " [7 8 9]]\n",
      "[[False False False]\n",
      " [False False  True]\n",
      " [ True False False]]\n",
      "[6 7]\n",
      "[[ True  True  True]\n",
      " [ True  True  True]\n",
      " [ True  True  True]]\n",
      "[1 2 3 4 5 6 7 8 9]\n",
      "[[ True  True  True]\n",
      " [ True  True False]\n",
      " [False  True  True]]\n",
      "[1 2 3 4 5 8 9]\n",
      "[[ True  True  True]\n",
      " [ True  True False]\n",
      " [False False False]]\n",
      "[1 2 3 4 5]\n"
     ]
    }
   ],
   "source": [
    "a2 = np.arange(1,10).reshape(3,3)\n",
    "print(a2)\n",
    "\n",
    "print((a2 > 5) & (a2 < 8)) # and\n",
    "print(a2[(a2 > 5) & (a2 < 8)])\n",
    "\n",
    "print((a2 > 5) | (a2 < 8)) # or\n",
    "print(a2[(a2 > 5) | (a2 < 8)])\n",
    "\n",
    "print((a2 > 5) ^ (a2 < 8)) # xor\n",
    "print(a2[(a2 > 5) ^ (a2 < 8)])\n",
    "\n",
    "print(~(a2 > 5)) # not\n",
    "print(a2[~(a2 > 5)])"
   ]
  },
  {
   "cell_type": "markdown",
   "metadata": {},
   "source": [
    "#### 배열 정렬"
   ]
  },
  {
   "cell_type": "code",
   "execution_count": 122,
   "metadata": {},
   "outputs": [
    {
     "name": "stdout",
     "output_type": "stream",
     "text": [
      "[7 5 5 8 9 1 2 3 1 4]\n",
      "[1 1 2 3 4 5 5 7 8 9]\n",
      "[5 8 6 7 9 1 2 0 3 4]\n",
      "None\n"
     ]
    }
   ],
   "source": [
    "a1 = np.random.randint(1,10,size=10)\n",
    "print(a1)\n",
    "print(np.sort(a1))\n",
    "print(np.argsort(a1)) # 위치값이 출력됨\n",
    "print(a1.sort())"
   ]
  },
  {
   "cell_type": "code",
   "execution_count": 123,
   "metadata": {},
   "outputs": [
    {
     "name": "stdout",
     "output_type": "stream",
     "text": [
      "[[5 2 5]\n",
      " [8 7 9]\n",
      " [6 9 2]]\n",
      "[[5 2 2]\n",
      " [6 7 5]\n",
      " [8 9 9]]\n",
      "[[2 5 5]\n",
      " [7 8 9]\n",
      " [2 6 9]]\n"
     ]
    }
   ],
   "source": [
    "a2 = np.random.randint(1,10,size=(3,3))\n",
    "print(a2)\n",
    "print(np.sort(a2,axis=0))\n",
    "print(np.sort(a2,axis=1))"
   ]
  },
  {
   "cell_type": "markdown",
   "metadata": {},
   "source": [
    "#### 부분 정렬\n",
    "##### partition(): 배열에서 k개의 작은 값을 반환"
   ]
  },
  {
   "cell_type": "code",
   "execution_count": 124,
   "metadata": {},
   "outputs": [
    {
     "name": "stdout",
     "output_type": "stream",
     "text": [
      "[2 3 4 3 1 1 9 5 4 1]\n",
      "[1 1 1 2 3 3 4 5 4 9]\n"
     ]
    }
   ],
   "source": [
    "a1 = np.random.randint(1,10,size=10)\n",
    "print(a1)\n",
    "print(np.partition(a1,3)) # 배열에서 k개의 작은 값을 반환(정렬)"
   ]
  },
  {
   "cell_type": "code",
   "execution_count": 125,
   "metadata": {},
   "outputs": [
    {
     "name": "stdout",
     "output_type": "stream",
     "text": [
      "[[6 1 7 9 3]\n",
      " [6 8 7 7 8]\n",
      " [9 4 4 7 3]\n",
      " [3 9 3 1 8]\n",
      " [4 1 7 5 3]]\n",
      "[[1 3 6 7 9]\n",
      " [7 6 7 8 8]\n",
      " [3 4 4 7 9]\n",
      " [1 3 3 8 9]\n",
      " [1 3 4 5 7]]\n",
      "[[3 1 3 1 3]\n",
      " [4 1 4 5 3]\n",
      " [6 4 7 7 3]\n",
      " [6 8 7 7 8]\n",
      " [9 9 7 9 8]]\n",
      "[[1 3 6 7 9]\n",
      " [7 6 7 8 8]\n",
      " [3 4 4 7 9]\n",
      " [1 3 3 8 9]\n",
      " [1 3 4 5 7]]\n"
     ]
    }
   ],
   "source": [
    "a2 = np.random.randint(1,10,size=(5,5))\n",
    "print(a2)\n",
    "print(np.partition(a2,3))\n",
    "print(np.partition(a2,3,axis=0))\n",
    "print(np.partition(a2,3,axis=1))"
   ]
  },
  {
   "cell_type": "markdown",
   "metadata": {},
   "source": [
    "#### 배열 입출력"
   ]
  },
  {
   "cell_type": "code",
   "execution_count": 126,
   "metadata": {},
   "outputs": [
    {
     "name": "stdout",
     "output_type": "stream",
     "text": [
      "[[5 6 4 9 2]\n",
      " [3 4 9 2 5]\n",
      " [1 3 3 1 2]\n",
      " [5 7 8 3 7]\n",
      " [9 2 6 8 6]]\n"
     ]
    }
   ],
   "source": [
    "a2 = np.random.randint(1,10,size=(5,5))\n",
    "print(a2)\n",
    "np.save(\"a\",a2)"
   ]
  },
  {
   "cell_type": "code",
   "execution_count": 127,
   "metadata": {},
   "outputs": [
    {
     "name": "stdout",
     "output_type": "stream",
     "text": [
      "[[5 1 6 6 6]\n",
      " [2 4 2 9 3]\n",
      " [3 7 1 3 5]\n",
      " [4 6 9 2 6]\n",
      " [6 1 9 2 5]]\n"
     ]
    }
   ],
   "source": [
    "b2 = np.random.randint(1,10,size=(5,5))\n",
    "print(b2)\n",
    "np.savez(\"ab\",a2,b2)"
   ]
  },
  {
   "cell_type": "code",
   "execution_count": 128,
   "metadata": {},
   "outputs": [
    {
     "name": "stdout",
     "output_type": "stream",
     "text": [
      " C 드라이브의 볼륨: C drive\n",
      " 볼륨 일련 번호: A41F-DFFB\n",
      "\n",
      " C:\\Users\\home\\anaconda3\\practice\\강의 디렉터리\n",
      "\n",
      "2021-10-25  오후 06:24    <DIR>          .\n",
      "2021-10-25  오후 06:24    <DIR>          ..\n",
      "2021-10-22  오후 10:12    <DIR>          .ipynb_checkpoints\n",
      "2021-10-22  오후 10:09               630 a.csv\n",
      "2021-10-25  오후 06:25               228 a.npy\n",
      "2021-10-25  오후 06:25               706 ab.npz\n",
      "2021-10-22  오후 10:12               248 b.csv\n",
      "2021-10-25  오후 06:24            72,137 numpy.ipynb\n",
      "               5개 파일              73,949 바이트\n",
      "               3개 디렉터리  53,657,923,584 바이트 남음\n"
     ]
    }
   ],
   "source": [
    "ls"
   ]
  },
  {
   "cell_type": "code",
   "execution_count": 129,
   "metadata": {},
   "outputs": [
    {
     "name": "stdout",
     "output_type": "stream",
     "text": [
      "[[5 6 4 9 2]\n",
      " [3 4 9 2 5]\n",
      " [1 3 3 1 2]\n",
      " [5 7 8 3 7]\n",
      " [9 2 6 8 6]]\n"
     ]
    }
   ],
   "source": [
    "npy = np.load(\"a.npy\")\n",
    "print(npy)"
   ]
  },
  {
   "cell_type": "code",
   "execution_count": 130,
   "metadata": {},
   "outputs": [
    {
     "name": "stdout",
     "output_type": "stream",
     "text": [
      "['arr_0', 'arr_1']\n",
      "[[5 6 4 9 2]\n",
      " [3 4 9 2 5]\n",
      " [1 3 3 1 2]\n",
      " [5 7 8 3 7]\n",
      " [9 2 6 8 6]]\n",
      "[[5 1 6 6 6]\n",
      " [2 4 2 9 3]\n",
      " [3 7 1 3 5]\n",
      " [4 6 9 2 6]\n",
      " [6 1 9 2 5]]\n"
     ]
    }
   ],
   "source": [
    "npz = np.load(\"ab.npz\")\n",
    "print(npz.files)\n",
    "print(npz['arr_0'])\n",
    "print(npz['arr_1'])"
   ]
  },
  {
   "cell_type": "code",
   "execution_count": 131,
   "metadata": {},
   "outputs": [],
   "source": [
    "np.savetxt(\"a.csv\",a2,delimiter=',')"
   ]
  },
  {
   "cell_type": "code",
   "execution_count": 132,
   "metadata": {},
   "outputs": [
    {
     "name": "stdout",
     "output_type": "stream",
     "text": [
      "[[5. 6. 4. 9. 2.]\n",
      " [3. 4. 9. 2. 5.]\n",
      " [1. 3. 3. 1. 2.]\n",
      " [5. 7. 8. 3. 7.]\n",
      " [9. 2. 6. 8. 6.]]\n"
     ]
    }
   ],
   "source": [
    "csv = np.loadtxt(\"a.csv\",delimiter=',')\n",
    "print(csv)"
   ]
  },
  {
   "cell_type": "code",
   "execution_count": 133,
   "metadata": {},
   "outputs": [],
   "source": [
    "np.savetxt(\"b.csv\",b2,delimiter=',',fmt='%.2e',header='c1,c2,c3,c4,c5')"
   ]
  },
  {
   "cell_type": "code",
   "execution_count": 134,
   "metadata": {},
   "outputs": [
    {
     "name": "stdout",
     "output_type": "stream",
     "text": [
      "[[5. 1. 6. 6. 6.]\n",
      " [2. 4. 2. 9. 3.]\n",
      " [3. 7. 1. 3. 5.]\n",
      " [4. 6. 9. 2. 6.]\n",
      " [6. 1. 9. 2. 5.]]\n"
     ]
    }
   ],
   "source": [
    "csv2 = np.loadtxt(\"b.csv\",delimiter=',')\n",
    "print(csv2)"
   ]
  }
 ],
 "metadata": {
  "kernelspec": {
   "display_name": "Python 3",
   "language": "python",
   "name": "python3"
  },
  "language_info": {
   "codemirror_mode": {
    "name": "ipython",
    "version": 3
   },
   "file_extension": ".py",
   "mimetype": "text/x-python",
   "name": "python",
   "nbconvert_exporter": "python",
   "pygments_lexer": "ipython3",
   "version": "3.8.5"
  }
 },
 "nbformat": 4,
 "nbformat_minor": 4
}
