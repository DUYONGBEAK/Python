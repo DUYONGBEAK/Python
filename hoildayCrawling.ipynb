{
 "cells": [
  {
   "cell_type": "code",
   "execution_count": 1,
   "metadata": {},
   "outputs": [],
   "source": [
    "import pandas as pd\n",
    "from bs4 import BeautifulSoup\n",
    "import requests\n",
    "\n",
    "# URL 가져오기\n",
    "targetUrl = \"https://www.timeanddate.com/holidays/south-korea/\"\n",
    "\n",
    "# URL 리퀘스트하고 인코딩하기\n",
    "resp = requests.get(url = targetUrl)\n",
    "resp.encoding = \"utf-8\"\n",
    "\n",
    "# HTML 코드를 보기 좋게 변환\n",
    "htmlObj = BeautifulSoup(resp.text, \"html.parser\")\n",
    "\n",
    "# tbody태그를 뽑아냄\n",
    "tbodyTag = htmlObj.find(\"tbody\")\n",
    "\n",
    "# tr태그가 있는 모든 데이터를 뽑아냄\n",
    "trTag = tbodyTag.find_all(\"tr\")\n",
    "\n",
    "# 리스트를 생성\n",
    "columnList = []\n",
    "rowList = []\n",
    "\n",
    "# 반복문을 이용해서 리스트에 데이터를 담음\n",
    "for j in range(1, len(trTag)):\n",
    "    thTag = trTag[j].find_all(name = [\"th\",\"td\"])\n",
    "    if trTag == []:\n",
    "        continue\n",
    "    for i in range(0, len(thTag)):\n",
    "        \n",
    "        eachTag = thTag[i].text\n",
    "        columnList.append(eachTag)\n",
    "    rowList.append(columnList)\n",
    "    columnList = []\n",
    "\n",
    "# 데이터 프레임을 씌우고 컬럼명을 지정해줌    \n",
    "hoilday = pd.DataFrame(rowList, columns =[\"날짜\", \"요일\", \"휴일\", \"타입\"])\n",
    "\n",
    "# 결과출력\n",
    "hoilday"
   ]
  },
  {
   "cell_type": "code",
   "execution_count": null,
   "metadata": {},
   "outputs": [],
   "source": []
  }
 ],
 "metadata": {
  "kernelspec": {
   "display_name": "Python 3",
   "language": "python",
   "name": "python3"
  },
  "language_info": {
   "codemirror_mode": {
    "name": "ipython",
    "version": 3
   },
   "file_extension": ".py",
   "mimetype": "text/x-python",
   "name": "python",
   "nbconvert_exporter": "python",
   "pygments_lexer": "ipython3",
   "version": "3.8.5"
  }
 },
 "nbformat": 4,
 "nbformat_minor": 4
}
