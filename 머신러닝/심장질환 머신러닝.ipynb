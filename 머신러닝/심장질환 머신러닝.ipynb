{
 "cells": [
  {
   "cell_type": "markdown",
   "id": "0632b791-7b9f-4ca1-a250-8ccda8495c7d",
   "metadata": {},
   "source": [
    "## 라이브러리 불러오기"
   ]
  },
  {
   "cell_type": "code",
   "execution_count": 1,
   "id": "78096159-f1d8-4c0f-b149-722ece48e96e",
   "metadata": {},
   "outputs": [],
   "source": [
    "import pandas as pd\n",
    "import numpy as np\n",
    "import scipy as sp\n",
    "import matplotlib.pyplot as plt\n",
    "from sklearn.tree import DecisionTreeRegressor # 분석 알고리즘 DecisionTree 구현 라이브러리\n",
    "from sklearn.tree import DecisionTreeClassifier\n",
    "from sklearn.linear_model import LinearRegression # 변동성이 약한 데이터에서는 강한 모습을 보인다.\n",
    "from sklearn.ensemble import RandomForestClassifier\n",
    "from sklearn.ensemble import RandomForestRegressor\n",
    "from sklearn.model_selection import train_test_split # 과거 데이터를 8:2나 7:3으로 자동으로 나눠주는 함수\n",
    "from sklearn.preprocessing import LabelEncoder\n",
    "from sklearn.metrics import mean_absolute_error # 분석 평가 대표지표 : MAE\n",
    "from sklearn.metrics import mean_squared_error # 분석 평가 대표지표 : RMSE\n",
    "# 머신러닝 라이브러니\n",
    "# from sklearn.svm import SVC # 서포트 vector\n",
    "from sklearn import svm # 서포트 vector\n",
    "from sklearn.neighbors import KNeighborsClassifier # k neighbors\n",
    "# 데이터 전처리 라이브러리\n",
    "from sklearn.model_selection import train_test_split\n",
    "# 클래시피케이션 metricx \n",
    "from sklearn.metrics import accuracy_score, f1_score, recall_score, precision_score # 정확도 지표들\n",
    "# 결과를 출력하기 위한 라이브러리\n",
    "from sklearn.metrics import classification_report"
   ]
  },
  {
   "cell_type": "markdown",
   "id": "73e49556-febf-4033-81d6-91b5937fd2af",
   "metadata": {},
   "source": [
    "## 데이터 불러오기 및 확인하기"
   ]
  },
  {
   "cell_type": "code",
   "execution_count": 2,
   "id": "fce2837e-6ab1-44df-90a0-a65224e24790",
   "metadata": {},
   "outputs": [],
   "source": [
    "htData = \\\n",
    "pd.read_csv(\"../../stddev/archive/heart.csv\", encoding = \"ms949\")"
   ]
  },
  {
   "cell_type": "code",
   "execution_count": 3,
   "id": "d9ce2c2d-2d56-49e2-af85-681300a99742",
   "metadata": {},
   "outputs": [],
   "source": [
    "htData.reset_index(inplace=True)"
   ]
  },
  {
   "cell_type": "code",
   "execution_count": 4,
   "id": "ae421564-632c-43ca-afca-5ece87ee861c",
   "metadata": {},
   "outputs": [
    {
     "data": {
      "text/html": [
       "<div>\n",
       "<style scoped>\n",
       "    .dataframe tbody tr th:only-of-type {\n",
       "        vertical-align: middle;\n",
       "    }\n",
       "\n",
       "    .dataframe tbody tr th {\n",
       "        vertical-align: top;\n",
       "    }\n",
       "\n",
       "    .dataframe thead th {\n",
       "        text-align: right;\n",
       "    }\n",
       "</style>\n",
       "<table border=\"1\" class=\"dataframe\">\n",
       "  <thead>\n",
       "    <tr style=\"text-align: right;\">\n",
       "      <th></th>\n",
       "      <th>index</th>\n",
       "      <th>age</th>\n",
       "      <th>sex</th>\n",
       "      <th>cp</th>\n",
       "      <th>trtbps</th>\n",
       "      <th>chol</th>\n",
       "      <th>fbs</th>\n",
       "      <th>restecg</th>\n",
       "      <th>thalachh</th>\n",
       "      <th>exng</th>\n",
       "      <th>oldpeak</th>\n",
       "      <th>slp</th>\n",
       "      <th>caa</th>\n",
       "      <th>thall</th>\n",
       "      <th>output</th>\n",
       "    </tr>\n",
       "  </thead>\n",
       "  <tbody>\n",
       "    <tr>\n",
       "      <th>0</th>\n",
       "      <td>0</td>\n",
       "      <td>63</td>\n",
       "      <td>1</td>\n",
       "      <td>3</td>\n",
       "      <td>145</td>\n",
       "      <td>233</td>\n",
       "      <td>1</td>\n",
       "      <td>0</td>\n",
       "      <td>150</td>\n",
       "      <td>0</td>\n",
       "      <td>2.3</td>\n",
       "      <td>0</td>\n",
       "      <td>0</td>\n",
       "      <td>1</td>\n",
       "      <td>1</td>\n",
       "    </tr>\n",
       "    <tr>\n",
       "      <th>1</th>\n",
       "      <td>1</td>\n",
       "      <td>37</td>\n",
       "      <td>1</td>\n",
       "      <td>2</td>\n",
       "      <td>130</td>\n",
       "      <td>250</td>\n",
       "      <td>0</td>\n",
       "      <td>1</td>\n",
       "      <td>187</td>\n",
       "      <td>0</td>\n",
       "      <td>3.5</td>\n",
       "      <td>0</td>\n",
       "      <td>0</td>\n",
       "      <td>2</td>\n",
       "      <td>1</td>\n",
       "    </tr>\n",
       "    <tr>\n",
       "      <th>2</th>\n",
       "      <td>2</td>\n",
       "      <td>41</td>\n",
       "      <td>0</td>\n",
       "      <td>1</td>\n",
       "      <td>130</td>\n",
       "      <td>204</td>\n",
       "      <td>0</td>\n",
       "      <td>0</td>\n",
       "      <td>172</td>\n",
       "      <td>0</td>\n",
       "      <td>1.4</td>\n",
       "      <td>2</td>\n",
       "      <td>0</td>\n",
       "      <td>2</td>\n",
       "      <td>1</td>\n",
       "    </tr>\n",
       "    <tr>\n",
       "      <th>3</th>\n",
       "      <td>3</td>\n",
       "      <td>56</td>\n",
       "      <td>1</td>\n",
       "      <td>1</td>\n",
       "      <td>120</td>\n",
       "      <td>236</td>\n",
       "      <td>0</td>\n",
       "      <td>1</td>\n",
       "      <td>178</td>\n",
       "      <td>0</td>\n",
       "      <td>0.8</td>\n",
       "      <td>2</td>\n",
       "      <td>0</td>\n",
       "      <td>2</td>\n",
       "      <td>1</td>\n",
       "    </tr>\n",
       "    <tr>\n",
       "      <th>4</th>\n",
       "      <td>4</td>\n",
       "      <td>57</td>\n",
       "      <td>0</td>\n",
       "      <td>0</td>\n",
       "      <td>120</td>\n",
       "      <td>354</td>\n",
       "      <td>0</td>\n",
       "      <td>1</td>\n",
       "      <td>163</td>\n",
       "      <td>1</td>\n",
       "      <td>0.6</td>\n",
       "      <td>2</td>\n",
       "      <td>0</td>\n",
       "      <td>2</td>\n",
       "      <td>1</td>\n",
       "    </tr>\n",
       "    <tr>\n",
       "      <th>...</th>\n",
       "      <td>...</td>\n",
       "      <td>...</td>\n",
       "      <td>...</td>\n",
       "      <td>...</td>\n",
       "      <td>...</td>\n",
       "      <td>...</td>\n",
       "      <td>...</td>\n",
       "      <td>...</td>\n",
       "      <td>...</td>\n",
       "      <td>...</td>\n",
       "      <td>...</td>\n",
       "      <td>...</td>\n",
       "      <td>...</td>\n",
       "      <td>...</td>\n",
       "      <td>...</td>\n",
       "    </tr>\n",
       "    <tr>\n",
       "      <th>298</th>\n",
       "      <td>298</td>\n",
       "      <td>57</td>\n",
       "      <td>0</td>\n",
       "      <td>0</td>\n",
       "      <td>140</td>\n",
       "      <td>241</td>\n",
       "      <td>0</td>\n",
       "      <td>1</td>\n",
       "      <td>123</td>\n",
       "      <td>1</td>\n",
       "      <td>0.2</td>\n",
       "      <td>1</td>\n",
       "      <td>0</td>\n",
       "      <td>3</td>\n",
       "      <td>0</td>\n",
       "    </tr>\n",
       "    <tr>\n",
       "      <th>299</th>\n",
       "      <td>299</td>\n",
       "      <td>45</td>\n",
       "      <td>1</td>\n",
       "      <td>3</td>\n",
       "      <td>110</td>\n",
       "      <td>264</td>\n",
       "      <td>0</td>\n",
       "      <td>1</td>\n",
       "      <td>132</td>\n",
       "      <td>0</td>\n",
       "      <td>1.2</td>\n",
       "      <td>1</td>\n",
       "      <td>0</td>\n",
       "      <td>3</td>\n",
       "      <td>0</td>\n",
       "    </tr>\n",
       "    <tr>\n",
       "      <th>300</th>\n",
       "      <td>300</td>\n",
       "      <td>68</td>\n",
       "      <td>1</td>\n",
       "      <td>0</td>\n",
       "      <td>144</td>\n",
       "      <td>193</td>\n",
       "      <td>1</td>\n",
       "      <td>1</td>\n",
       "      <td>141</td>\n",
       "      <td>0</td>\n",
       "      <td>3.4</td>\n",
       "      <td>1</td>\n",
       "      <td>2</td>\n",
       "      <td>3</td>\n",
       "      <td>0</td>\n",
       "    </tr>\n",
       "    <tr>\n",
       "      <th>301</th>\n",
       "      <td>301</td>\n",
       "      <td>57</td>\n",
       "      <td>1</td>\n",
       "      <td>0</td>\n",
       "      <td>130</td>\n",
       "      <td>131</td>\n",
       "      <td>0</td>\n",
       "      <td>1</td>\n",
       "      <td>115</td>\n",
       "      <td>1</td>\n",
       "      <td>1.2</td>\n",
       "      <td>1</td>\n",
       "      <td>1</td>\n",
       "      <td>3</td>\n",
       "      <td>0</td>\n",
       "    </tr>\n",
       "    <tr>\n",
       "      <th>302</th>\n",
       "      <td>302</td>\n",
       "      <td>57</td>\n",
       "      <td>0</td>\n",
       "      <td>1</td>\n",
       "      <td>130</td>\n",
       "      <td>236</td>\n",
       "      <td>0</td>\n",
       "      <td>0</td>\n",
       "      <td>174</td>\n",
       "      <td>0</td>\n",
       "      <td>0.0</td>\n",
       "      <td>1</td>\n",
       "      <td>1</td>\n",
       "      <td>2</td>\n",
       "      <td>0</td>\n",
       "    </tr>\n",
       "  </tbody>\n",
       "</table>\n",
       "<p>303 rows × 15 columns</p>\n",
       "</div>"
      ],
      "text/plain": [
       "     index  age  sex  cp  trtbps  chol  fbs  restecg  thalachh  exng  oldpeak  \\\n",
       "0        0   63    1   3     145   233    1        0       150     0      2.3   \n",
       "1        1   37    1   2     130   250    0        1       187     0      3.5   \n",
       "2        2   41    0   1     130   204    0        0       172     0      1.4   \n",
       "3        3   56    1   1     120   236    0        1       178     0      0.8   \n",
       "4        4   57    0   0     120   354    0        1       163     1      0.6   \n",
       "..     ...  ...  ...  ..     ...   ...  ...      ...       ...   ...      ...   \n",
       "298    298   57    0   0     140   241    0        1       123     1      0.2   \n",
       "299    299   45    1   3     110   264    0        1       132     0      1.2   \n",
       "300    300   68    1   0     144   193    1        1       141     0      3.4   \n",
       "301    301   57    1   0     130   131    0        1       115     1      1.2   \n",
       "302    302   57    0   1     130   236    0        0       174     0      0.0   \n",
       "\n",
       "     slp  caa  thall  output  \n",
       "0      0    0      1       1  \n",
       "1      0    0      2       1  \n",
       "2      2    0      2       1  \n",
       "3      2    0      2       1  \n",
       "4      2    0      2       1  \n",
       "..   ...  ...    ...     ...  \n",
       "298    1    0      3       0  \n",
       "299    1    0      3       0  \n",
       "300    1    2      3       0  \n",
       "301    1    1      3       0  \n",
       "302    1    1      2       0  \n",
       "\n",
       "[303 rows x 15 columns]"
      ]
     },
     "execution_count": 4,
     "metadata": {},
     "output_type": "execute_result"
    }
   ],
   "source": [
    "htData"
   ]
  },
  {
   "cell_type": "code",
   "execution_count": 5,
   "id": "bd583e00-4cc0-425b-b993-291a97e1008e",
   "metadata": {},
   "outputs": [
    {
     "data": {
      "text/plain": [
       "index       303\n",
       "age         303\n",
       "sex         303\n",
       "cp          303\n",
       "trtbps      303\n",
       "chol        303\n",
       "fbs         303\n",
       "restecg     303\n",
       "thalachh    303\n",
       "exng        303\n",
       "oldpeak     303\n",
       "slp         303\n",
       "caa         303\n",
       "thall       303\n",
       "output      303\n",
       "dtype: int64"
      ]
     },
     "execution_count": 5,
     "metadata": {},
     "output_type": "execute_result"
    }
   ],
   "source": [
    "htData.count()"
   ]
  },
  {
   "cell_type": "markdown",
   "id": "7252f9b8-82a6-4cf1-a9b2-143667b21986",
   "metadata": {},
   "source": [
    "## 컬럼 간 상관관계 파악하기"
   ]
  },
  {
   "cell_type": "code",
   "execution_count": 6,
   "id": "c634eac4-3d4e-4cfd-995c-107b968f2483",
   "metadata": {},
   "outputs": [],
   "source": [
    "corrDf = htData.corr()\n",
    "corrDf"
   ]
  },
  {
   "cell_type": "code",
   "execution_count": 8,
   "id": "ac6e4a30-674c-4ebd-bb4f-45902674c2c7",
   "metadata": {},
   "outputs": [],
   "source": [
    "standardLimit = 0.4"
   ]
  },
  {
   "cell_type": "code",
   "execution_count": 9,
   "id": "a5dcfd7c-4820-4f00-8026-781a60677b0f",
   "metadata": {},
   "outputs": [],
   "source": [
    "# ['cp', 'thalachh', 'exng', 'oldpeak']\n",
    "features = list(corrDf.loc[(abs(corrDf['output']) > standardLimit) & (corrDf['output'] != 1)].index)\n",
    "\n",
    "for col in features:\n",
    "    if col == 'index':\n",
    "        features.remove(col)"
   ]
  },
  {
   "cell_type": "code",
   "execution_count": 10,
   "id": "05c68318-eacc-492c-911f-cd70f17aea63",
   "metadata": {},
   "outputs": [],
   "source": [
    "lable = ['output']"
   ]
  },
  {
   "cell_type": "markdown",
   "id": "fa30c97d-4d2e-4a39-acef-2c33ea9c5ba8",
   "metadata": {},
   "source": [
    "## 데이터 분리"
   ]
  },
  {
   "cell_type": "code",
   "execution_count": 11,
   "id": "7055b64e-3d58-433e-8d53-2f6c16fe227f",
   "metadata": {},
   "outputs": [
    {
     "data": {
      "text/plain": [
       "(303, 15)"
      ]
     },
     "execution_count": 11,
     "metadata": {},
     "output_type": "execute_result"
    }
   ],
   "source": [
    "htData.shape"
   ]
  },
  {
   "cell_type": "code",
   "execution_count": 12,
   "id": "cfa6948c-3536-4d27-b694-feb1c8737b94",
   "metadata": {},
   "outputs": [
    {
     "data": {
      "text/plain": [
       "242"
      ]
     },
     "execution_count": 12,
     "metadata": {},
     "output_type": "execute_result"
    }
   ],
   "source": [
    "seperation = 0.8\n",
    "selectedIndex = int(list(htData.shape)[0] * seperation)\n",
    "indexStd = htData['index'].loc[selectedIndex]\n",
    "indexStd"
   ]
  },
  {
   "cell_type": "code",
   "execution_count": 13,
   "id": "0313b831-15ae-48c8-b2fc-0cfa312698c7",
   "metadata": {},
   "outputs": [],
   "source": [
    "features_data80,\\\n",
    "features_data20,\\\n",
    "label_data80,\\\n",
    "label_data20 = train_test_split(htData.loc[:,features],\\\n",
    "                                htData.loc[:,lable],test_size=0.2,random_state=5)"
   ]
  },
  {
   "cell_type": "markdown",
   "id": "be598645-abfa-48d4-a943-2a6780d399e3",
   "metadata": {},
   "source": [
    "## 1.모델적용(의사결정 나무)"
   ]
  },
  {
   "cell_type": "code",
   "execution_count": 14,
   "id": "0f808db2-a829-40e9-84c0-c9cac3692165",
   "metadata": {},
   "outputs": [
    {
     "data": {
      "text/plain": [
       "DecisionTreeClassifier(random_state=5)"
      ]
     },
     "execution_count": 14,
     "metadata": {},
     "output_type": "execute_result"
    }
   ],
   "source": [
    "model = DecisionTreeClassifier(random_state=5)\n",
    "model.fit(X=features_data80 ,y=label_data80)"
   ]
  },
  {
   "cell_type": "markdown",
   "id": "f3b194e6-bad0-42c7-a7f6-404d9a9f6fd2",
   "metadata": {
    "tags": []
   },
   "source": [
    "## 예측(의사결정 나무)"
   ]
  },
  {
   "cell_type": "code",
   "execution_count": 15,
   "id": "9b08e620-f790-4d15-b775-1eecfb00fc17",
   "metadata": {
    "tags": []
   },
   "outputs": [
    {
     "data": {
      "text/html": [
       "<div>\n",
       "<style scoped>\n",
       "    .dataframe tbody tr th:only-of-type {\n",
       "        vertical-align: middle;\n",
       "    }\n",
       "\n",
       "    .dataframe tbody tr th {\n",
       "        vertical-align: top;\n",
       "    }\n",
       "\n",
       "    .dataframe thead th {\n",
       "        text-align: right;\n",
       "    }\n",
       "</style>\n",
       "<table border=\"1\" class=\"dataframe\">\n",
       "  <thead>\n",
       "    <tr style=\"text-align: right;\">\n",
       "      <th></th>\n",
       "      <th>output</th>\n",
       "      <th>PREDICT</th>\n",
       "    </tr>\n",
       "  </thead>\n",
       "  <tbody>\n",
       "    <tr>\n",
       "      <th>0</th>\n",
       "      <td>0</td>\n",
       "      <td>1</td>\n",
       "    </tr>\n",
       "    <tr>\n",
       "      <th>1</th>\n",
       "      <td>0</td>\n",
       "      <td>0</td>\n",
       "    </tr>\n",
       "    <tr>\n",
       "      <th>2</th>\n",
       "      <td>0</td>\n",
       "      <td>0</td>\n",
       "    </tr>\n",
       "    <tr>\n",
       "      <th>3</th>\n",
       "      <td>0</td>\n",
       "      <td>0</td>\n",
       "    </tr>\n",
       "    <tr>\n",
       "      <th>4</th>\n",
       "      <td>1</td>\n",
       "      <td>0</td>\n",
       "    </tr>\n",
       "    <tr>\n",
       "      <th>...</th>\n",
       "      <td>...</td>\n",
       "      <td>...</td>\n",
       "    </tr>\n",
       "    <tr>\n",
       "      <th>56</th>\n",
       "      <td>1</td>\n",
       "      <td>1</td>\n",
       "    </tr>\n",
       "    <tr>\n",
       "      <th>57</th>\n",
       "      <td>0</td>\n",
       "      <td>1</td>\n",
       "    </tr>\n",
       "    <tr>\n",
       "      <th>58</th>\n",
       "      <td>0</td>\n",
       "      <td>1</td>\n",
       "    </tr>\n",
       "    <tr>\n",
       "      <th>59</th>\n",
       "      <td>1</td>\n",
       "      <td>0</td>\n",
       "    </tr>\n",
       "    <tr>\n",
       "      <th>60</th>\n",
       "      <td>0</td>\n",
       "      <td>0</td>\n",
       "    </tr>\n",
       "  </tbody>\n",
       "</table>\n",
       "<p>61 rows × 2 columns</p>\n",
       "</div>"
      ],
      "text/plain": [
       "    output  PREDICT\n",
       "0        0        1\n",
       "1        0        0\n",
       "2        0        0\n",
       "3        0        0\n",
       "4        1        0\n",
       "..     ...      ...\n",
       "56       1        1\n",
       "57       0        1\n",
       "58       0        1\n",
       "59       1        0\n",
       "60       0        0\n",
       "\n",
       "[61 rows x 2 columns]"
      ]
     },
     "execution_count": 15,
     "metadata": {},
     "output_type": "execute_result"
    }
   ],
   "source": [
    "predictValue = model.predict(features_data20)\n",
    "predictDF = pd.DataFrame(list(predictValue),columns=['PREDICT'])\n",
    "validateDf = pd.concat([label_data20.reset_index(drop=True),predictDF],axis=1)\n",
    "validateDf"
   ]
  },
  {
   "cell_type": "markdown",
   "id": "d0729451-b275-4319-9f65-0256ac388538",
   "metadata": {
    "tags": []
   },
   "source": [
    "## 정확도 검증(의사결정 나무)"
   ]
  },
  {
   "cell_type": "code",
   "execution_count": 16,
   "id": "c771a978-ce9f-4523-a2aa-4979687cd07f",
   "metadata": {},
   "outputs": [
    {
     "data": {
      "text/plain": [
       "(0.2786885245901639, 0.5279095799378564)"
      ]
     },
     "execution_count": 16,
     "metadata": {},
     "output_type": "execute_result"
    }
   ],
   "source": [
    "# MAE 평균절대오차\n",
    "mae = mean_absolute_error(y_true=validateDf.output,\n",
    "                   y_pred=validateDf.PREDICT)\n",
    "\n",
    "# RMSE는 평균제곱근오차 MAE와 유사\n",
    "# RMSE는 MAE에 비해 직관성은 떨어지지만, 로버스트한 성격(=극단적이지 않은)에서 강점을 보인다고 정리할 수 있다.\n",
    "# \"큰 오류값 차이에 대해서 크게 패널티를 주는\" 이점이 있음\n",
    "rmse = np.sqrt(mean_squared_error(y_true=validateDf.output,\n",
    "                   y_pred=validateDf.PREDICT))\n",
    "mae,rmse"
   ]
  },
  {
   "cell_type": "code",
   "execution_count": 17,
   "id": "133af7f1-791c-4026-ae77-7760514f9b20",
   "metadata": {},
   "outputs": [
    {
     "data": {
      "text/html": [
       "<div>\n",
       "<style scoped>\n",
       "    .dataframe tbody tr th:only-of-type {\n",
       "        vertical-align: middle;\n",
       "    }\n",
       "\n",
       "    .dataframe tbody tr th {\n",
       "        vertical-align: top;\n",
       "    }\n",
       "\n",
       "    .dataframe thead th {\n",
       "        text-align: right;\n",
       "    }\n",
       "</style>\n",
       "<table border=\"1\" class=\"dataframe\">\n",
       "  <thead>\n",
       "    <tr style=\"text-align: right;\">\n",
       "      <th></th>\n",
       "      <th>output</th>\n",
       "      <th>PREDICT</th>\n",
       "      <th>acc</th>\n",
       "    </tr>\n",
       "  </thead>\n",
       "  <tbody>\n",
       "    <tr>\n",
       "      <th>0</th>\n",
       "      <td>0</td>\n",
       "      <td>1</td>\n",
       "      <td>실패</td>\n",
       "    </tr>\n",
       "    <tr>\n",
       "      <th>1</th>\n",
       "      <td>0</td>\n",
       "      <td>0</td>\n",
       "      <td>성공</td>\n",
       "    </tr>\n",
       "    <tr>\n",
       "      <th>2</th>\n",
       "      <td>0</td>\n",
       "      <td>0</td>\n",
       "      <td>성공</td>\n",
       "    </tr>\n",
       "    <tr>\n",
       "      <th>3</th>\n",
       "      <td>0</td>\n",
       "      <td>0</td>\n",
       "      <td>성공</td>\n",
       "    </tr>\n",
       "    <tr>\n",
       "      <th>4</th>\n",
       "      <td>1</td>\n",
       "      <td>0</td>\n",
       "      <td>실패</td>\n",
       "    </tr>\n",
       "    <tr>\n",
       "      <th>...</th>\n",
       "      <td>...</td>\n",
       "      <td>...</td>\n",
       "      <td>...</td>\n",
       "    </tr>\n",
       "    <tr>\n",
       "      <th>56</th>\n",
       "      <td>1</td>\n",
       "      <td>1</td>\n",
       "      <td>성공</td>\n",
       "    </tr>\n",
       "    <tr>\n",
       "      <th>57</th>\n",
       "      <td>0</td>\n",
       "      <td>1</td>\n",
       "      <td>실패</td>\n",
       "    </tr>\n",
       "    <tr>\n",
       "      <th>58</th>\n",
       "      <td>0</td>\n",
       "      <td>1</td>\n",
       "      <td>실패</td>\n",
       "    </tr>\n",
       "    <tr>\n",
       "      <th>59</th>\n",
       "      <td>1</td>\n",
       "      <td>0</td>\n",
       "      <td>실패</td>\n",
       "    </tr>\n",
       "    <tr>\n",
       "      <th>60</th>\n",
       "      <td>0</td>\n",
       "      <td>0</td>\n",
       "      <td>성공</td>\n",
       "    </tr>\n",
       "  </tbody>\n",
       "</table>\n",
       "<p>61 rows × 3 columns</p>\n",
       "</div>"
      ],
      "text/plain": [
       "    output  PREDICT acc\n",
       "0        0        1  실패\n",
       "1        0        0  성공\n",
       "2        0        0  성공\n",
       "3        0        0  성공\n",
       "4        1        0  실패\n",
       "..     ...      ...  ..\n",
       "56       1        1  성공\n",
       "57       0        1  실패\n",
       "58       0        1  실패\n",
       "59       1        0  실패\n",
       "60       0        0  성공\n",
       "\n",
       "[61 rows x 3 columns]"
      ]
     },
     "execution_count": 17,
     "metadata": {},
     "output_type": "execute_result"
    }
   ],
   "source": [
    "# 정확도 컬럼 추가\n",
    "acc = pd.DataFrame(list(np.where( validateDf.output == validateDf.PREDICT, '성공', '실패')),columns=['acc'])\n",
    "realValidateDf = pd.concat([validateDf.reset_index(drop=True),acc],axis=1)\n",
    "realValidateDf"
   ]
  },
  {
   "cell_type": "code",
   "execution_count": 18,
   "id": "799426e8-fb80-459f-8050-0f9e5bddf98b",
   "metadata": {},
   "outputs": [
    {
     "data": {
      "text/plain": [
       "0.7213114754098361"
      ]
     },
     "execution_count": 18,
     "metadata": {},
     "output_type": "execute_result"
    }
   ],
   "source": [
    "realAcc = realValidateDf.loc[realValidateDf.acc=='성공'].shape[0]/realValidateDf.shape[0]\n",
    "realAcc"
   ]
  },
  {
   "cell_type": "markdown",
   "id": "2ccecdb4-9a42-49d9-8235-5131d4963b39",
   "metadata": {},
   "source": [
    "## 2.모델적용(랜덤 포레스트)"
   ]
  },
  {
   "cell_type": "code",
   "execution_count": 19,
   "id": "057dd445-486c-414b-8e61-e2bcdcb29341",
   "metadata": {},
   "outputs": [
    {
     "name": "stderr",
     "output_type": "stream",
     "text": [
      "<ipython-input-19-ece03eb253d2>:2: DataConversionWarning: A column-vector y was passed when a 1d array was expected. Please change the shape of y to (n_samples,), for example using ravel().\n",
      "  model2.fit(X=features_data80, y=label_data80)\n"
     ]
    },
    {
     "data": {
      "text/plain": [
       "RandomForestClassifier(random_state=5)"
      ]
     },
     "execution_count": 19,
     "metadata": {},
     "output_type": "execute_result"
    }
   ],
   "source": [
    "model2 = RandomForestClassifier(random_state=5)\n",
    "model2.fit(X=features_data80, y=label_data80)"
   ]
  },
  {
   "cell_type": "markdown",
   "id": "eb8c9a99-ce55-4525-9bf5-918c5aa0c001",
   "metadata": {},
   "source": [
    "## 예측(랜덤 포레스트)"
   ]
  },
  {
   "cell_type": "code",
   "execution_count": 20,
   "id": "02c07d47-6e4a-4992-880a-8bce24ad429d",
   "metadata": {},
   "outputs": [
    {
     "data": {
      "text/html": [
       "<div>\n",
       "<style scoped>\n",
       "    .dataframe tbody tr th:only-of-type {\n",
       "        vertical-align: middle;\n",
       "    }\n",
       "\n",
       "    .dataframe tbody tr th {\n",
       "        vertical-align: top;\n",
       "    }\n",
       "\n",
       "    .dataframe thead th {\n",
       "        text-align: right;\n",
       "    }\n",
       "</style>\n",
       "<table border=\"1\" class=\"dataframe\">\n",
       "  <thead>\n",
       "    <tr style=\"text-align: right;\">\n",
       "      <th></th>\n",
       "      <th>output</th>\n",
       "      <th>PREDICT2</th>\n",
       "    </tr>\n",
       "  </thead>\n",
       "  <tbody>\n",
       "    <tr>\n",
       "      <th>0</th>\n",
       "      <td>0</td>\n",
       "      <td>1</td>\n",
       "    </tr>\n",
       "    <tr>\n",
       "      <th>1</th>\n",
       "      <td>0</td>\n",
       "      <td>0</td>\n",
       "    </tr>\n",
       "    <tr>\n",
       "      <th>2</th>\n",
       "      <td>0</td>\n",
       "      <td>0</td>\n",
       "    </tr>\n",
       "    <tr>\n",
       "      <th>3</th>\n",
       "      <td>0</td>\n",
       "      <td>0</td>\n",
       "    </tr>\n",
       "    <tr>\n",
       "      <th>4</th>\n",
       "      <td>1</td>\n",
       "      <td>1</td>\n",
       "    </tr>\n",
       "    <tr>\n",
       "      <th>...</th>\n",
       "      <td>...</td>\n",
       "      <td>...</td>\n",
       "    </tr>\n",
       "    <tr>\n",
       "      <th>56</th>\n",
       "      <td>1</td>\n",
       "      <td>1</td>\n",
       "    </tr>\n",
       "    <tr>\n",
       "      <th>57</th>\n",
       "      <td>0</td>\n",
       "      <td>1</td>\n",
       "    </tr>\n",
       "    <tr>\n",
       "      <th>58</th>\n",
       "      <td>0</td>\n",
       "      <td>0</td>\n",
       "    </tr>\n",
       "    <tr>\n",
       "      <th>59</th>\n",
       "      <td>1</td>\n",
       "      <td>0</td>\n",
       "    </tr>\n",
       "    <tr>\n",
       "      <th>60</th>\n",
       "      <td>0</td>\n",
       "      <td>0</td>\n",
       "    </tr>\n",
       "  </tbody>\n",
       "</table>\n",
       "<p>61 rows × 2 columns</p>\n",
       "</div>"
      ],
      "text/plain": [
       "    output  PREDICT2\n",
       "0        0         1\n",
       "1        0         0\n",
       "2        0         0\n",
       "3        0         0\n",
       "4        1         1\n",
       "..     ...       ...\n",
       "56       1         1\n",
       "57       0         1\n",
       "58       0         0\n",
       "59       1         0\n",
       "60       0         0\n",
       "\n",
       "[61 rows x 2 columns]"
      ]
     },
     "execution_count": 20,
     "metadata": {},
     "output_type": "execute_result"
    }
   ],
   "source": [
    "predictValue2 = model2.predict(features_data20)\n",
    "predictDF2 = pd.DataFrame(list(predictValue2),columns=['PREDICT2'])\n",
    "validateDf2 = pd.concat([label_data20.reset_index(drop=True),predictDF2],axis=1)\n",
    "validateDf2"
   ]
  },
  {
   "cell_type": "markdown",
   "id": "078e3b71-e6df-4050-af5c-928fbc043756",
   "metadata": {},
   "source": [
    "## 정확도 검증(랜덤 포레스트)"
   ]
  },
  {
   "cell_type": "code",
   "execution_count": 21,
   "id": "2cf5fed0-e9f8-40fb-b451-6c216dc28445",
   "metadata": {},
   "outputs": [
    {
     "data": {
      "text/plain": [
       "(0.16393442622950818, 0.40488816508945796)"
      ]
     },
     "execution_count": 21,
     "metadata": {},
     "output_type": "execute_result"
    }
   ],
   "source": [
    "# MAE 평균절대오차\n",
    "mae2 = mean_absolute_error(y_true=validateDf2.output,\n",
    "                   y_pred=validateDf2.PREDICT2)\n",
    "\n",
    "# RMSE는 평균제곱근오차 MAE와 유사\n",
    "# RMSE는 MAE에 비해 직관성은 떨어지지만, 로버스트한 성격(=극단적이지 않은)에서 강점을 보인다고 정리할 수 있다.\n",
    "# \"큰 오류값 차이에 대해서 크게 패널티를 주는\" 이점이 있음\n",
    "rmse2 = np.sqrt(mean_squared_error(y_true=validateDf2.output,\n",
    "                   y_pred=validateDf2.PREDICT2))\n",
    "mae2,rmse2"
   ]
  },
  {
   "cell_type": "code",
   "execution_count": 22,
   "id": "f00077b1-1e51-42f8-b2f8-0db3d0b38cfc",
   "metadata": {},
   "outputs": [
    {
     "data": {
      "text/html": [
       "<div>\n",
       "<style scoped>\n",
       "    .dataframe tbody tr th:only-of-type {\n",
       "        vertical-align: middle;\n",
       "    }\n",
       "\n",
       "    .dataframe tbody tr th {\n",
       "        vertical-align: top;\n",
       "    }\n",
       "\n",
       "    .dataframe thead th {\n",
       "        text-align: right;\n",
       "    }\n",
       "</style>\n",
       "<table border=\"1\" class=\"dataframe\">\n",
       "  <thead>\n",
       "    <tr style=\"text-align: right;\">\n",
       "      <th></th>\n",
       "      <th>output</th>\n",
       "      <th>PREDICT2</th>\n",
       "      <th>acc2</th>\n",
       "    </tr>\n",
       "  </thead>\n",
       "  <tbody>\n",
       "    <tr>\n",
       "      <th>0</th>\n",
       "      <td>0</td>\n",
       "      <td>1</td>\n",
       "      <td>실패</td>\n",
       "    </tr>\n",
       "    <tr>\n",
       "      <th>1</th>\n",
       "      <td>0</td>\n",
       "      <td>0</td>\n",
       "      <td>성공</td>\n",
       "    </tr>\n",
       "    <tr>\n",
       "      <th>2</th>\n",
       "      <td>0</td>\n",
       "      <td>0</td>\n",
       "      <td>성공</td>\n",
       "    </tr>\n",
       "    <tr>\n",
       "      <th>3</th>\n",
       "      <td>0</td>\n",
       "      <td>0</td>\n",
       "      <td>성공</td>\n",
       "    </tr>\n",
       "    <tr>\n",
       "      <th>4</th>\n",
       "      <td>1</td>\n",
       "      <td>1</td>\n",
       "      <td>성공</td>\n",
       "    </tr>\n",
       "    <tr>\n",
       "      <th>...</th>\n",
       "      <td>...</td>\n",
       "      <td>...</td>\n",
       "      <td>...</td>\n",
       "    </tr>\n",
       "    <tr>\n",
       "      <th>56</th>\n",
       "      <td>1</td>\n",
       "      <td>1</td>\n",
       "      <td>성공</td>\n",
       "    </tr>\n",
       "    <tr>\n",
       "      <th>57</th>\n",
       "      <td>0</td>\n",
       "      <td>1</td>\n",
       "      <td>실패</td>\n",
       "    </tr>\n",
       "    <tr>\n",
       "      <th>58</th>\n",
       "      <td>0</td>\n",
       "      <td>0</td>\n",
       "      <td>성공</td>\n",
       "    </tr>\n",
       "    <tr>\n",
       "      <th>59</th>\n",
       "      <td>1</td>\n",
       "      <td>0</td>\n",
       "      <td>실패</td>\n",
       "    </tr>\n",
       "    <tr>\n",
       "      <th>60</th>\n",
       "      <td>0</td>\n",
       "      <td>0</td>\n",
       "      <td>성공</td>\n",
       "    </tr>\n",
       "  </tbody>\n",
       "</table>\n",
       "<p>61 rows × 3 columns</p>\n",
       "</div>"
      ],
      "text/plain": [
       "    output  PREDICT2 acc2\n",
       "0        0         1   실패\n",
       "1        0         0   성공\n",
       "2        0         0   성공\n",
       "3        0         0   성공\n",
       "4        1         1   성공\n",
       "..     ...       ...  ...\n",
       "56       1         1   성공\n",
       "57       0         1   실패\n",
       "58       0         0   성공\n",
       "59       1         0   실패\n",
       "60       0         0   성공\n",
       "\n",
       "[61 rows x 3 columns]"
      ]
     },
     "execution_count": 22,
     "metadata": {},
     "output_type": "execute_result"
    }
   ],
   "source": [
    "# 정확도 컬럼 추가\n",
    "acc2 = pd.DataFrame(list(np.where( validateDf2.output == validateDf2.PREDICT2, '성공', '실패')),columns=['acc2'])\n",
    "realValidateDf2 = pd.concat([validateDf2.reset_index(drop=True),acc2],axis=1)\n",
    "realValidateDf2"
   ]
  },
  {
   "cell_type": "code",
   "execution_count": 23,
   "id": "d3e2ec7c-8c68-4640-994f-8ee927e01726",
   "metadata": {},
   "outputs": [
    {
     "data": {
      "text/plain": [
       "0.8360655737704918"
      ]
     },
     "execution_count": 23,
     "metadata": {},
     "output_type": "execute_result"
    }
   ],
   "source": [
    "realAcc2 = realValidateDf2.loc[realValidateDf2.acc2=='성공'].shape[0]/realValidateDf2.shape[0]\n",
    "realAcc2"
   ]
  },
  {
   "cell_type": "markdown",
   "id": "7fdb01ab-b551-4efb-a5db-0889b8e6dab8",
   "metadata": {},
   "source": [
    "## 3.모델적용(선형회귀)"
   ]
  },
  {
   "cell_type": "code",
   "execution_count": 24,
   "id": "8a1f5728-a355-4cba-9469-a0f72a19ed5a",
   "metadata": {},
   "outputs": [
    {
     "data": {
      "text/plain": [
       "LinearRegression()"
      ]
     },
     "execution_count": 24,
     "metadata": {},
     "output_type": "execute_result"
    }
   ],
   "source": [
    "model3 = LinearRegression()\n",
    "model3.fit(X=features_data80 ,y=label_data80)"
   ]
  },
  {
   "cell_type": "code",
   "execution_count": 25,
   "id": "bcce6f88-bb75-4fa8-b672-e8601ceba5a0",
   "metadata": {},
   "outputs": [
    {
     "data": {
      "text/plain": [
       "array([[ 0.11287352,  0.00444584, -0.20976594, -0.10447137]])"
      ]
     },
     "execution_count": 25,
     "metadata": {},
     "output_type": "execute_result"
    }
   ],
   "source": [
    "model3.coef_"
   ]
  },
  {
   "cell_type": "code",
   "execution_count": 26,
   "id": "2dfd485c-1f1f-4924-b837-9afad6cbf310",
   "metadata": {},
   "outputs": [
    {
     "data": {
      "text/plain": [
       "array([-0.06051548])"
      ]
     },
     "execution_count": 26,
     "metadata": {},
     "output_type": "execute_result"
    }
   ],
   "source": [
    "model3.intercept_"
   ]
  },
  {
   "cell_type": "markdown",
   "id": "19d44c6f-7aeb-4ce3-9329-cb4293d13ce1",
   "metadata": {},
   "source": [
    "## 예측(선형회귀)"
   ]
  },
  {
   "cell_type": "code",
   "execution_count": 27,
   "id": "69edcd00-b657-4b34-86d0-8a27a124456d",
   "metadata": {},
   "outputs": [
    {
     "data": {
      "text/html": [
       "<div>\n",
       "<style scoped>\n",
       "    .dataframe tbody tr th:only-of-type {\n",
       "        vertical-align: middle;\n",
       "    }\n",
       "\n",
       "    .dataframe tbody tr th {\n",
       "        vertical-align: top;\n",
       "    }\n",
       "\n",
       "    .dataframe thead th {\n",
       "        text-align: right;\n",
       "    }\n",
       "</style>\n",
       "<table border=\"1\" class=\"dataframe\">\n",
       "  <thead>\n",
       "    <tr style=\"text-align: right;\">\n",
       "      <th></th>\n",
       "      <th>output</th>\n",
       "      <th>PREDICT3</th>\n",
       "    </tr>\n",
       "  </thead>\n",
       "  <tbody>\n",
       "    <tr>\n",
       "      <th>0</th>\n",
       "      <td>0</td>\n",
       "      <td>0.825934</td>\n",
       "    </tr>\n",
       "    <tr>\n",
       "      <th>1</th>\n",
       "      <td>0</td>\n",
       "      <td>-0.004413</td>\n",
       "    </tr>\n",
       "    <tr>\n",
       "      <th>2</th>\n",
       "      <td>0</td>\n",
       "      <td>-0.088873</td>\n",
       "    </tr>\n",
       "    <tr>\n",
       "      <th>3</th>\n",
       "      <td>0</td>\n",
       "      <td>0.274339</td>\n",
       "    </tr>\n",
       "    <tr>\n",
       "      <th>4</th>\n",
       "      <td>1</td>\n",
       "      <td>0.713438</td>\n",
       "    </tr>\n",
       "    <tr>\n",
       "      <th>...</th>\n",
       "      <td>...</td>\n",
       "      <td>...</td>\n",
       "    </tr>\n",
       "    <tr>\n",
       "      <th>56</th>\n",
       "      <td>1</td>\n",
       "      <td>0.730795</td>\n",
       "    </tr>\n",
       "    <tr>\n",
       "      <th>57</th>\n",
       "      <td>0</td>\n",
       "      <td>0.480490</td>\n",
       "    </tr>\n",
       "    <tr>\n",
       "      <th>58</th>\n",
       "      <td>0</td>\n",
       "      <td>0.442673</td>\n",
       "    </tr>\n",
       "    <tr>\n",
       "      <th>59</th>\n",
       "      <td>1</td>\n",
       "      <td>0.832107</td>\n",
       "    </tr>\n",
       "    <tr>\n",
       "      <th>60</th>\n",
       "      <td>0</td>\n",
       "      <td>0.436536</td>\n",
       "    </tr>\n",
       "  </tbody>\n",
       "</table>\n",
       "<p>61 rows × 2 columns</p>\n",
       "</div>"
      ],
      "text/plain": [
       "    output  PREDICT3\n",
       "0        0  0.825934\n",
       "1        0 -0.004413\n",
       "2        0 -0.088873\n",
       "3        0  0.274339\n",
       "4        1  0.713438\n",
       "..     ...       ...\n",
       "56       1  0.730795\n",
       "57       0  0.480490\n",
       "58       0  0.442673\n",
       "59       1  0.832107\n",
       "60       0  0.436536\n",
       "\n",
       "[61 rows x 2 columns]"
      ]
     },
     "execution_count": 27,
     "metadata": {},
     "output_type": "execute_result"
    }
   ],
   "source": [
    "predictValue3 = model3.predict(features_data20)\n",
    "predictDF3 = pd.DataFrame(list(predictValue3),columns=['PREDICT3'])\n",
    "validateDf3 = pd.concat([label_data20.reset_index(drop=True),predictDF3],axis=1)\n",
    "validateDf3"
   ]
  },
  {
   "cell_type": "markdown",
   "id": "16ce49e3-e882-40fb-b958-8976f7927dbf",
   "metadata": {},
   "source": [
    "## 정확도 검증(선형회귀)"
   ]
  },
  {
   "cell_type": "code",
   "execution_count": 28,
   "id": "08519fcb-05c3-460a-912b-8dab9557791d",
   "metadata": {},
   "outputs": [
    {
     "data": {
      "text/plain": [
       "(0.2762424818403152, 0.34349851605744847)"
      ]
     },
     "execution_count": 28,
     "metadata": {},
     "output_type": "execute_result"
    }
   ],
   "source": [
    "# MAE 평균절대오차\n",
    "mae3 = mean_absolute_error(y_true=validateDf3.output,\n",
    "                   y_pred=validateDf3.PREDICT3)\n",
    "\n",
    "# RMSE는 평균제곱근오차 MAE와 유사\n",
    "# RMSE는 MAE에 비해 직관성은 떨어지지만, 로버스트한 성격(=극단적이지 않은)에서 강점을 보인다고 정리할 수 있다.\n",
    "# \"큰 오류값 차이에 대해서 크게 패널티를 주는\" 이점이 있음\n",
    "rmse3 = np.sqrt(mean_squared_error(y_true=validateDf3.output,\n",
    "                   y_pred=validateDf3.PREDICT3))\n",
    "mae3,rmse3"
   ]
  },
  {
   "cell_type": "markdown",
   "id": "63b400bc-fbc8-47d8-b6ce-41b350e9adf6",
   "metadata": {},
   "source": [
    "## 4.모델적용(서포트백터)"
   ]
  },
  {
   "cell_type": "code",
   "execution_count": 29,
   "id": "915233fb-5a36-4eb9-a702-a47e6ddf3625",
   "metadata": {},
   "outputs": [
    {
     "name": "stderr",
     "output_type": "stream",
     "text": [
      "C:\\Users\\SMART-19\\anaconda3\\lib\\site-packages\\sklearn\\utils\\validation.py:63: DataConversionWarning: A column-vector y was passed when a 1d array was expected. Please change the shape of y to (n_samples, ), for example using ravel().\n",
      "  return f(*args, **kwargs)\n"
     ]
    },
    {
     "data": {
      "text/plain": [
       "SVC(random_state=5)"
      ]
     },
     "execution_count": 29,
     "metadata": {},
     "output_type": "execute_result"
    }
   ],
   "source": [
    "model4= svm.SVC(random_state=5)\n",
    "model4.fit( X=features_data80,y=label_data80)"
   ]
  },
  {
   "cell_type": "markdown",
   "id": "273347c2-c6bf-412d-879d-49c06544ab31",
   "metadata": {},
   "source": [
    "## 예측(서포트백터)"
   ]
  },
  {
   "cell_type": "code",
   "execution_count": 30,
   "id": "99521b99-95fe-44ae-b87f-2a7094f57766",
   "metadata": {},
   "outputs": [
    {
     "data": {
      "text/html": [
       "<div>\n",
       "<style scoped>\n",
       "    .dataframe tbody tr th:only-of-type {\n",
       "        vertical-align: middle;\n",
       "    }\n",
       "\n",
       "    .dataframe tbody tr th {\n",
       "        vertical-align: top;\n",
       "    }\n",
       "\n",
       "    .dataframe thead th {\n",
       "        text-align: right;\n",
       "    }\n",
       "</style>\n",
       "<table border=\"1\" class=\"dataframe\">\n",
       "  <thead>\n",
       "    <tr style=\"text-align: right;\">\n",
       "      <th></th>\n",
       "      <th>output</th>\n",
       "      <th>PREDICT4</th>\n",
       "    </tr>\n",
       "  </thead>\n",
       "  <tbody>\n",
       "    <tr>\n",
       "      <th>0</th>\n",
       "      <td>0</td>\n",
       "      <td>1</td>\n",
       "    </tr>\n",
       "    <tr>\n",
       "      <th>1</th>\n",
       "      <td>0</td>\n",
       "      <td>0</td>\n",
       "    </tr>\n",
       "    <tr>\n",
       "      <th>2</th>\n",
       "      <td>0</td>\n",
       "      <td>0</td>\n",
       "    </tr>\n",
       "    <tr>\n",
       "      <th>3</th>\n",
       "      <td>0</td>\n",
       "      <td>1</td>\n",
       "    </tr>\n",
       "    <tr>\n",
       "      <th>4</th>\n",
       "      <td>1</td>\n",
       "      <td>1</td>\n",
       "    </tr>\n",
       "    <tr>\n",
       "      <th>...</th>\n",
       "      <td>...</td>\n",
       "      <td>...</td>\n",
       "    </tr>\n",
       "    <tr>\n",
       "      <th>56</th>\n",
       "      <td>1</td>\n",
       "      <td>1</td>\n",
       "    </tr>\n",
       "    <tr>\n",
       "      <th>57</th>\n",
       "      <td>0</td>\n",
       "      <td>1</td>\n",
       "    </tr>\n",
       "    <tr>\n",
       "      <th>58</th>\n",
       "      <td>0</td>\n",
       "      <td>1</td>\n",
       "    </tr>\n",
       "    <tr>\n",
       "      <th>59</th>\n",
       "      <td>1</td>\n",
       "      <td>1</td>\n",
       "    </tr>\n",
       "    <tr>\n",
       "      <th>60</th>\n",
       "      <td>0</td>\n",
       "      <td>0</td>\n",
       "    </tr>\n",
       "  </tbody>\n",
       "</table>\n",
       "<p>61 rows × 2 columns</p>\n",
       "</div>"
      ],
      "text/plain": [
       "    output  PREDICT4\n",
       "0        0         1\n",
       "1        0         0\n",
       "2        0         0\n",
       "3        0         1\n",
       "4        1         1\n",
       "..     ...       ...\n",
       "56       1         1\n",
       "57       0         1\n",
       "58       0         1\n",
       "59       1         1\n",
       "60       0         0\n",
       "\n",
       "[61 rows x 2 columns]"
      ]
     },
     "execution_count": 30,
     "metadata": {},
     "output_type": "execute_result"
    }
   ],
   "source": [
    "predictValue4 = model4.predict(features_data20)\n",
    "predictDF4 = pd.DataFrame(list(predictValue4),columns=['PREDICT4'])\n",
    "validateDf4 = pd.concat([label_data20.reset_index(drop=True),predictDF4],axis=1)\n",
    "validateDf4"
   ]
  },
  {
   "cell_type": "markdown",
   "id": "80af02d4-84b4-4a23-9595-727332fe7944",
   "metadata": {},
   "source": [
    "## 정확도 검증(서포트백터)"
   ]
  },
  {
   "cell_type": "code",
   "execution_count": 31,
   "id": "bec19f57-8210-49d3-9a43-ecaf80d9d081",
   "metadata": {},
   "outputs": [
    {
     "data": {
      "text/plain": [
       "(0.29508196721311475, 0.5432144762551112)"
      ]
     },
     "execution_count": 31,
     "metadata": {},
     "output_type": "execute_result"
    }
   ],
   "source": [
    "# MAE 평균절대오차\n",
    "mae4 = mean_absolute_error(y_true=validateDf4.output,\n",
    "                   y_pred=validateDf4.PREDICT4)\n",
    "\n",
    "# RMSE는 평균제곱근오차 MAE와 유사\n",
    "# RMSE는 MAE에 비해 직관성은 떨어지지만, 로버스트한 성격(=극단적이지 않은)에서 강점을 보인다고 정리할 수 있다.\n",
    "# \"큰 오류값 차이에 대해서 크게 패널티를 주는\" 이점이 있음\n",
    "rmse4 = np.sqrt(mean_squared_error(y_true=validateDf4.output,\n",
    "                   y_pred=validateDf4.PREDICT4))\n",
    "mae4,rmse4"
   ]
  },
  {
   "cell_type": "code",
   "execution_count": 32,
   "id": "c855d6a3-23ea-4cb6-a6e4-ccacdc3c3ed2",
   "metadata": {},
   "outputs": [
    {
     "data": {
      "text/html": [
       "<div>\n",
       "<style scoped>\n",
       "    .dataframe tbody tr th:only-of-type {\n",
       "        vertical-align: middle;\n",
       "    }\n",
       "\n",
       "    .dataframe tbody tr th {\n",
       "        vertical-align: top;\n",
       "    }\n",
       "\n",
       "    .dataframe thead th {\n",
       "        text-align: right;\n",
       "    }\n",
       "</style>\n",
       "<table border=\"1\" class=\"dataframe\">\n",
       "  <thead>\n",
       "    <tr style=\"text-align: right;\">\n",
       "      <th></th>\n",
       "      <th>output</th>\n",
       "      <th>PREDICT4</th>\n",
       "      <th>acc4</th>\n",
       "    </tr>\n",
       "  </thead>\n",
       "  <tbody>\n",
       "    <tr>\n",
       "      <th>0</th>\n",
       "      <td>0</td>\n",
       "      <td>1</td>\n",
       "      <td>실패</td>\n",
       "    </tr>\n",
       "    <tr>\n",
       "      <th>1</th>\n",
       "      <td>0</td>\n",
       "      <td>0</td>\n",
       "      <td>성공</td>\n",
       "    </tr>\n",
       "    <tr>\n",
       "      <th>2</th>\n",
       "      <td>0</td>\n",
       "      <td>0</td>\n",
       "      <td>성공</td>\n",
       "    </tr>\n",
       "    <tr>\n",
       "      <th>3</th>\n",
       "      <td>0</td>\n",
       "      <td>1</td>\n",
       "      <td>실패</td>\n",
       "    </tr>\n",
       "    <tr>\n",
       "      <th>4</th>\n",
       "      <td>1</td>\n",
       "      <td>1</td>\n",
       "      <td>성공</td>\n",
       "    </tr>\n",
       "    <tr>\n",
       "      <th>...</th>\n",
       "      <td>...</td>\n",
       "      <td>...</td>\n",
       "      <td>...</td>\n",
       "    </tr>\n",
       "    <tr>\n",
       "      <th>56</th>\n",
       "      <td>1</td>\n",
       "      <td>1</td>\n",
       "      <td>성공</td>\n",
       "    </tr>\n",
       "    <tr>\n",
       "      <th>57</th>\n",
       "      <td>0</td>\n",
       "      <td>1</td>\n",
       "      <td>실패</td>\n",
       "    </tr>\n",
       "    <tr>\n",
       "      <th>58</th>\n",
       "      <td>0</td>\n",
       "      <td>1</td>\n",
       "      <td>실패</td>\n",
       "    </tr>\n",
       "    <tr>\n",
       "      <th>59</th>\n",
       "      <td>1</td>\n",
       "      <td>1</td>\n",
       "      <td>성공</td>\n",
       "    </tr>\n",
       "    <tr>\n",
       "      <th>60</th>\n",
       "      <td>0</td>\n",
       "      <td>0</td>\n",
       "      <td>성공</td>\n",
       "    </tr>\n",
       "  </tbody>\n",
       "</table>\n",
       "<p>61 rows × 3 columns</p>\n",
       "</div>"
      ],
      "text/plain": [
       "    output  PREDICT4 acc4\n",
       "0        0         1   실패\n",
       "1        0         0   성공\n",
       "2        0         0   성공\n",
       "3        0         1   실패\n",
       "4        1         1   성공\n",
       "..     ...       ...  ...\n",
       "56       1         1   성공\n",
       "57       0         1   실패\n",
       "58       0         1   실패\n",
       "59       1         1   성공\n",
       "60       0         0   성공\n",
       "\n",
       "[61 rows x 3 columns]"
      ]
     },
     "execution_count": 32,
     "metadata": {},
     "output_type": "execute_result"
    }
   ],
   "source": [
    "# 정확도 컬럼 추가\n",
    "acc4 = pd.DataFrame(list(np.where( validateDf4.output == validateDf4.PREDICT4, '성공', '실패')),columns=['acc4'])\n",
    "realValidateDf4 = pd.concat([validateDf4.reset_index(drop=True),acc4],axis=1)\n",
    "realValidateDf4"
   ]
  },
  {
   "cell_type": "code",
   "execution_count": 33,
   "id": "e9ebb341-6c8f-48f0-8369-44c24c71f8ec",
   "metadata": {},
   "outputs": [
    {
     "data": {
      "text/plain": [
       "0.7049180327868853"
      ]
     },
     "execution_count": 33,
     "metadata": {},
     "output_type": "execute_result"
    }
   ],
   "source": [
    "realAcc4 = realValidateDf4.loc[realValidateDf4.acc4=='성공'].shape[0]/realValidateDf4.shape[0]\n",
    "realAcc4"
   ]
  },
  {
   "cell_type": "code",
   "execution_count": null,
   "id": "945deaea-2cf3-4386-86ba-29307fd00111",
   "metadata": {},
   "outputs": [],
   "source": []
  }
 ],
 "metadata": {
  "kernelspec": {
   "display_name": "Python 3",
   "language": "python",
   "name": "python3"
  },
  "language_info": {
   "codemirror_mode": {
    "name": "ipython",
    "version": 3
   },
   "file_extension": ".py",
   "mimetype": "text/x-python",
   "name": "python",
   "nbconvert_exporter": "python",
   "pygments_lexer": "ipython3",
   "version": "3.8.8"
  }
 },
 "nbformat": 4,
 "nbformat_minor": 5
}
