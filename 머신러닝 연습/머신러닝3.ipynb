{
 "cells": [
  {
   "cell_type": "code",
   "execution_count": 1,
   "id": "940c630a-279a-442b-aa11-9b702e7c91d3",
   "metadata": {},
   "outputs": [],
   "source": [
    "# 데이터처리 라이브러리\n",
    "import pandas as pd\n",
    "import numpy as np\n",
    "\n",
    "# 머신러닝 라이브러니\n",
    "from sklearn.svm import SVC # 서포트 vector\n",
    "from sklearn.neighbors import KNeighborsClassifier # k neighbors\n",
    "\n",
    "# 데이터 전처리 라이브러리\n",
    "from sklearn.model_selection import train_test_split\n",
    "\n",
    "# 클래시피케이션 metricx \n",
    "from sklearn.metrics import accuracy_score, f1_score, recall_score, precision_score # 정확도 지표들\n",
    "\n",
    "# 결과를 출력하기 위한 라이브러리\n",
    "from sklearn.metrics import classification_report"
   ]
  },
  {
   "cell_type": "code",
   "execution_count": 2,
   "id": "5ffe02ae-d436-4695-9019-39a9140d2b9d",
   "metadata": {},
   "outputs": [],
   "source": [
    "# 데이터 불러오기\n",
    "csData = \\\n",
    "pd.read_csv(\"../../stddev/dataset/customer.csv\", encoding = \"ms949\")"
   ]
  },
  {
   "cell_type": "code",
   "execution_count": 3,
   "id": "c05171f5-498c-4e7b-996d-f9e1c89493e7",
   "metadata": {},
   "outputs": [
    {
     "data": {
      "text/plain": [
       "0     normal\n",
       "1    diamond\n",
       "4        vip\n",
       "Name: label, dtype: object"
      ]
     },
     "execution_count": 3,
     "metadata": {},
     "output_type": "execute_result"
    }
   ],
   "source": [
    "csData.label.drop_duplicates()"
   ]
  },
  {
   "cell_type": "markdown",
   "id": "a58830a6-1189-4709-b092-b1e06967bffb",
   "metadata": {},
   "source": [
    "# 타입 통합/ 숫자형 컬럼 추가"
   ]
  },
  {
   "cell_type": "code",
   "execution_count": 4,
   "id": "68d63493-d9c2-485c-ae8f-b5c09464d085",
   "metadata": {},
   "outputs": [],
   "source": [
    "csData = csData.astype({'balance' : 'int','stock':'int','label':'object'})"
   ]
  },
  {
   "cell_type": "markdown",
   "id": "57332713-1443-45e5-a023-aff290206dc0",
   "metadata": {},
   "source": [
    "# 특성 선정 / 데이터 분리"
   ]
  },
  {
   "cell_type": "code",
   "execution_count": 5,
   "id": "113134d2-2faf-48e1-b240-476f8a562fb5",
   "metadata": {},
   "outputs": [],
   "source": [
    "labelColumns = 'label_new'"
   ]
  },
  {
   "cell_type": "code",
   "execution_count": 6,
   "id": "3c4357df-ec72-426f-a584-92e1cb1936ee",
   "metadata": {},
   "outputs": [
    {
     "data": {
      "text/html": [
       "<div>\n",
       "<style scoped>\n",
       "    .dataframe tbody tr th:only-of-type {\n",
       "        vertical-align: middle;\n",
       "    }\n",
       "\n",
       "    .dataframe tbody tr th {\n",
       "        vertical-align: top;\n",
       "    }\n",
       "\n",
       "    .dataframe thead th {\n",
       "        text-align: right;\n",
       "    }\n",
       "</style>\n",
       "<table border=\"1\" class=\"dataframe\">\n",
       "  <thead>\n",
       "    <tr style=\"text-align: right;\">\n",
       "      <th></th>\n",
       "      <th>balance</th>\n",
       "      <th>stock</th>\n",
       "    </tr>\n",
       "  </thead>\n",
       "  <tbody>\n",
       "    <tr>\n",
       "      <th>balance</th>\n",
       "      <td>1.000000</td>\n",
       "      <td>0.565942</td>\n",
       "    </tr>\n",
       "    <tr>\n",
       "      <th>stock</th>\n",
       "      <td>0.565942</td>\n",
       "      <td>1.000000</td>\n",
       "    </tr>\n",
       "  </tbody>\n",
       "</table>\n",
       "</div>"
      ],
      "text/plain": [
       "          balance     stock\n",
       "balance  1.000000  0.565942\n",
       "stock    0.565942  1.000000"
      ]
     },
     "execution_count": 6,
     "metadata": {},
     "output_type": "execute_result"
    }
   ],
   "source": [
    "csData.corr()"
   ]
  },
  {
   "cell_type": "code",
   "execution_count": 7,
   "id": "28ba3b96-d45c-438f-90f3-7564b5fb31fa",
   "metadata": {},
   "outputs": [],
   "source": [
    "# LABEL_ENCODER는 내가 원하는 값으로 맵핑하기가 힘들다. 딕셔너리는 내가 원하는 값으로 변형이 가능하다.\n",
    "labelMap = {'normal':0,'diamond':1,'vip':2}\n",
    "csData['label_new'] = csData.label.map(labelMap)"
   ]
  },
  {
   "cell_type": "code",
   "execution_count": 10,
   "id": "e1e1ff73-6de5-401d-94d3-1e49ac1a735f",
   "metadata": {},
   "outputs": [
    {
     "data": {
      "text/html": [
       "<div>\n",
       "<style scoped>\n",
       "    .dataframe tbody tr th:only-of-type {\n",
       "        vertical-align: middle;\n",
       "    }\n",
       "\n",
       "    .dataframe tbody tr th {\n",
       "        vertical-align: top;\n",
       "    }\n",
       "\n",
       "    .dataframe thead th {\n",
       "        text-align: right;\n",
       "    }\n",
       "</style>\n",
       "<table border=\"1\" class=\"dataframe\">\n",
       "  <thead>\n",
       "    <tr style=\"text-align: right;\">\n",
       "      <th></th>\n",
       "      <th>balance</th>\n",
       "      <th>stock</th>\n",
       "      <th>label</th>\n",
       "      <th>label_new</th>\n",
       "    </tr>\n",
       "  </thead>\n",
       "  <tbody>\n",
       "    <tr>\n",
       "      <th>0</th>\n",
       "      <td>30000000</td>\n",
       "      <td>22500000</td>\n",
       "      <td>normal</td>\n",
       "      <td>0</td>\n",
       "    </tr>\n",
       "    <tr>\n",
       "      <th>1</th>\n",
       "      <td>280000000</td>\n",
       "      <td>48000000</td>\n",
       "      <td>diamond</td>\n",
       "      <td>1</td>\n",
       "    </tr>\n",
       "    <tr>\n",
       "      <th>2</th>\n",
       "      <td>300000000</td>\n",
       "      <td>40666666</td>\n",
       "      <td>diamond</td>\n",
       "      <td>1</td>\n",
       "    </tr>\n",
       "    <tr>\n",
       "      <th>3</th>\n",
       "      <td>54000000</td>\n",
       "      <td>28000000</td>\n",
       "      <td>normal</td>\n",
       "      <td>0</td>\n",
       "    </tr>\n",
       "    <tr>\n",
       "      <th>4</th>\n",
       "      <td>768000000</td>\n",
       "      <td>32000000</td>\n",
       "      <td>vip</td>\n",
       "      <td>2</td>\n",
       "    </tr>\n",
       "    <tr>\n",
       "      <th>...</th>\n",
       "      <td>...</td>\n",
       "      <td>...</td>\n",
       "      <td>...</td>\n",
       "      <td>...</td>\n",
       "    </tr>\n",
       "    <tr>\n",
       "      <th>19995</th>\n",
       "      <td>628000000</td>\n",
       "      <td>44666666</td>\n",
       "      <td>diamond</td>\n",
       "      <td>1</td>\n",
       "    </tr>\n",
       "    <tr>\n",
       "      <th>19996</th>\n",
       "      <td>276000000</td>\n",
       "      <td>20000000</td>\n",
       "      <td>normal</td>\n",
       "      <td>0</td>\n",
       "    </tr>\n",
       "    <tr>\n",
       "      <th>19997</th>\n",
       "      <td>652000000</td>\n",
       "      <td>41333333</td>\n",
       "      <td>diamond</td>\n",
       "      <td>1</td>\n",
       "    </tr>\n",
       "    <tr>\n",
       "      <th>19998</th>\n",
       "      <td>676000000</td>\n",
       "      <td>45333333</td>\n",
       "      <td>diamond</td>\n",
       "      <td>1</td>\n",
       "    </tr>\n",
       "    <tr>\n",
       "      <th>19999</th>\n",
       "      <td>732000000</td>\n",
       "      <td>26000000</td>\n",
       "      <td>diamond</td>\n",
       "      <td>1</td>\n",
       "    </tr>\n",
       "  </tbody>\n",
       "</table>\n",
       "<p>20000 rows × 4 columns</p>\n",
       "</div>"
      ],
      "text/plain": [
       "         balance     stock    label  label_new\n",
       "0       30000000  22500000   normal          0\n",
       "1      280000000  48000000  diamond          1\n",
       "2      300000000  40666666  diamond          1\n",
       "3       54000000  28000000   normal          0\n",
       "4      768000000  32000000      vip          2\n",
       "...          ...       ...      ...        ...\n",
       "19995  628000000  44666666  diamond          1\n",
       "19996  276000000  20000000   normal          0\n",
       "19997  652000000  41333333  diamond          1\n",
       "19998  676000000  45333333  diamond          1\n",
       "19999  732000000  26000000  diamond          1\n",
       "\n",
       "[20000 rows x 4 columns]"
      ]
     },
     "execution_count": 10,
     "metadata": {},
     "output_type": "execute_result"
    }
   ],
   "source": [
    "csData"
   ]
  },
  {
   "cell_type": "code",
   "execution_count": 8,
   "id": "ea8d157a-44aa-43d2-bd13-36a472e485f0",
   "metadata": {},
   "outputs": [],
   "source": [
    "corrDf = csData.corr()"
   ]
  },
  {
   "cell_type": "code",
   "execution_count": 9,
   "id": "f1022afd-cdd0-4bb7-8743-436fcf000421",
   "metadata": {},
   "outputs": [
    {
     "data": {
      "text/html": [
       "<div>\n",
       "<style scoped>\n",
       "    .dataframe tbody tr th:only-of-type {\n",
       "        vertical-align: middle;\n",
       "    }\n",
       "\n",
       "    .dataframe tbody tr th {\n",
       "        vertical-align: top;\n",
       "    }\n",
       "\n",
       "    .dataframe thead th {\n",
       "        text-align: right;\n",
       "    }\n",
       "</style>\n",
       "<table border=\"1\" class=\"dataframe\">\n",
       "  <thead>\n",
       "    <tr style=\"text-align: right;\">\n",
       "      <th></th>\n",
       "      <th>balance</th>\n",
       "      <th>stock</th>\n",
       "      <th>label_new</th>\n",
       "    </tr>\n",
       "  </thead>\n",
       "  <tbody>\n",
       "    <tr>\n",
       "      <th>balance</th>\n",
       "      <td>1.000000</td>\n",
       "      <td>0.565942</td>\n",
       "      <td>0.883144</td>\n",
       "    </tr>\n",
       "    <tr>\n",
       "      <th>stock</th>\n",
       "      <td>0.565942</td>\n",
       "      <td>1.000000</td>\n",
       "      <td>0.824174</td>\n",
       "    </tr>\n",
       "    <tr>\n",
       "      <th>label_new</th>\n",
       "      <td>0.883144</td>\n",
       "      <td>0.824174</td>\n",
       "      <td>1.000000</td>\n",
       "    </tr>\n",
       "  </tbody>\n",
       "</table>\n",
       "</div>"
      ],
      "text/plain": [
       "            balance     stock  label_new\n",
       "balance    1.000000  0.565942   0.883144\n",
       "stock      0.565942  1.000000   0.824174\n",
       "label_new  0.883144  0.824174   1.000000"
      ]
     },
     "execution_count": 9,
     "metadata": {},
     "output_type": "execute_result"
    }
   ],
   "source": [
    "corrDf"
   ]
  },
  {
   "cell_type": "code",
   "execution_count": 12,
   "id": "40f9612e-ddf2-4c75-8b53-a8a87552b1df",
   "metadata": {},
   "outputs": [],
   "source": [
    "corrStd = 0.5"
   ]
  },
  {
   "cell_type": "code",
   "execution_count": 13,
   "id": "80aa5d1f-b64d-466f-95a8-0ca9c5b46b84",
   "metadata": {},
   "outputs": [],
   "source": [
    "features = list(corrDf.loc[(abs(corrDf[labelColumns]) > corrStd) & (corrDf[labelColumns] != 1)].index)"
   ]
  },
  {
   "cell_type": "code",
   "execution_count": 14,
   "id": "b1e2b948-4241-411d-9b82-477cfe02e842",
   "metadata": {},
   "outputs": [
    {
     "data": {
      "text/plain": [
       "['balance', 'stock']"
      ]
     },
     "execution_count": 14,
     "metadata": {},
     "output_type": "execute_result"
    }
   ],
   "source": [
    "features"
   ]
  },
  {
   "cell_type": "code",
   "execution_count": 15,
   "id": "0bb86e7b-4914-4ec0-899d-5dedc50a9eef",
   "metadata": {},
   "outputs": [],
   "source": [
    "labelColumns = 'label'"
   ]
  },
  {
   "cell_type": "code",
   "execution_count": 16,
   "id": "923b9587-0933-43db-a35f-3b00a590c93f",
   "metadata": {},
   "outputs": [
    {
     "data": {
      "text/plain": [
       "['l', 'a', 'b', 'e', 'l']"
      ]
     },
     "execution_count": 16,
     "metadata": {},
     "output_type": "execute_result"
    }
   ],
   "source": [
    "list(labelColumns)"
   ]
  },
  {
   "cell_type": "code",
   "execution_count": 17,
   "id": "49e53841-c49e-4d53-a3d2-c1cbe4a13291",
   "metadata": {},
   "outputs": [
    {
     "data": {
      "text/plain": [
       "{'balance', 'stock'}"
      ]
     },
     "execution_count": 17,
     "metadata": {},
     "output_type": "execute_result"
    }
   ],
   "source": [
    "set(features)"
   ]
  },
  {
   "cell_type": "code",
   "execution_count": 18,
   "id": "95cebb57-d63d-4451-bb6f-d2aafcbaf861",
   "metadata": {},
   "outputs": [],
   "source": [
    "trainingDataFeatures,\\\n",
    "testDataFeatures,\\\n",
    "trainingDataLabel,\\\n",
    "testDataLabel= train_test_split(csData.loc[:,features],csData.loc[:,labelColumns],random_state=1,test_size=0.2)"
   ]
  },
  {
   "cell_type": "code",
   "execution_count": 19,
   "id": "eca7d8d6-cbb6-4b88-9162-3c7ac7534e28",
   "metadata": {},
   "outputs": [
    {
     "name": "stdout",
     "output_type": "stream",
     "text": [
      "(16000,)\n"
     ]
    }
   ],
   "source": [
    "print(trainingDataLabel.shape)"
   ]
  },
  {
   "cell_type": "markdown",
   "id": "41185531-b4b2-49a5-bdb6-8f3875af2375",
   "metadata": {},
   "source": [
    "# 모델 선언/학습"
   ]
  },
  {
   "cell_type": "code",
   "execution_count": 20,
   "id": "9d1e899f-9dec-4c42-a16c-2ac366dcaf28",
   "metadata": {},
   "outputs": [],
   "source": [
    "model_svm = SVC(random_state=5)"
   ]
  },
  {
   "cell_type": "code",
   "execution_count": 21,
   "id": "a1e17cae-4e68-42b4-bebb-3fd2ed1e8839",
   "metadata": {},
   "outputs": [
    {
     "data": {
      "text/plain": [
       "SVC(random_state=5)"
      ]
     },
     "execution_count": 21,
     "metadata": {},
     "output_type": "execute_result"
    }
   ],
   "source": [
    "model_svm.fit(trainingDataFeatures,trainingDataLabel)"
   ]
  },
  {
   "cell_type": "markdown",
   "id": "8af4edca-c3e0-4920-98c4-1f8d89965a55",
   "metadata": {
    "tags": []
   },
   "source": [
    "# 예측"
   ]
  },
  {
   "cell_type": "code",
   "execution_count": 22,
   "id": "3921cb45-3196-4095-8828-f6a6789b7431",
   "metadata": {},
   "outputs": [],
   "source": [
    "predictSvm = model_svm.predict(testDataFeatures)"
   ]
  },
  {
   "cell_type": "markdown",
   "id": "c2c9f280-948c-4588-a544-fca1dc4fdea0",
   "metadata": {},
   "source": [
    "# 데이터 정리"
   ]
  },
  {
   "cell_type": "code",
   "execution_count": 23,
   "id": "bde96b48-d666-4e7a-8dd2-a9e751ff8405",
   "metadata": {},
   "outputs": [],
   "source": [
    "testdataAll = csData.loc[testDataLabel.index]"
   ]
  },
  {
   "cell_type": "code",
   "execution_count": 24,
   "id": "e114862f-3625-4fe7-8781-f3b9cd899356",
   "metadata": {},
   "outputs": [],
   "source": [
    "testdataAll['predict_svm'] = predictSvm"
   ]
  },
  {
   "cell_type": "code",
   "execution_count": 25,
   "id": "de23e3ea-dcb5-45aa-b5a0-3a5a3ced3ceb",
   "metadata": {},
   "outputs": [],
   "source": [
    "accuracy = accuracy_score(y_true=testdataAll.label,y_pred=testdataAll.predict_svm)"
   ]
  },
  {
   "cell_type": "code",
   "execution_count": 26,
   "id": "b673fa26-0364-4221-b6a5-3835e1d1f3e9",
   "metadata": {},
   "outputs": [
    {
     "data": {
      "text/plain": [
       "0.995"
      ]
     },
     "execution_count": 26,
     "metadata": {},
     "output_type": "execute_result"
    }
   ],
   "source": [
    "accuracy"
   ]
  },
  {
   "cell_type": "code",
   "execution_count": 34,
   "id": "eed79621-2c17-4a4c-b5fe-6940eb307653",
   "metadata": {
    "tags": []
   },
   "outputs": [
    {
     "name": "stdout",
     "output_type": "stream",
     "text": [
      "              precision    recall  f1-score   support\n",
      "\n",
      "     diamond       1.00      1.00      1.00      2346\n",
      "      normal       0.99      0.99      0.99      1188\n",
      "         vip       1.00      0.99      0.99       466\n",
      "\n",
      "    accuracy                           0.99      4000\n",
      "   macro avg       1.00      0.99      0.99      4000\n",
      "weighted avg       0.99      0.99      0.99      4000\n",
      "\n"
     ]
    }
   ],
   "source": [
    "# 최종 리포트 작성\n",
    "print(classification_report(y_true=testdataAll.label,y_pred=testdataAll.predict_svm))"
   ]
  },
  {
   "cell_type": "markdown",
   "id": "15b4dd85-7200-4c00-b922-4f6c9a980a1e",
   "metadata": {},
   "source": [
    "# 예측값을 도출 하기 위한 단계"
   ]
  },
  {
   "cell_type": "code",
   "execution_count": null,
   "id": "3c302d53-1f31-432f-8d68-ea928b97b9cf",
   "metadata": {},
   "outputs": [],
   "source": [
    "testdataAll.to_clipboard()"
   ]
  },
  {
   "cell_type": "code",
   "execution_count": null,
   "id": "f0575331-62ad-48c8-8c60-a0e629fac387",
   "metadata": {},
   "outputs": [],
   "source": [
    "testdataAll.to_csv(\"d:/svc_result.csv\")"
   ]
  },
  {
   "cell_type": "code",
   "execution_count": 29,
   "id": "83d39f1d-6d38-4ae3-9809-c6abc601d28e",
   "metadata": {},
   "outputs": [],
   "source": [
    "userInputBalace = 1000000\n",
    "userInputBalace = 5000"
   ]
  },
  {
   "cell_type": "code",
   "execution_count": 30,
   "id": "3d696a44-64d8-4c4e-a3c5-8d7da66de01f",
   "metadata": {},
   "outputs": [],
   "source": [
    "import pickle"
   ]
  },
  {
   "cell_type": "code",
   "execution_count": null,
   "id": "7fd96809-3bd6-4947-9523-7c22c128a9e7",
   "metadata": {},
   "outputs": [],
   "source": [
    "filename = 'final.csv'\n",
    "pickle.dump()"
   ]
  },
  {
   "cell_type": "code",
   "execution_count": null,
   "id": "98a70582-5f5e-40c7-ae48-32693d312f87",
   "metadata": {},
   "outputs": [],
   "source": [
    "# 리눅스에는 파이썬 파일과 결과값csv를 피클파일로 저장하면 load하면 사용자의 입력에따라 예측값을 제공한다."
   ]
  },
  {
   "cell_type": "code",
   "execution_count": null,
   "id": "849843aa-5147-4054-90dd-ccbff8109e28",
   "metadata": {},
   "outputs": [],
   "source": [
    "# jcraft 쉘스크립트 명령어를 자바로 던질수 있다.\n",
    "# jsch도 가능하다.\n",
    "# setCommand 도 가능하다."
   ]
  },
  {
   "cell_type": "code",
   "execution_count": null,
   "id": "d4eefe2e-de53-4555-910c-cd628709f3ff",
   "metadata": {},
   "outputs": [],
   "source": [
    "# random_state의 파라미터는 셔플의 범위를 지정해주기 위한 값이다. 값이 몇인지가 의미있는 것이 아니다. 모든 모델에 같은 난수를 지정해주는 것에 의미가 있다."
   ]
  },
  {
   "cell_type": "code",
   "execution_count": 31,
   "id": "48403e85-50c3-4740-878c-d034e58508b9",
   "metadata": {},
   "outputs": [],
   "source": []
  }
 ],
 "metadata": {
  "kernelspec": {
   "display_name": "Python 3",
   "language": "python",
   "name": "python3"
  },
  "language_info": {
   "codemirror_mode": {
    "name": "ipython",
    "version": 3
   },
   "file_extension": ".py",
   "mimetype": "text/x-python",
   "name": "python",
   "nbconvert_exporter": "python",
   "pygments_lexer": "ipython3",
   "version": "3.8.8"
  }
 },
 "nbformat": 4,
 "nbformat_minor": 5
}
