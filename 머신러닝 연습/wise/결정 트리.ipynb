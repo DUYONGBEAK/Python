{
 "cells": [
  {
   "cell_type": "markdown",
   "id": "4c40eac7-372f-4d98-b068-4ad3fddcf818",
   "metadata": {},
   "source": [
    "### 결정 트리 모델의 시각화(Decision Tree Visualization)"
   ]
  },
  {
   "cell_type": "code",
   "execution_count": 1,
   "id": "0bea2d52-4a90-46ac-8bdd-f4cb30f81f2b",
   "metadata": {},
   "outputs": [],
   "source": [
    "import pandas as pd\n",
    "import numpy as np\n",
    "from matplotlib import pyplot as plt\n",
    "import seaborn as sns"
   ]
  },
  {
   "cell_type": "code",
   "execution_count": 2,
   "id": "f437e0dd-846c-499a-817d-cbb03abff5d1",
   "metadata": {},
   "outputs": [],
   "source": [
    "from sklearn.tree import DecisionTreeClassifier\n",
    "from sklearn.datasets import load_iris\n",
    "from sklearn.model_selection import train_test_split\n",
    "from sklearn.metrics import accuracy_score\n",
    "import warnings\n",
    "warnings.filterwarnings('ignore')"
   ]
  },
  {
   "cell_type": "code",
   "execution_count": 3,
   "id": "fc4c0742-9a78-42bf-8797-58b96bf17912",
   "metadata": {},
   "outputs": [
    {
     "name": "stdout",
     "output_type": "stream",
     "text": [
      "결정 트리 예측 정확도: 0.9333\n"
     ]
    }
   ],
   "source": [
    "# DecisionTree Classifier 생성\n",
    "dt_clf = DecisionTreeClassifier(random_state=156)\n",
    "\n",
    "# 붓꽃 데이터를 로딩\n",
    "iris_data = load_iris()\n",
    "\n",
    "# 학습과 테스트 데이터 셋으로 분리\n",
    "X_train, X_test, y_train, y_test = train_test_split(iris_data.data, iris_data.target,test_size=0.2, random_state=11)\n",
    "\n",
    "# DecisionTreeClassifer 학습.\n",
    "\n",
    "dt_clf.fit(X_train,y_train)# train데이터 fit \n",
    "\n",
    "pred = dt_clf.predict(X_test)\n",
    "\n",
    "accuracy = accuracy_score(y_test,pred) # test, pred 정확도 \n",
    "\n",
    "print('결정 트리 예측 정확도: {0:.4f}'.format(accuracy))"
   ]
  },
  {
   "cell_type": "code",
   "execution_count": 4,
   "id": "7ac16bcf-2f46-4db1-af37-11098ee8b169",
   "metadata": {},
   "outputs": [
    {
     "name": "stdout",
     "output_type": "stream",
     "text": [
      "Feature importances:\n",
      "[0.025 0.    0.555 0.42 ]\n",
      "sepal length (cm) : 0.025\n",
      "sepal width (cm) : 0.000\n",
      "petal length (cm) : 0.555\n",
      "petal width (cm) : 0.420\n"
     ]
    },
    {
     "data": {
      "text/plain": [
       "<AxesSubplot:>"
      ]
     },
     "execution_count": 4,
     "metadata": {},
     "output_type": "execute_result"
    },
    {
     "data": {
      "image/png": "[encoded data removed]",
      "text/plain": [
       "<Figure size 432x288 with 1 Axes>"
      ]
     },
     "metadata": {
      "needs_background": "light"
     },
     "output_type": "display_data"
    }
   ],
   "source": [
    "%matplotlib inline\n",
    "\n",
    "# feature importance 추출 \n",
    "print(\"Feature importances:\\n{0}\".format(np.round(dt_clf.feature_importances_, 3)))\n",
    "\n",
    "# feature별 importance 매핑\n",
    "for name, value in zip(iris_data.feature_names , dt_clf.feature_importances_):\n",
    "    print('{0} : {1:.3f}'.format(name, value))\n",
    "\n",
    "# feature importance를 column 별로 시각화 하기 \n",
    "sns.barplot(x=dt_clf.feature_importances_, y=iris_data.feature_names)"
   ]
  },
  {
   "cell_type": "markdown",
   "id": "6f5d5728-954e-4731-a47a-4168be757af4",
   "metadata": {},
   "source": [
    "### 결정 트리(Decision TREE) 과적합(Overfitting)"
   ]
  },
  {
   "cell_type": "markdown",
   "id": "3df51bd8-8fe9-40fa-8298-08843597a855",
   "metadata": {},
   "source": [
    "### 결정 트리 실습 - Human Activity Recognition"
   ]
  },
  {
   "cell_type": "markdown",
   "id": "6fed74d8-cf6a-44fc-b4eb-846da86760db",
   "metadata": {},
   "source": [
    "### 중복된 피처명을 확인"
   ]
  },
  {
   "cell_type": "markdown",
   "id": "3853cb1f-aa4e-4689-913f-830edbddec8c",
   "metadata": {},
   "source": [
    "##### 원본 데이터에 중복된 Feature 명으로 인하여 신규 버전의 Pandas에서 Duplicate name 에러를 발생.\n",
    "##### 중복 feature명에 대해서 원본 feature 명에 '_1(또는2)'를 추가로 부여하는 함수인 get_new_feature_name_df() 생성"
   ]
  },
  {
   "cell_type": "code",
   "execution_count": 5,
   "id": "14d613f9-f4b5-4d30-a35c-7881de9b7b99",
   "metadata": {},
   "outputs": [
    {
     "name": "stdout",
     "output_type": "stream",
     "text": [
      "DecisionTreeClassifier 기본 하이퍼 파라미터:\n",
      " {'ccp_alpha': 0.0, 'class_weight': None, 'criterion': 'gini', 'max_depth': None, 'max_features': None, 'max_leaf_nodes': None, 'min_impurity_decrease': 0.0, 'min_impurity_split': None, 'min_samples_leaf': 1, 'min_samples_split': 2, 'min_weight_fraction_leaf': 0.0, 'random_state': 156, 'splitter': 'best'}\n"
     ]
    }
   ],
   "source": [
    "# DecisionTreeClassifier의 하이퍼 파라미터 추출\n",
    "print('DecisionTreeClassifier 기본 하이퍼 파라미터:\\n', dt_clf.get_params())"
   ]
  },
  {
   "cell_type": "code",
   "execution_count": 6,
   "id": "1fa965d3-41ac-427b-8d7e-42982cdecdbb",
   "metadata": {},
   "outputs": [
    {
     "name": "stdout",
     "output_type": "stream",
     "text": [
      "GridSearchCV 최고 평균 정확도 수치:0.9500\n",
      "GridSearchCV 최적 하이퍼 파라미터: {'max_depth': 6}\n"
     ]
    }
   ],
   "source": [
    "from sklearn.model_selection import GridSearchCV\n",
    "\n",
    "params = {\n",
    "    'max_depth' : [ 6, 8 ,10, 12, 16 ,20, 24]\n",
    "}\n",
    "\n",
    "grid_cv = GridSearchCV(dt_clf, param_grid=params, scoring='accuracy', cv=5) # GridSearchCV 파라미터 지정\n",
    "\n",
    "grid_cv.fit(X_train , y_train)\n",
    "\n",
    "print('GridSearchCV 최고 평균 정확도 수치:{0:.4f}'.format(grid_cv.best_score_))\n",
    "print('GridSearchCV 최적 하이퍼 파라미터:', grid_cv.best_params_)"
   ]
  },
  {
   "cell_type": "code",
   "execution_count": 7,
   "id": "140b9b4f-a02c-4f13-8dcc-d67a34db0953",
   "metadata": {},
   "outputs": [
    {
     "name": "stdout",
     "output_type": "stream",
     "text": [
      "max_depth = 6 정확도: 0.9333\n",
      "max_depth = 8 정확도: 0.9333\n",
      "max_depth = 10 정확도: 0.9333\n",
      "max_depth = 12 정확도: 0.9333\n",
      "max_depth = 16 정확도: 0.9333\n",
      "max_depth = 20 정확도: 0.9333\n",
      "max_depth = 24 정확도: 0.9333\n"
     ]
    }
   ],
   "source": [
    "# GridSearchCV객체의 cv_results_ 속성을 DataFrame으로 생성. \n",
    "cv_results_df = pd.DataFrame(grid_cv.cv_results_)\n",
    "\n",
    "# max_depth 파라미터 값과 그때의 테스트(Evaluation)셋, 학습 데이터 셋의 정확도 수치 추출\n",
    "cv_results_df[['param_max_depth', 'mean_test_score']] \n",
    "\n",
    "max_depths = [ 6, 8 ,10, 12, 16 ,20, 24]\n",
    "# max_depth 값을 변화 시키면서 그때마다 학습과 테스트 셋에서의 예측 성능 측정\n",
    "for depth in max_depths:\n",
    "    dt_clf = DecisionTreeClassifier(max_depth=depth, random_state=156)\n",
    "    dt_clf.fit(X_train,y_train) # train 데이터 fit\n",
    "    pred = dt_clf.predict(X_test) # test 데이터 predict 하기\n",
    "    accuracy = accuracy_score(y_test , pred)\n",
    "    print('max_depth = {0} 정확도: {1:.4f}'.format(depth , accuracy))"
   ]
  },
  {
   "cell_type": "code",
   "execution_count": 8,
   "id": "6de73323-3e49-4863-b0cd-701a8fe9f986",
   "metadata": {},
   "outputs": [
    {
     "name": "stdout",
     "output_type": "stream",
     "text": [
      "Fitting 5 folds for each of 8 candidates, totalling 40 fits\n",
      "GridSearchCV 최고 평균 정확도 수치: 0.9500\n",
      "GridSearchCV 최적 하이퍼 파라미터: {'max_depth': 8, 'min_samples_split': 16}\n"
     ]
    }
   ],
   "source": [
    "params = {\n",
    "    'max_depth' : [ 8 , 12, 16 ,20], \n",
    "    'min_samples_split' : [16,24],\n",
    "}\n",
    "\n",
    "grid_cv = GridSearchCV(dt_clf, param_grid=params, scoring='accuracy', cv=5, verbose=1 )\n",
    "grid_cv.fit(X_train , y_train)\n",
    "print('GridSearchCV 최고 평균 정확도 수치: {0:.4f}'.format(grid_cv.best_score_)) \n",
    "print('GridSearchCV 최적 하이퍼 파라미터:', grid_cv.best_params_)"
   ]
  },
  {
   "cell_type": "code",
   "execution_count": 9,
   "id": "aaf04d3c-cd1a-4852-b86e-1467468db756",
   "metadata": {},
   "outputs": [
    {
     "name": "stdout",
     "output_type": "stream",
     "text": [
      "결정 트리 예측 정확도:0.9333\n"
     ]
    }
   ],
   "source": [
    "best_df_clf = grid_cv# GrideSearch 최적의 파라미터 \n",
    "pred1 = best_df_clf.predict(X_test)\n",
    "accuracy = accuracy_score(y_test , pred1)\n",
    "print('결정 트리 예측 정확도:{0:.4f}'.format(accuracy))"
   ]
  },
  {
   "cell_type": "markdown",
   "id": "d50a108f-f9f3-4ad3-b062-302f5c033cc7",
   "metadata": {},
   "source": [
    "### 다른모델 적용"
   ]
  },
  {
   "cell_type": "code",
   "execution_count": 10,
   "id": "7bb89a6c-9492-4ce3-a69a-cedfe7930823",
   "metadata": {},
   "outputs": [
    {
     "name": "stdout",
     "output_type": "stream",
     "text": [
      "[15:39:17] WARNING: C:/Users/Administrator/workspace/xgboost-win64_release_1.5.0/src/learner.cc:1115: Starting in XGBoost 1.3.0, the default evaluation metric used with the objective 'multi:softprob' was changed from 'merror' to 'mlogloss'. Explicitly set eval_metric if you'd like to restore the old behavior.\n",
      "[[0.00149303 0.00196139 0.9965456 ]\n",
      " [0.00149303 0.00196139 0.9965456 ]\n",
      " [0.01147995 0.8691031  0.11941702]\n",
      " [0.00338319 0.9850935  0.01152328]\n",
      " [0.00149298 0.00199731 0.99650973]\n",
      " [0.99254495 0.00450165 0.00295339]\n",
      " [0.00340813 0.9923556  0.00423632]\n",
      " [0.98272175 0.01476309 0.0025152 ]\n",
      " [0.99254495 0.00450165 0.00295339]\n",
      " [0.00288274 0.99336725 0.00375   ]\n",
      " [0.00392732 0.9644795  0.03159317]\n",
      " [0.00217897 0.99455464 0.00326633]\n",
      " [0.01583385 0.97198266 0.01218347]\n",
      " [0.00760514 0.04584144 0.9465534 ]\n",
      " [0.00175784 0.00230927 0.9959329 ]\n",
      " [0.9840185  0.01213647 0.00384507]\n",
      " [0.00149298 0.00199731 0.99650973]\n",
      " [0.00663598 0.98825794 0.0051061 ]\n",
      " [0.00752987 0.02189054 0.9705796 ]\n",
      " [0.00502335 0.01758692 0.97738975]\n",
      " [0.00561163 0.9890233  0.00536506]\n",
      " [0.99295515 0.00450351 0.00254139]\n",
      " [0.99295515 0.00450351 0.00254139]\n",
      " [0.00341055 0.99306035 0.00352918]\n",
      " [0.99237823 0.00450089 0.00312088]\n",
      " [0.99295515 0.00450351 0.00254139]\n",
      " [0.00968328 0.05226987 0.9380469 ]\n",
      " [0.0034078  0.9922593  0.00433292]\n",
      " [0.99295515 0.00450351 0.00254139]\n",
      " [0.00256355 0.98870486 0.00873156]]\n"
     ]
    }
   ],
   "source": [
    "#사이킷런 래퍼 XGBoost 클래스인 XGBClassifier 임포트\n",
    "from xgboost import XGBClassifier\n",
    "\n",
    "xgb = XGBClassifier(n_estimators=100, learning_rate=0.1, max_depth=3)\n",
    "xgb.fit(X_train, y_train)\n",
    "\n",
    "pred_proba = xgb.predict_proba(X_test) #[:, 1]\n",
    "print(pred_proba)"
   ]
  },
  {
   "cell_type": "code",
   "execution_count": 11,
   "id": "32401483-c1f5-451f-b4ca-4a6ad62fb6a1",
   "metadata": {},
   "outputs": [
    {
     "name": "stdout",
     "output_type": "stream",
     "text": [
      "랜덤 포레스트 정확도: 0.9333\n"
     ]
    }
   ],
   "source": [
    "from sklearn.ensemble import RandomForestClassifier\n",
    "\n",
    "randomclf = RandomForestClassifier(random_state=14)\n",
    "randomclf.fit(X_train, y_train)\n",
    "pred = randomclf.predict(X_test)\n",
    "accuracy = accuracy_score(y_test, pred)\n",
    "print('랜덤 포레스트 정확도: {0:.4f}'.format(accuracy))"
   ]
  },
  {
   "cell_type": "code",
   "execution_count": 12,
   "id": "3f6c961c-2d66-48a6-99b9-93aa87525eec",
   "metadata": {},
   "outputs": [
    {
     "name": "stdout",
     "output_type": "stream",
     "text": [
      "랜덤 포레스트 최고 평균 정확도 수치:0.9583\n",
      "랜덤 포레스트 최적 하이퍼 파라미터: {'max_depth': 4, 'n_estimators': 100}\n"
     ]
    }
   ],
   "source": [
    "params = { 'n_estimators' : [100, 200], 'max_depth': [3, 4, 5]}\n",
    "grid_cv = GridSearchCV(randomclf, param_grid=params, cv=4)\n",
    "grid_cv.fit(X_train, y_train)\n",
    "\n",
    "print('랜덤 포레스트 최고 평균 정확도 수치:{0:.4f}'.format(grid_cv.best_score_))\n",
    "print('랜덤 포레스트 최적 하이퍼 파라미터:', grid_cv.best_params_)"
   ]
  }
 ],
 "metadata": {
  "kernelspec": {
   "display_name": "Python 3",
   "language": "python",
   "name": "python3"
  },
  "language_info": {
   "codemirror_mode": {
    "name": "ipython",
    "version": 3
   },
   "file_extension": ".py",
   "mimetype": "text/x-python",
   "name": "python",
   "nbconvert_exporter": "python",
   "pygments_lexer": "ipython3",
   "version": "3.8.8"
  }
 },
 "nbformat": 4,
 "nbformat_minor": 5
}
