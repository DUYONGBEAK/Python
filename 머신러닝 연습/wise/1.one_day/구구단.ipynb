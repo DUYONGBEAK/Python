{
 "cells": [
  {
   "cell_type": "code",
   "execution_count": 11,
   "id": "05f4ba33-788e-44f7-b4c0-e2530bc47134",
   "metadata": {},
   "outputs": [],
   "source": [
    "import pandas as pd\n",
    "import numpy as np\n",
    "from matplotlib import pyplot as plt\n",
    "import seaborn as sns"
   ]
  },
  {
   "cell_type": "code",
   "execution_count": 12,
   "id": "893b8daf-c80d-4b37-9c5f-e506851f8411",
   "metadata": {},
   "outputs": [],
   "source": [
    "from sklearn import svm"
   ]
  },
  {
   "cell_type": "code",
   "execution_count": 20,
   "id": "e2b28828-6c80-4851-b1fd-5c3a2142cffc",
   "metadata": {},
   "outputs": [
    {
     "name": "stdout",
     "output_type": "stream",
     "text": [
      "[[2, 2, 4], [2, 4, 8], [2, 6, 12], [2, 8, 16]]\n"
     ]
    }
   ],
   "source": [
    "train_data = [\n",
    "#in, out\n",
    " [2, 2, 4]\n",
    ",[2, 4, 8]\n",
    ",[2, 6, 12]\n",
    ",[2, 8, 16]\n",
    "]\n",
    "print(train_data)"
   ]
  },
  {
   "cell_type": "code",
   "execution_count": 21,
   "id": "f87fdfaa-1508-4250-b5d5-4b3e22468c2f",
   "metadata": {},
   "outputs": [],
   "source": [
    "data = [] #독립변수\n",
    "label = [] #종속변수\n",
    "for row in train_data:\n",
    "    data.append([row[0], row[1]])\n",
    "    label.append(row[2])"
   ]
  },
  {
   "cell_type": "code",
   "execution_count": 22,
   "id": "5a4f7e71-d8bd-4bbc-a1b1-a545b5c766af",
   "metadata": {},
   "outputs": [
    {
     "name": "stdout",
     "output_type": "stream",
     "text": [
      "[[2, 2], [2, 4], [2, 6], [2, 8]]\n",
      "[4, 8, 12, 16]\n"
     ]
    }
   ],
   "source": [
    "print(data)\n",
    "print(label)"
   ]
  },
  {
   "cell_type": "code",
   "execution_count": 23,
   "id": "7d49992f-65b9-40be-b1f5-b8b38553e13c",
   "metadata": {},
   "outputs": [
    {
     "name": "stdout",
     "output_type": "stream",
     "text": [
      "[17.99903413]\n"
     ]
    }
   ],
   "source": [
    "# trainModel 이름으로 svm 생성 \n",
    "trainModel = svm.LinearSVR()\n",
    "trainModel.fit(data, label) # 피팅 \n",
    "# trainModel 예측 \n",
    "print(trainModel.predict([[2, 9]]))"
   ]
  },
  {
   "cell_type": "code",
   "execution_count": 24,
   "id": "baf9d32a-c671-492b-b26c-ddb54de67f2e",
   "metadata": {},
   "outputs": [
    {
     "name": "stdout",
     "output_type": "stream",
     "text": [
      "[9.99958605]\n"
     ]
    }
   ],
   "source": [
    "print(trainModel.predict([[2, 5]]))"
   ]
  }
 ],
 "metadata": {
  "kernelspec": {
   "display_name": "Python 3",
   "language": "python",
   "name": "python3"
  },
  "language_info": {
   "codemirror_mode": {
    "name": "ipython",
    "version": 3
   },
   "file_extension": ".py",
   "mimetype": "text/x-python",
   "name": "python",
   "nbconvert_exporter": "python",
   "pygments_lexer": "ipython3",
   "version": "3.8.8"
  }
 },
 "nbformat": 4,
 "nbformat_minor": 5
}
