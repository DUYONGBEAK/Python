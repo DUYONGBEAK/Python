{
 "cells": [
  {
   "cell_type": "markdown",
   "id": "e0887d3c-92f2-43c1-9d08-7fc92647022c",
   "metadata": {},
   "source": [
    "## 라이브러리 가져오기"
   ]
  },
  {
   "cell_type": "code",
   "execution_count": 11,
   "id": "2e4b64ef-14ae-4c11-b305-dd1589f8724d",
   "metadata": {},
   "outputs": [],
   "source": [
    "import pandas as pd\n",
    "import numpy as np\n",
    "import scipy as sp\n",
    "import matplotlib.pyplot as plt\n",
    "from sklearn.tree import DecisionTreeRegressor # 분석 알고리즘 DecisionTree 구현 라이브러리\n",
    "from sklearn.linear_model import LinearRegression # 변동성이 약한 데이터에서는 강한 모습을 보인다.\n",
    "from sklearn.ensemble import RandomForestRegressor\n",
    "from sklearn.model_selection import train_test_split # 과거 데이터를 8:2나 7:3으로 자동으로 나눠주는 함수\n",
    "from sklearn.preprocessing import LabelEncoder\n",
    "from sklearn.metrics import mean_absolute_error # 분석 평가 대표지표 : MAE\n",
    "from sklearn.metrics import mean_squared_error # 분석 평가 대표지표 : RMSE\n",
    "# 머신러닝 라이브러니\n",
    "from sklearn.svm import SVC # 서포트 vector\n",
    "from sklearn.neighbors import KNeighborsClassifier # k neighbors\n",
    "# 데이터 전처리 라이브러리\n",
    "from sklearn.model_selection import train_test_split\n",
    "# 클래시피케이션 metricx \n",
    "from sklearn.metrics import accuracy_score, f1_score, recall_score, precision_score # 정확도 지표들\n",
    "# 결과를 출력하기 위한 라이브러리\n",
    "from sklearn.metrics import classification_report"
   ]
  },
  {
   "cell_type": "markdown",
   "id": "926af800-5ff6-4d84-bdb3-17a106550d88",
   "metadata": {},
   "source": [
    "## 데이터 불러오기"
   ]
  },
  {
   "cell_type": "code",
   "execution_count": 5,
   "id": "c42535a5-16ff-43f5-9630-b38874979a0c",
   "metadata": {},
   "outputs": [],
   "source": [
    "# # 오스트리아\n",
    "# atData = \\\n",
    "# pd.read_csv(\"../../stddev/archive/at.csv\", encoding = \"ms949\")\n",
    "\n",
    "# # 벨기에\n",
    "# beData = \\\n",
    "# pd.read_csv(\"../../stddev/archive/be.csv\", encoding = \"ms949\")\n",
    "\n",
    "# # 스위스\n",
    "# chData = \\\n",
    "# pd.read_csv(\"../../stddev/archive/ch.csv\", encoding = \"ms949\")\n",
    "\n",
    "# # 독일\n",
    "# deData = \\\n",
    "# pd.read_csv(\"../../stddev/archive/de.csv\", encoding = \"ms949\")\n",
    "\n",
    "# #덴마크\n",
    "# dkData = \\\n",
    "# pd.read_csv(\"../../stddev/archive/dk.csv\", encoding = \"ms949\")\n",
    "\n",
    "# #스페인\n",
    "# esData = \\\n",
    "# pd.read_csv(\"../../stddev/archive/es.csv\", encoding = \"ms949\")\n",
    "\n",
    "# # 프랑스\n",
    "# frData = \\\n",
    "# pd.read_csv(\"../../stddev/archive/fr.csv\", encoding = \"ms949\")\n",
    "\n",
    "# # 영국\n",
    "# gbData = \\\n",
    "# pd.read_csv(\"../../stddev/archive/gb.csv\", encoding = \"ms949\")\n",
    "\n",
    "# # 아일랜드\n",
    "# ieData = \\\n",
    "# pd.read_csv(\"../../stddev/archive/ie.csv\", encoding = \"ms949\")\n",
    "\n",
    "# # 이탈리아\n",
    "# itData = \\\n",
    "# pd.read_csv(\"../../stddev/archive/it.csv\", encoding = \"ms949\")\n",
    "\n",
    "# # 네덜란드\n",
    "# nlData = \\\n",
    "# pd.read_csv(\"../../stddev/archive/nl.csv\", encoding = \"ms949\")\n",
    "\n",
    "# # 노르웨이\n",
    "# noData = \\\n",
    "# pd.read_csv(\"../../stddev/archive/no.csv\", encoding = \"ms949\")\n",
    "\n",
    "# # 포르투갈\n",
    "# ptData = \\\n",
    "# pd.read_csv(\"../../stddev/archive/pt.csv\", encoding = \"ms949\")\n",
    "\n",
    "# 스웨덴\n",
    "seData = \\\n",
    "pd.read_csv(\"../../stddev/archive/se.csv\", encoding = \"ms949\")"
   ]
  },
  {
   "cell_type": "code",
   "execution_count": 9,
   "id": "0437b1a9-462e-4458-a7fc-0eb0297fbf22",
   "metadata": {},
   "outputs": [],
   "source": [
    "x=seData['end']\n",
    "y=seData['load']"
   ]
  },
  {
   "cell_type": "code",
   "execution_count": 12,
   "id": "426915e8-507a-43d5-9f28-7da735d790d0",
   "metadata": {},
   "outputs": [
    {
     "data": {
      "text/plain": [
       "[<matplotlib.lines.Line2D at 0x1aab638e640>]"
      ]
     },
     "execution_count": 12,
     "metadata": {},
     "output_type": "execute_result"
    },
    {
     "data": {
      "image/png": "[encoded data removed]",
      "text/plain": [
       "<Figure size 432x288 with 1 Axes>"
      ]
     },
     "metadata": {
      "needs_background": "light"
     },
     "output_type": "display_data"
    }
   ],
   "source": [
    "plt.plot(x,y)"
   ]
  },
  {
   "cell_type": "markdown",
   "id": "291f4503-337b-4819-9059-08a2381f44b9",
   "metadata": {},
   "source": [
    "## 데이터 전처리"
   ]
  },
  {
   "cell_type": "code",
   "execution_count": 4,
   "id": "339cc9cf-7e2d-4529-9b91-3a79df97930e",
   "metadata": {},
   "outputs": [],
   "source": [
    "seData = seData.astype( { \"start\":str,\n",
    "                    \"end\":str,\n",
    "                    \"load\":float\n",
    "                    } )"
   ]
  },
  {
   "cell_type": "code",
   "execution_count": 5,
   "id": "e7c46e1b-f617-4d3c-9935-ddafeda33f2a",
   "metadata": {},
   "outputs": [
    {
     "data": {
      "text/plain": [
       "(48887, 3)"
      ]
     },
     "execution_count": 5,
     "metadata": {},
     "output_type": "execute_result"
    }
   ],
   "source": [
    "seData.shape"
   ]
  },
  {
   "cell_type": "code",
   "execution_count": 6,
   "id": "1e799562-9d31-43ec-b9e5-fa65e6a129ab",
   "metadata": {},
   "outputs": [
    {
     "data": {
      "text/html": [
       "<div>\n",
       "<style scoped>\n",
       "    .dataframe tbody tr th:only-of-type {\n",
       "        vertical-align: middle;\n",
       "    }\n",
       "\n",
       "    .dataframe tbody tr th {\n",
       "        vertical-align: top;\n",
       "    }\n",
       "\n",
       "    .dataframe thead th {\n",
       "        text-align: right;\n",
       "    }\n",
       "</style>\n",
       "<table border=\"1\" class=\"dataframe\">\n",
       "  <thead>\n",
       "    <tr style=\"text-align: right;\">\n",
       "      <th></th>\n",
       "      <th>start</th>\n",
       "      <th>end</th>\n",
       "      <th>load</th>\n",
       "    </tr>\n",
       "  </thead>\n",
       "  <tbody>\n",
       "    <tr>\n",
       "      <th>0</th>\n",
       "      <td>201501010000000000</td>\n",
       "      <td>201501010100000000</td>\n",
       "      <td>14726.0</td>\n",
       "    </tr>\n",
       "    <tr>\n",
       "      <th>1</th>\n",
       "      <td>201501010100000000</td>\n",
       "      <td>201501010200000000</td>\n",
       "      <td>14485.0</td>\n",
       "    </tr>\n",
       "    <tr>\n",
       "      <th>2</th>\n",
       "      <td>201501010200000000</td>\n",
       "      <td>201501010300000000</td>\n",
       "      <td>14298.0</td>\n",
       "    </tr>\n",
       "    <tr>\n",
       "      <th>3</th>\n",
       "      <td>201501010300000000</td>\n",
       "      <td>201501010400000000</td>\n",
       "      <td>14249.0</td>\n",
       "    </tr>\n",
       "    <tr>\n",
       "      <th>4</th>\n",
       "      <td>201501010400000000</td>\n",
       "      <td>201501010500000000</td>\n",
       "      <td>14268.0</td>\n",
       "    </tr>\n",
       "    <tr>\n",
       "      <th>...</th>\n",
       "      <td>...</td>\n",
       "      <td>...</td>\n",
       "      <td>...</td>\n",
       "    </tr>\n",
       "    <tr>\n",
       "      <th>48882</th>\n",
       "      <td>202007311900000000</td>\n",
       "      <td>202007312000000000</td>\n",
       "      <td>11880.0</td>\n",
       "    </tr>\n",
       "    <tr>\n",
       "      <th>48883</th>\n",
       "      <td>202007312000000000</td>\n",
       "      <td>202007312100000000</td>\n",
       "      <td>11666.0</td>\n",
       "    </tr>\n",
       "    <tr>\n",
       "      <th>48884</th>\n",
       "      <td>202007312100000000</td>\n",
       "      <td>202007312200000000</td>\n",
       "      <td>10977.0</td>\n",
       "    </tr>\n",
       "    <tr>\n",
       "      <th>48885</th>\n",
       "      <td>202007312200000000</td>\n",
       "      <td>202007312300000000</td>\n",
       "      <td>10430.0</td>\n",
       "    </tr>\n",
       "    <tr>\n",
       "      <th>48886</th>\n",
       "      <td>202007312300000000</td>\n",
       "      <td>202008010000000000</td>\n",
       "      <td>10152.0</td>\n",
       "    </tr>\n",
       "  </tbody>\n",
       "</table>\n",
       "<p>48887 rows × 3 columns</p>\n",
       "</div>"
      ],
      "text/plain": [
       "                    start                 end     load\n",
       "0      201501010000000000  201501010100000000  14726.0\n",
       "1      201501010100000000  201501010200000000  14485.0\n",
       "2      201501010200000000  201501010300000000  14298.0\n",
       "3      201501010300000000  201501010400000000  14249.0\n",
       "4      201501010400000000  201501010500000000  14268.0\n",
       "...                   ...                 ...      ...\n",
       "48882  202007311900000000  202007312000000000  11880.0\n",
       "48883  202007312000000000  202007312100000000  11666.0\n",
       "48884  202007312100000000  202007312200000000  10977.0\n",
       "48885  202007312200000000  202007312300000000  10430.0\n",
       "48886  202007312300000000  202008010000000000  10152.0\n",
       "\n",
       "[48887 rows x 3 columns]"
      ]
     },
     "execution_count": 6,
     "metadata": {},
     "output_type": "execute_result"
    }
   ],
   "source": [
    "seData['start'] = seData['start'].str.replace(pat=r'[^\\w]', repl=r'', regex=True)\n",
    "seData['end'] = seData['end'].str.replace(pat=r'[^\\w]', repl=r'', regex=True)\n",
    "seData = seData.sort_values([\"end\"], ignore_index=True)\n",
    "seData"
   ]
  },
  {
   "cell_type": "code",
   "execution_count": 41,
   "id": "31dad43f-7512-4d26-a5fe-1f5849aa2088",
   "metadata": {},
   "outputs": [
    {
     "data": {
      "text/plain": [
       "0        14726.0\n",
       "1        14485.0\n",
       "2        14298.0\n",
       "3        14249.0\n",
       "4        14268.0\n",
       "          ...   \n",
       "48882    11880.0\n",
       "48883    11666.0\n",
       "48884    10977.0\n",
       "48885    10430.0\n",
       "48886    10152.0\n",
       "Name: load, Length: 48887, dtype: float64"
      ]
     },
     "execution_count": 41,
     "metadata": {},
     "output_type": "execute_result"
    }
   ],
   "source": [
    "seData['load'].np.where(seData['load'] > 15, True, False)"
   ]
  },
  {
   "cell_type": "markdown",
   "id": "85883202-b63e-4c69-85aa-115dfbceb132",
   "metadata": {},
   "source": [
    "## 데이터 분리"
   ]
  },
  {
   "cell_type": "code",
   "execution_count": 7,
   "id": "5eeed6ec-85b4-484e-89bd-e2ea56de62a7",
   "metadata": {},
   "outputs": [
    {
     "data": {
      "text/plain": [
       "'201906201400000000'"
      ]
     },
     "execution_count": 7,
     "metadata": {},
     "output_type": "execute_result"
    }
   ],
   "source": [
    "standardYEARWEEK = 0.8\n",
    "selectedIndex = int(list(seData.shape)[0] * standardYEARWEEK)\n",
    "yearweekStd = seData.loc[selectedIndex].end\n",
    "yearweekStd"
   ]
  },
  {
   "cell_type": "code",
   "execution_count": 8,
   "id": "49fc09d4-9a2e-418a-a1b7-c7b42ff27292",
   "metadata": {},
   "outputs": [],
   "source": [
    "features_data80,\\\n",
    "features_data20,\\\n",
    "label_data80,\\\n",
    "label_data20 = train_test_split(seData.loc[:,['end']],\\\n",
    "                                seData.loc[:,['load']],test_size=0.2,random_state=5)"
   ]
  },
  {
   "cell_type": "markdown",
   "id": "6a381442-a798-4eca-92ed-b5974271f349",
   "metadata": {},
   "source": [
    "## 모델 적용(의사결정나무)"
   ]
  },
  {
   "cell_type": "code",
   "execution_count": 9,
   "id": "06c1fcdf-6357-44d5-a638-6e54c3e40251",
   "metadata": {},
   "outputs": [
    {
     "data": {
      "text/plain": [
       "DecisionTreeRegressor(random_state=5)"
      ]
     },
     "execution_count": 9,
     "metadata": {},
     "output_type": "execute_result"
    }
   ],
   "source": [
    "model = DecisionTreeRegressor(random_state=5)\n",
    "model.fit(X=features_data80 ,y=label_data80)"
   ]
  },
  {
   "cell_type": "markdown",
   "id": "6a177d90-6c64-420f-b118-226cbbbb9bee",
   "metadata": {},
   "source": [
    "## 예측(의사결정나무)"
   ]
  },
  {
   "cell_type": "code",
   "execution_count": 25,
   "id": "73108bf4-27f3-4e6c-8f1a-b3ea53fde99c",
   "metadata": {},
   "outputs": [
    {
     "data": {
      "text/html": [
       "<div>\n",
       "<style scoped>\n",
       "    .dataframe tbody tr th:only-of-type {\n",
       "        vertical-align: middle;\n",
       "    }\n",
       "\n",
       "    .dataframe tbody tr th {\n",
       "        vertical-align: top;\n",
       "    }\n",
       "\n",
       "    .dataframe thead th {\n",
       "        text-align: right;\n",
       "    }\n",
       "</style>\n",
       "<table border=\"1\" class=\"dataframe\">\n",
       "  <thead>\n",
       "    <tr style=\"text-align: right;\">\n",
       "      <th></th>\n",
       "      <th>load</th>\n",
       "      <th>PREDICT</th>\n",
       "      <th>acc</th>\n",
       "    </tr>\n",
       "  </thead>\n",
       "  <tbody>\n",
       "    <tr>\n",
       "      <th>0</th>\n",
       "      <td>10413.0</td>\n",
       "      <td>10935.933333</td>\n",
       "      <td>0.949781</td>\n",
       "    </tr>\n",
       "    <tr>\n",
       "      <th>1</th>\n",
       "      <td>14273.0</td>\n",
       "      <td>15151.842105</td>\n",
       "      <td>0.938426</td>\n",
       "    </tr>\n",
       "    <tr>\n",
       "      <th>2</th>\n",
       "      <td>15522.0</td>\n",
       "      <td>18154.148148</td>\n",
       "      <td>0.830425</td>\n",
       "    </tr>\n",
       "    <tr>\n",
       "      <th>3</th>\n",
       "      <td>18232.0</td>\n",
       "      <td>18261.594595</td>\n",
       "      <td>0.998377</td>\n",
       "    </tr>\n",
       "    <tr>\n",
       "      <th>4</th>\n",
       "      <td>18390.0</td>\n",
       "      <td>18034.923077</td>\n",
       "      <td>0.980692</td>\n",
       "    </tr>\n",
       "    <tr>\n",
       "      <th>...</th>\n",
       "      <td>...</td>\n",
       "      <td>...</td>\n",
       "      <td>...</td>\n",
       "    </tr>\n",
       "    <tr>\n",
       "      <th>9773</th>\n",
       "      <td>11820.0</td>\n",
       "      <td>13302.921053</td>\n",
       "      <td>0.874541</td>\n",
       "    </tr>\n",
       "    <tr>\n",
       "      <th>9774</th>\n",
       "      <td>19950.0</td>\n",
       "      <td>18290.032258</td>\n",
       "      <td>0.916794</td>\n",
       "    </tr>\n",
       "    <tr>\n",
       "      <th>9775</th>\n",
       "      <td>16782.0</td>\n",
       "      <td>14619.771429</td>\n",
       "      <td>0.871158</td>\n",
       "    </tr>\n",
       "    <tr>\n",
       "      <th>9776</th>\n",
       "      <td>21755.0</td>\n",
       "      <td>19594.375000</td>\n",
       "      <td>0.900684</td>\n",
       "    </tr>\n",
       "    <tr>\n",
       "      <th>9777</th>\n",
       "      <td>17249.0</td>\n",
       "      <td>19996.363636</td>\n",
       "      <td>0.840723</td>\n",
       "    </tr>\n",
       "  </tbody>\n",
       "</table>\n",
       "<p>9778 rows × 3 columns</p>\n",
       "</div>"
      ],
      "text/plain": [
       "         load       PREDICT       acc\n",
       "0     10413.0  10935.933333  0.949781\n",
       "1     14273.0  15151.842105  0.938426\n",
       "2     15522.0  18154.148148  0.830425\n",
       "3     18232.0  18261.594595  0.998377\n",
       "4     18390.0  18034.923077  0.980692\n",
       "...       ...           ...       ...\n",
       "9773  11820.0  13302.921053  0.874541\n",
       "9774  19950.0  18290.032258  0.916794\n",
       "9775  16782.0  14619.771429  0.871158\n",
       "9776  21755.0  19594.375000  0.900684\n",
       "9777  17249.0  19996.363636  0.840723\n",
       "\n",
       "[9778 rows x 3 columns]"
      ]
     },
     "execution_count": 25,
     "metadata": {},
     "output_type": "execute_result"
    }
   ],
   "source": [
    "predictValue = model.predict(features_data20)\n",
    "predictDF = pd.DataFrame(list(predictValue),columns=['PREDICT'])\n",
    "validateDf = pd.concat([label_data20.reset_index(drop=True),predictDF],axis=1)\n",
    "# 정확도 컬럼 추가\n",
    "acc = pd.DataFrame(list(1-abs(validateDf['load']-validateDf['PREDICT'])/validateDf2['load']),columns=['acc'])\n",
    "realValidateDf = pd.concat([validateDf.reset_index(drop=True),acc],axis=1)\n",
    "realValidateDf"
   ]
  },
  {
   "cell_type": "markdown",
   "id": "74d48c65-5d30-43e6-8cfc-e3df2d2a8855",
   "metadata": {},
   "source": [
    "## 정확도 검증(의사결정나무)"
   ]
  },
  {
   "cell_type": "code",
   "execution_count": 11,
   "id": "8c3454f7-0795-41f8-bc7c-0ac06554732f",
   "metadata": {},
   "outputs": [
    {
     "data": {
      "text/plain": [
       "(1437.1669439166624, 1736.558449268466)"
      ]
     },
     "execution_count": 11,
     "metadata": {},
     "output_type": "execute_result"
    }
   ],
   "source": [
    "# MAE 평균절대오차\n",
    "mae = mean_absolute_error(y_true=validateDf.load,\n",
    "                   y_pred=validateDf.PREDICT)\n",
    "\n",
    "# RMSE는 평균제곱근오차 MAE와 유사\n",
    "# RMSE는 MAE에 비해 직관성은 떨어지지만, 로버스트한 성격(=극단적이지 않은)에서 강점을 보인다고 정리할 수 있다.\n",
    "# \"큰 오류값 차이에 대해서 크게 패널티를 주는\" 이점이 있음\n",
    "rmse = np.sqrt(mean_squared_error(y_true=validateDf.load,\n",
    "                   y_pred=validateDf.PREDICT))\n",
    "mae,rmse"
   ]
  },
  {
   "cell_type": "markdown",
   "id": "96ce8a89-af76-4b5d-80d7-526744a0533c",
   "metadata": {},
   "source": [
    "## 모델 적용(랜덤 포레스트)"
   ]
  },
  {
   "cell_type": "code",
   "execution_count": 12,
   "id": "7e3d18cb-fc2f-43ac-941a-1535f7ef5a1a",
   "metadata": {},
   "outputs": [
    {
     "name": "stderr",
     "output_type": "stream",
     "text": [
      "<ipython-input-12-ebe69355c09b>:2: DataConversionWarning: A column-vector y was passed when a 1d array was expected. Please change the shape of y to (n_samples,), for example using ravel().\n",
      "  model2.fit(X=features_data80, y=label_data80)\n"
     ]
    },
    {
     "data": {
      "text/plain": [
       "RandomForestRegressor(random_state=5)"
      ]
     },
     "execution_count": 12,
     "metadata": {},
     "output_type": "execute_result"
    }
   ],
   "source": [
    "model2 = RandomForestRegressor(random_state=5)\n",
    "model2.fit(X=features_data80, y=label_data80)"
   ]
  },
  {
   "cell_type": "markdown",
   "id": "dc1e88b8-53bf-47e9-b8fe-59f3a7e9e067",
   "metadata": {},
   "source": [
    "## 예측(랜덤 포레스트)"
   ]
  },
  {
   "cell_type": "code",
   "execution_count": 24,
   "id": "ce82e963-130d-430f-992e-156ae0be77c5",
   "metadata": {},
   "outputs": [
    {
     "data": {
      "text/html": [
       "<div>\n",
       "<style scoped>\n",
       "    .dataframe tbody tr th:only-of-type {\n",
       "        vertical-align: middle;\n",
       "    }\n",
       "\n",
       "    .dataframe tbody tr th {\n",
       "        vertical-align: top;\n",
       "    }\n",
       "\n",
       "    .dataframe thead th {\n",
       "        text-align: right;\n",
       "    }\n",
       "</style>\n",
       "<table border=\"1\" class=\"dataframe\">\n",
       "  <thead>\n",
       "    <tr style=\"text-align: right;\">\n",
       "      <th></th>\n",
       "      <th>load</th>\n",
       "      <th>PREDICT2</th>\n",
       "      <th>acc2</th>\n",
       "    </tr>\n",
       "  </thead>\n",
       "  <tbody>\n",
       "    <tr>\n",
       "      <th>0</th>\n",
       "      <td>10413.0</td>\n",
       "      <td>10917.212913</td>\n",
       "      <td>0.951579</td>\n",
       "    </tr>\n",
       "    <tr>\n",
       "      <th>1</th>\n",
       "      <td>14273.0</td>\n",
       "      <td>15165.240524</td>\n",
       "      <td>0.937488</td>\n",
       "    </tr>\n",
       "    <tr>\n",
       "      <th>2</th>\n",
       "      <td>15522.0</td>\n",
       "      <td>18148.973638</td>\n",
       "      <td>0.830758</td>\n",
       "    </tr>\n",
       "    <tr>\n",
       "      <th>3</th>\n",
       "      <td>18232.0</td>\n",
       "      <td>18283.654283</td>\n",
       "      <td>0.997167</td>\n",
       "    </tr>\n",
       "    <tr>\n",
       "      <th>4</th>\n",
       "      <td>18390.0</td>\n",
       "      <td>18023.071520</td>\n",
       "      <td>0.980047</td>\n",
       "    </tr>\n",
       "    <tr>\n",
       "      <th>...</th>\n",
       "      <td>...</td>\n",
       "      <td>...</td>\n",
       "      <td>...</td>\n",
       "    </tr>\n",
       "    <tr>\n",
       "      <th>9773</th>\n",
       "      <td>11820.0</td>\n",
       "      <td>13280.148078</td>\n",
       "      <td>0.876468</td>\n",
       "    </tr>\n",
       "    <tr>\n",
       "      <th>9774</th>\n",
       "      <td>19950.0</td>\n",
       "      <td>18282.852635</td>\n",
       "      <td>0.916434</td>\n",
       "    </tr>\n",
       "    <tr>\n",
       "      <th>9775</th>\n",
       "      <td>16782.0</td>\n",
       "      <td>14618.347124</td>\n",
       "      <td>0.871073</td>\n",
       "    </tr>\n",
       "    <tr>\n",
       "      <th>9776</th>\n",
       "      <td>21755.0</td>\n",
       "      <td>19584.924866</td>\n",
       "      <td>0.900249</td>\n",
       "    </tr>\n",
       "    <tr>\n",
       "      <th>9777</th>\n",
       "      <td>17249.0</td>\n",
       "      <td>20004.805936</td>\n",
       "      <td>0.840234</td>\n",
       "    </tr>\n",
       "  </tbody>\n",
       "</table>\n",
       "<p>9778 rows × 3 columns</p>\n",
       "</div>"
      ],
      "text/plain": [
       "         load      PREDICT2      acc2\n",
       "0     10413.0  10917.212913  0.951579\n",
       "1     14273.0  15165.240524  0.937488\n",
       "2     15522.0  18148.973638  0.830758\n",
       "3     18232.0  18283.654283  0.997167\n",
       "4     18390.0  18023.071520  0.980047\n",
       "...       ...           ...       ...\n",
       "9773  11820.0  13280.148078  0.876468\n",
       "9774  19950.0  18282.852635  0.916434\n",
       "9775  16782.0  14618.347124  0.871073\n",
       "9776  21755.0  19584.924866  0.900249\n",
       "9777  17249.0  20004.805936  0.840234\n",
       "\n",
       "[9778 rows x 3 columns]"
      ]
     },
     "execution_count": 24,
     "metadata": {},
     "output_type": "execute_result"
    }
   ],
   "source": [
    "predictValue2 = model2.predict(features_data20)\n",
    "predictDF2 = pd.DataFrame(list(predictValue2),columns=['PREDICT2'])\n",
    "validateDf2 = pd.concat([label_data20.reset_index(drop=True),predictDF2],axis=1)\n",
    "# 정확도 컬럼 추가\n",
    "acc2 = pd.DataFrame(list(1-abs(validateDf2['load']-validateDf2['PREDICT2'])/validateDf2['load']),columns=['acc2'])\n",
    "realValidateDf2 = pd.concat([validateDf2.reset_index(drop=True),acc2],axis=1)\n",
    "realValidateDf2"
   ]
  },
  {
   "cell_type": "markdown",
   "id": "8b3c8772-532e-4cb0-9086-feaf6849d4a5",
   "metadata": {},
   "source": [
    "## 정확도 검증(랜덤 포레스트)"
   ]
  },
  {
   "cell_type": "code",
   "execution_count": 14,
   "id": "d73fe1de-e38b-4cd9-8194-5eca5a06895d",
   "metadata": {},
   "outputs": [
    {
     "data": {
      "text/plain": [
       "(1437.1104925242112, 1738.4280830913592)"
      ]
     },
     "execution_count": 14,
     "metadata": {},
     "output_type": "execute_result"
    }
   ],
   "source": [
    "# MAE 평균절대오차\n",
    "mae2 = mean_absolute_error(y_true=validateDf2.load,\n",
    "                   y_pred=validateDf2.PREDICT2)\n",
    "\n",
    "# RMSE는 평균제곱근오차 MAE와 유사\n",
    "# RMSE는 MAE에 비해 직관성은 떨어지지만, 로버스트한 성격(=극단적이지 않은)에서 강점을 보인다고 정리할 수 있다.\n",
    "# \"큰 오류값 차이에 대해서 크게 패널티를 주는\" 이점이 있음\n",
    "rmse2 = np.sqrt(mean_squared_error(y_true=validateDf2.load,\n",
    "                   y_pred=validateDf2.PREDICT2))\n",
    "mae2,rmse2"
   ]
  },
  {
   "cell_type": "markdown",
   "id": "7f0ef751-4748-4cba-a386-1bede829700e",
   "metadata": {},
   "source": [
    "## 모델 적용(선형회귀)"
   ]
  },
  {
   "cell_type": "code",
   "execution_count": 29,
   "id": "5416b491-2c6a-4e37-8c99-dd064e5353e1",
   "metadata": {},
   "outputs": [
    {
     "data": {
      "text/plain": [
       "LinearRegression()"
      ]
     },
     "execution_count": 29,
     "metadata": {},
     "output_type": "execute_result"
    }
   ],
   "source": [
    "model3 = LinearRegression()\n",
    "model3.fit(X=features_data80 ,y=label_data80)"
   ]
  },
  {
   "cell_type": "code",
   "execution_count": 35,
   "id": "ff7ec429-736d-489f-8ba5-796c788ac167",
   "metadata": {},
   "outputs": [
    {
     "data": {
      "text/plain": [
       "array([[-3.07228998e-14]])"
      ]
     },
     "execution_count": 35,
     "metadata": {},
     "output_type": "execute_result"
    }
   ],
   "source": [
    "model3.coef_"
   ]
  },
  {
   "cell_type": "code",
   "execution_count": 36,
   "id": "699a45df-0d52-41b6-b5ee-77ba5cfa02aa",
   "metadata": {},
   "outputs": [
    {
     "data": {
      "text/plain": [
       "array([21788.72650028])"
      ]
     },
     "execution_count": 36,
     "metadata": {},
     "output_type": "execute_result"
    }
   ],
   "source": [
    "model3.intercept_"
   ]
  },
  {
   "cell_type": "code",
   "execution_count": 38,
   "id": "fa16a61e-6989-4311-8327-f6f8b292a338",
   "metadata": {},
   "outputs": [
    {
     "data": {
      "text/html": [
       "<div>\n",
       "<style scoped>\n",
       "    .dataframe tbody tr th:only-of-type {\n",
       "        vertical-align: middle;\n",
       "    }\n",
       "\n",
       "    .dataframe tbody tr th {\n",
       "        vertical-align: top;\n",
       "    }\n",
       "\n",
       "    .dataframe thead th {\n",
       "        text-align: right;\n",
       "    }\n",
       "</style>\n",
       "<table border=\"1\" class=\"dataframe\">\n",
       "  <thead>\n",
       "    <tr style=\"text-align: right;\">\n",
       "      <th></th>\n",
       "      <th>load</th>\n",
       "      <th>PREDICT3</th>\n",
       "      <th>acc3</th>\n",
       "    </tr>\n",
       "  </thead>\n",
       "  <tbody>\n",
       "    <tr>\n",
       "      <th>0</th>\n",
       "      <td>10413.0</td>\n",
       "      <td>15582.483833</td>\n",
       "      <td>0.503555</td>\n",
       "    </tr>\n",
       "    <tr>\n",
       "      <th>1</th>\n",
       "      <td>14273.0</td>\n",
       "      <td>15591.785498</td>\n",
       "      <td>0.907603</td>\n",
       "    </tr>\n",
       "    <tr>\n",
       "      <th>2</th>\n",
       "      <td>15522.0</td>\n",
       "      <td>15585.674707</td>\n",
       "      <td>0.995898</td>\n",
       "    </tr>\n",
       "    <tr>\n",
       "      <th>3</th>\n",
       "      <td>18232.0</td>\n",
       "      <td>15591.848108</td>\n",
       "      <td>0.855191</td>\n",
       "    </tr>\n",
       "    <tr>\n",
       "      <th>4</th>\n",
       "      <td>18390.0</td>\n",
       "      <td>15588.721463</td>\n",
       "      <td>0.847674</td>\n",
       "    </tr>\n",
       "    <tr>\n",
       "      <th>...</th>\n",
       "      <td>...</td>\n",
       "      <td>...</td>\n",
       "      <td>...</td>\n",
       "    </tr>\n",
       "    <tr>\n",
       "      <th>9773</th>\n",
       "      <td>11820.0</td>\n",
       "      <td>15597.754023</td>\n",
       "      <td>0.680393</td>\n",
       "    </tr>\n",
       "    <tr>\n",
       "      <th>9774</th>\n",
       "      <td>19950.0</td>\n",
       "      <td>15594.647311</td>\n",
       "      <td>0.781687</td>\n",
       "    </tr>\n",
       "    <tr>\n",
       "      <th>9775</th>\n",
       "      <td>16782.0</td>\n",
       "      <td>15597.751523</td>\n",
       "      <td>0.929433</td>\n",
       "    </tr>\n",
       "    <tr>\n",
       "      <th>9776</th>\n",
       "      <td>21755.0</td>\n",
       "      <td>15594.617178</td>\n",
       "      <td>0.716829</td>\n",
       "    </tr>\n",
       "    <tr>\n",
       "      <th>9777</th>\n",
       "      <td>17249.0</td>\n",
       "      <td>15591.544308</td>\n",
       "      <td>0.903910</td>\n",
       "    </tr>\n",
       "  </tbody>\n",
       "</table>\n",
       "<p>9778 rows × 3 columns</p>\n",
       "</div>"
      ],
      "text/plain": [
       "         load      PREDICT3      acc3\n",
       "0     10413.0  15582.483833  0.503555\n",
       "1     14273.0  15591.785498  0.907603\n",
       "2     15522.0  15585.674707  0.995898\n",
       "3     18232.0  15591.848108  0.855191\n",
       "4     18390.0  15588.721463  0.847674\n",
       "...       ...           ...       ...\n",
       "9773  11820.0  15597.754023  0.680393\n",
       "9774  19950.0  15594.647311  0.781687\n",
       "9775  16782.0  15597.751523  0.929433\n",
       "9776  21755.0  15594.617178  0.716829\n",
       "9777  17249.0  15591.544308  0.903910\n",
       "\n",
       "[9778 rows x 3 columns]"
      ]
     },
     "execution_count": 38,
     "metadata": {},
     "output_type": "execute_result"
    }
   ],
   "source": [
    "predictValue3 = model3.predict(features_data20)\n",
    "predictDF3 = pd.DataFrame(list(predictValue3),columns=['PREDICT3'])\n",
    "validateDf3 = pd.concat([label_data20.reset_index(drop=True),predictDF3],axis=1)\n",
    "\n",
    "acc3 = pd.DataFrame(list(1-abs(validateDf3['load']-validateDf3['PREDICT3'])/validateDf3['load']),columns=['acc3'])\n",
    "realValidateDf3 = pd.concat([validateDf3.reset_index(drop=True),acc3],axis=1)\n",
    "realValidateDf3"
   ]
  },
  {
   "cell_type": "code",
   "execution_count": 40,
   "id": "eaeaf285-2c8d-4026-9dd2-69bbba35d590",
   "metadata": {},
   "outputs": [
    {
     "data": {
      "text/plain": [
       "-inf"
      ]
     },
     "execution_count": 40,
     "metadata": {},
     "output_type": "execute_result"
    }
   ],
   "source": [
    "realValidateDf3.acc3.mean()"
   ]
  },
  {
   "cell_type": "code",
   "execution_count": 39,
   "id": "54d158e0-7bf1-460a-9932-ee822341c3fe",
   "metadata": {},
   "outputs": [
    {
     "data": {
      "text/plain": [
       "(2788.397503962709, 3414.072749095544)"
      ]
     },
     "execution_count": 39,
     "metadata": {},
     "output_type": "execute_result"
    }
   ],
   "source": [
    "# MAE 평균절대오차\n",
    "mae3 = mean_absolute_error(y_true=validateDf3.load,\n",
    "                   y_pred=validateDf3.PREDICT3)\n",
    "\n",
    "# RMSE는 평균제곱근오차 MAE와 유사\n",
    "# RMSE는 MAE에 비해 직관성은 떨어지지만, 로버스트한 성격(=극단적이지 않은)에서 강점을 보인다고 정리할 수 있다.\n",
    "# \"큰 오류값 차이에 대해서 크게 패널티를 주는\" 이점이 있음\n",
    "rmse3 = np.sqrt(mean_squared_error(y_true=validateDf3.load,\n",
    "                   y_pred=validateDf3.PREDICT3))\n",
    "mae3,rmse3"
   ]
  },
  {
   "cell_type": "code",
   "execution_count": null,
   "id": "8cdc445b-0077-4eae-835b-c1793de8fe7d",
   "metadata": {},
   "outputs": [],
   "source": []
  },
  {
   "cell_type": "markdown",
   "id": "ee2ad316-fae4-45fd-992b-2fb147c85bda",
   "metadata": {},
   "source": [
    "## 서포터백터가 속도적으로 가장 빠르다.\n",
    "## 모델을 여러가지 적용해서 가장 높은 정확도를 도출하는 머신러닝을 찾는것, 또는 데이터셋에 맞춘 모델을 찾는 것을 목표로 한다."
   ]
  },
  {
   "cell_type": "code",
   "execution_count": null,
   "id": "52e3f840-a6eb-4029-8630-0fe6f81db242",
   "metadata": {},
   "outputs": [],
   "source": []
  },
  {
   "cell_type": "markdown",
   "id": "49a7003d-54d5-4c74-8d2c-f99f2e600d21",
   "metadata": {},
   "source": [
    "## 진짜 예측해보기"
   ]
  },
  {
   "cell_type": "code",
   "execution_count": null,
   "id": "71f66f1f-77c1-4a78-9086-5476f87f46bb",
   "metadata": {},
   "outputs": [],
   "source": []
  }
 ],
 "metadata": {
  "kernelspec": {
   "display_name": "Python 3",
   "language": "python",
   "name": "python3"
  },
  "language_info": {
   "codemirror_mode": {
    "name": "ipython",
    "version": 3
   },
   "file_extension": ".py",
   "mimetype": "text/x-python",
   "name": "python",
   "nbconvert_exporter": "python",
   "pygments_lexer": "ipython3",
   "version": "3.8.8"
  }
 },
 "nbformat": 4,
 "nbformat_minor": 5
}
